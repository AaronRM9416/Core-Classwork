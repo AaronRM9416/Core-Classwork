{
  "nbformat": 4,
  "nbformat_minor": 0,
  "metadata": {
    "colab": {
      "name": "Regression Core Assignment",
      "provenance": [],
      "collapsed_sections": [],
      "authorship_tag": "ABX9TyMm0dp2K6m6egBoaB8ELmt9",
      "include_colab_link": true
    },
    "kernelspec": {
      "name": "python3",
      "display_name": "Python 3"
    },
    "language_info": {
      "name": "python"
    }
  },
  "cells": [
    {
      "cell_type": "markdown",
      "metadata": {
        "id": "view-in-github",
        "colab_type": "text"
      },
      "source": [
        "<a href=\"https://colab.research.google.com/github/AaronRM9416/Core-Classwork/blob/main/Regression_Core_Assignment.ipynb\" target=\"_parent\"><img src=\"https://colab.research.google.com/assets/colab-badge.svg\" alt=\"Open In Colab\"/></a>"
      ]
    },
    {
      "cell_type": "markdown",
      "source": [
        "# **Regression Metrics**\n",
        "Aaron Musselwhite\n"
      ],
      "metadata": {
        "id": "qFNYeBsI-sLV"
      }
    },
    {
      "cell_type": "code",
      "source": [
        "import pandas as pd\n",
        "import numpy as np\n",
        "from sklearn.model_selection import train_test_split\n",
        "from sklearn.compose import make_column_selector, make_column_transformer\n",
        "from sklearn.preprocessing import StandardScaler, MinMaxScaler, OneHotEncoder, \\\n",
        "OrdinalEncoder\n",
        "from sklearn.pipeline import make_pipeline\n",
        "from sklearn.impute import SimpleImputer\n",
        "from sklearn import set_config\n",
        "from sklearn.linear_model import LinearRegression\n",
        "import seaborn as sns\n",
        "import matplotlib.pyplot as plt\n",
        "from sklearn.dummy import DummyRegressor\n",
        "from sklearn.metrics import mean_absolute_error, mean_squared_error, r2_score\n",
        "set_config(display='diagram')"
      ],
      "metadata": {
        "id": "A_FwJoxQ8Y0l"
      },
      "execution_count": 10,
      "outputs": []
    },
    {
      "cell_type": "code",
      "execution_count": 3,
      "metadata": {
        "id": "Ih-0ibd87nW7"
      },
      "outputs": [],
      "source": [
        "data='https://docs.google.com/spreadsheets/d/e/2PACX-1vT-rSDIBs1OyB-hyONIDtb4WdszbHNcyT2sUIf8CmLS98dWRKq5Bfyyc7Pt-XqsZS1QYgCUfs0i2u8p/pub?output=csv'"
      ]
    },
    {
      "cell_type": "code",
      "source": [
        "df= pd.read_csv(data)"
      ],
      "metadata": {
        "id": "YniurJkV8T-J"
      },
      "execution_count": 4,
      "outputs": []
    },
    {
      "cell_type": "code",
      "source": [
        "df.head()"
      ],
      "metadata": {
        "colab": {
          "base_uri": "https://localhost:8080/",
          "height": 206
        },
        "id": "i6hjjDYz9Aaq",
        "outputId": "3f293d00-b423-44ae-c913-d6f76563ed0a"
      },
      "execution_count": 5,
      "outputs": [
        {
          "output_type": "execute_result",
          "data": {
            "text/plain": [
              "      CRIM    NOX     RM   AGE  PTRATIO  LSTAT  PRICE\n",
              "0  0.00632  0.538  6.575  65.2     15.3   4.98   24.0\n",
              "1  0.02731  0.469  6.421  78.9     17.8   9.14   21.6\n",
              "2  0.02729  0.469  7.185  61.1     17.8   4.03   34.7\n",
              "3  0.03237  0.458  6.998  45.8     18.7   2.94   33.4\n",
              "4  0.06905  0.458  7.147  54.2     18.7   5.33   36.2"
            ],
            "text/html": [
              "\n",
              "  <div id=\"df-6238af44-1695-4f1d-906c-773b46e56f27\">\n",
              "    <div class=\"colab-df-container\">\n",
              "      <div>\n",
              "<style scoped>\n",
              "    .dataframe tbody tr th:only-of-type {\n",
              "        vertical-align: middle;\n",
              "    }\n",
              "\n",
              "    .dataframe tbody tr th {\n",
              "        vertical-align: top;\n",
              "    }\n",
              "\n",
              "    .dataframe thead th {\n",
              "        text-align: right;\n",
              "    }\n",
              "</style>\n",
              "<table border=\"1\" class=\"dataframe\">\n",
              "  <thead>\n",
              "    <tr style=\"text-align: right;\">\n",
              "      <th></th>\n",
              "      <th>CRIM</th>\n",
              "      <th>NOX</th>\n",
              "      <th>RM</th>\n",
              "      <th>AGE</th>\n",
              "      <th>PTRATIO</th>\n",
              "      <th>LSTAT</th>\n",
              "      <th>PRICE</th>\n",
              "    </tr>\n",
              "  </thead>\n",
              "  <tbody>\n",
              "    <tr>\n",
              "      <th>0</th>\n",
              "      <td>0.00632</td>\n",
              "      <td>0.538</td>\n",
              "      <td>6.575</td>\n",
              "      <td>65.2</td>\n",
              "      <td>15.3</td>\n",
              "      <td>4.98</td>\n",
              "      <td>24.0</td>\n",
              "    </tr>\n",
              "    <tr>\n",
              "      <th>1</th>\n",
              "      <td>0.02731</td>\n",
              "      <td>0.469</td>\n",
              "      <td>6.421</td>\n",
              "      <td>78.9</td>\n",
              "      <td>17.8</td>\n",
              "      <td>9.14</td>\n",
              "      <td>21.6</td>\n",
              "    </tr>\n",
              "    <tr>\n",
              "      <th>2</th>\n",
              "      <td>0.02729</td>\n",
              "      <td>0.469</td>\n",
              "      <td>7.185</td>\n",
              "      <td>61.1</td>\n",
              "      <td>17.8</td>\n",
              "      <td>4.03</td>\n",
              "      <td>34.7</td>\n",
              "    </tr>\n",
              "    <tr>\n",
              "      <th>3</th>\n",
              "      <td>0.03237</td>\n",
              "      <td>0.458</td>\n",
              "      <td>6.998</td>\n",
              "      <td>45.8</td>\n",
              "      <td>18.7</td>\n",
              "      <td>2.94</td>\n",
              "      <td>33.4</td>\n",
              "    </tr>\n",
              "    <tr>\n",
              "      <th>4</th>\n",
              "      <td>0.06905</td>\n",
              "      <td>0.458</td>\n",
              "      <td>7.147</td>\n",
              "      <td>54.2</td>\n",
              "      <td>18.7</td>\n",
              "      <td>5.33</td>\n",
              "      <td>36.2</td>\n",
              "    </tr>\n",
              "  </tbody>\n",
              "</table>\n",
              "</div>\n",
              "      <button class=\"colab-df-convert\" onclick=\"convertToInteractive('df-6238af44-1695-4f1d-906c-773b46e56f27')\"\n",
              "              title=\"Convert this dataframe to an interactive table.\"\n",
              "              style=\"display:none;\">\n",
              "        \n",
              "  <svg xmlns=\"http://www.w3.org/2000/svg\" height=\"24px\"viewBox=\"0 0 24 24\"\n",
              "       width=\"24px\">\n",
              "    <path d=\"M0 0h24v24H0V0z\" fill=\"none\"/>\n",
              "    <path d=\"M18.56 5.44l.94 2.06.94-2.06 2.06-.94-2.06-.94-.94-2.06-.94 2.06-2.06.94zm-11 1L8.5 8.5l.94-2.06 2.06-.94-2.06-.94L8.5 2.5l-.94 2.06-2.06.94zm10 10l.94 2.06.94-2.06 2.06-.94-2.06-.94-.94-2.06-.94 2.06-2.06.94z\"/><path d=\"M17.41 7.96l-1.37-1.37c-.4-.4-.92-.59-1.43-.59-.52 0-1.04.2-1.43.59L10.3 9.45l-7.72 7.72c-.78.78-.78 2.05 0 2.83L4 21.41c.39.39.9.59 1.41.59.51 0 1.02-.2 1.41-.59l7.78-7.78 2.81-2.81c.8-.78.8-2.07 0-2.86zM5.41 20L4 18.59l7.72-7.72 1.47 1.35L5.41 20z\"/>\n",
              "  </svg>\n",
              "      </button>\n",
              "      \n",
              "  <style>\n",
              "    .colab-df-container {\n",
              "      display:flex;\n",
              "      flex-wrap:wrap;\n",
              "      gap: 12px;\n",
              "    }\n",
              "\n",
              "    .colab-df-convert {\n",
              "      background-color: #E8F0FE;\n",
              "      border: none;\n",
              "      border-radius: 50%;\n",
              "      cursor: pointer;\n",
              "      display: none;\n",
              "      fill: #1967D2;\n",
              "      height: 32px;\n",
              "      padding: 0 0 0 0;\n",
              "      width: 32px;\n",
              "    }\n",
              "\n",
              "    .colab-df-convert:hover {\n",
              "      background-color: #E2EBFA;\n",
              "      box-shadow: 0px 1px 2px rgba(60, 64, 67, 0.3), 0px 1px 3px 1px rgba(60, 64, 67, 0.15);\n",
              "      fill: #174EA6;\n",
              "    }\n",
              "\n",
              "    [theme=dark] .colab-df-convert {\n",
              "      background-color: #3B4455;\n",
              "      fill: #D2E3FC;\n",
              "    }\n",
              "\n",
              "    [theme=dark] .colab-df-convert:hover {\n",
              "      background-color: #434B5C;\n",
              "      box-shadow: 0px 1px 3px 1px rgba(0, 0, 0, 0.15);\n",
              "      filter: drop-shadow(0px 1px 2px rgba(0, 0, 0, 0.3));\n",
              "      fill: #FFFFFF;\n",
              "    }\n",
              "  </style>\n",
              "\n",
              "      <script>\n",
              "        const buttonEl =\n",
              "          document.querySelector('#df-6238af44-1695-4f1d-906c-773b46e56f27 button.colab-df-convert');\n",
              "        buttonEl.style.display =\n",
              "          google.colab.kernel.accessAllowed ? 'block' : 'none';\n",
              "\n",
              "        async function convertToInteractive(key) {\n",
              "          const element = document.querySelector('#df-6238af44-1695-4f1d-906c-773b46e56f27');\n",
              "          const dataTable =\n",
              "            await google.colab.kernel.invokeFunction('convertToInteractive',\n",
              "                                                     [key], {});\n",
              "          if (!dataTable) return;\n",
              "\n",
              "          const docLinkHtml = 'Like what you see? Visit the ' +\n",
              "            '<a target=\"_blank\" href=https://colab.research.google.com/notebooks/data_table.ipynb>data table notebook</a>'\n",
              "            + ' to learn more about interactive tables.';\n",
              "          element.innerHTML = '';\n",
              "          dataTable['output_type'] = 'display_data';\n",
              "          await google.colab.output.renderOutput(dataTable, element);\n",
              "          const docLink = document.createElement('div');\n",
              "          docLink.innerHTML = docLinkHtml;\n",
              "          element.appendChild(docLink);\n",
              "        }\n",
              "      </script>\n",
              "    </div>\n",
              "  </div>\n",
              "  "
            ]
          },
          "metadata": {},
          "execution_count": 5
        }
      ]
    },
    {
      "cell_type": "code",
      "source": [
        "df.info()"
      ],
      "metadata": {
        "colab": {
          "base_uri": "https://localhost:8080/"
        },
        "id": "hU5PmkXdofPy",
        "outputId": "0f104d96-0058-425d-9245-97a4cd69eaa9"
      },
      "execution_count": 7,
      "outputs": [
        {
          "output_type": "stream",
          "name": "stdout",
          "text": [
            "<class 'pandas.core.frame.DataFrame'>\n",
            "RangeIndex: 506 entries, 0 to 505\n",
            "Data columns (total 7 columns):\n",
            " #   Column   Non-Null Count  Dtype  \n",
            "---  ------   --------------  -----  \n",
            " 0   CRIM     506 non-null    float64\n",
            " 1   NOX      506 non-null    float64\n",
            " 2   RM       506 non-null    float64\n",
            " 3   AGE      506 non-null    float64\n",
            " 4   PTRATIO  506 non-null    float64\n",
            " 5   LSTAT    506 non-null    float64\n",
            " 6   PRICE    506 non-null    float64\n",
            "dtypes: float64(7)\n",
            "memory usage: 27.8 KB\n"
          ]
        }
      ]
    },
    {
      "cell_type": "code",
      "source": [
        "df.duplicated().sum()"
      ],
      "metadata": {
        "colab": {
          "base_uri": "https://localhost:8080/"
        },
        "id": "2BvakaKVoUc_",
        "outputId": "79640e13-d5b6-4216-ecd0-db1abb748f79"
      },
      "execution_count": 6,
      "outputs": [
        {
          "output_type": "execute_result",
          "data": {
            "text/plain": [
              "0"
            ]
          },
          "metadata": {},
          "execution_count": 6
        }
      ]
    },
    {
      "cell_type": "markdown",
      "source": [
        "1) Make a heatmap of the correlations. Identify any features that have a correlation coefficient of magnitude 0.5 (could be + or -) or greater with price. We will limit our analysis to these three features."
      ],
      "metadata": {
        "id": "Ti5QWsvVohYP"
      }
    },
    {
      "cell_type": "code",
      "source": [
        "corr = df.corr()\n",
        "plt.figure(figsize= (10,10))\n",
        "sns.heatmap(corr, cmap='gist_rainbow', annot=True)"
      ],
      "metadata": {
        "colab": {
          "base_uri": "https://localhost:8080/",
          "height": 613
        },
        "id": "6Yp8nVWEoc9I",
        "outputId": "fcb06869-c6fc-4172-9be5-2e5a9a7987bd"
      },
      "execution_count": 12,
      "outputs": [
        {
          "output_type": "execute_result",
          "data": {
            "text/plain": [
              "<matplotlib.axes._subplots.AxesSubplot at 0x7f5a44e50410>"
            ]
          },
          "metadata": {},
          "execution_count": 12
        },
        {
          "output_type": "display_data",
          "data": {
            "text/plain": [
              "<Figure size 720x720 with 2 Axes>"
            ],
            "image/png": "[encoded data removed]"
          },
          "metadata": {
            "needs_background": "light"
          }
        }
      ]
    },
    {
      "cell_type": "markdown",
      "source": [
        "***Nox-age, nox-Lsat,rm-lstat, rm-price, age-Lstat,ptratio-price,***"
      ],
      "metadata": {
        "id": "b_pWh-dfs1gp"
      }
    },
    {
      "cell_type": "markdown",
      "source": [
        "2) Select columns for your feature matrix (X) and select PRICE for your target vector (y)."
      ],
      "metadata": {
        "id": "8t6YcLNXsa_6"
      }
    },
    {
      "cell_type": "code",
      "source": [
        "x = df.drop(columns='PRICE')\n",
        "y = df['PRICE']"
      ],
      "metadata": {
        "id": "avFpRTXUpH9n"
      },
      "execution_count": 13,
      "outputs": []
    },
    {
      "cell_type": "markdown",
      "source": [
        "3) Split your data into train and test groups. Please use random number 42 for consistency!"
      ],
      "metadata": {
        "id": "Te5D_orwsXrz"
      }
    },
    {
      "cell_type": "code",
      "source": [
        "x_train, x_test, y_train, y_test = train_test_split(x,y,random_state = 42)"
      ],
      "metadata": {
        "id": "yveioc9HpSAb"
      },
      "execution_count": 14,
      "outputs": []
    },
    {
      "cell_type": "markdown",
      "source": [
        "4) Instantiate your model and fit it on the training set."
      ],
      "metadata": {
        "id": "hk1VnWJisNeW"
      }
    },
    {
      "cell_type": "code",
      "source": [
        "teas_gone_cold = StandardScaler()\n",
        "line_regg = LinearRegression()\n",
        "\n",
        "lineregg_pipe = make_pipeline(teas_gone_cold, line_regg)\n",
        "\n",
        "lineregg_pipe.fit(x_train, y_train)"
      ],
      "metadata": {
        "colab": {
          "base_uri": "https://localhost:8080/",
          "height": 126
        },
        "id": "RT52zo-QpUT_",
        "outputId": "71914eef-37fe-4f46-ecef-edbbe93797ef"
      },
      "execution_count": 17,
      "outputs": [
        {
          "output_type": "execute_result",
          "data": {
            "text/plain": [
              "Pipeline(steps=[('standardscaler', StandardScaler()),\n",
              "                ('linearregression', LinearRegression())])"
            ],
            "text/html": [
              "<style>#sk-acad3483-4dea-49ae-b235-01040e88ab2b {color: black;background-color: white;}#sk-acad3483-4dea-49ae-b235-01040e88ab2b pre{padding: 0;}#sk-acad3483-4dea-49ae-b235-01040e88ab2b div.sk-toggleable {background-color: white;}#sk-acad3483-4dea-49ae-b235-01040e88ab2b label.sk-toggleable__label {cursor: pointer;display: block;width: 100%;margin-bottom: 0;padding: 0.3em;box-sizing: border-box;text-align: center;}#sk-acad3483-4dea-49ae-b235-01040e88ab2b label.sk-toggleable__label-arrow:before {content: \"▸\";float: left;margin-right: 0.25em;color: #696969;}#sk-acad3483-4dea-49ae-b235-01040e88ab2b label.sk-toggleable__label-arrow:hover:before {color: black;}#sk-acad3483-4dea-49ae-b235-01040e88ab2b div.sk-estimator:hover label.sk-toggleable__label-arrow:before {color: black;}#sk-acad3483-4dea-49ae-b235-01040e88ab2b div.sk-toggleable__content {max-height: 0;max-width: 0;overflow: hidden;text-align: left;background-color: #f0f8ff;}#sk-acad3483-4dea-49ae-b235-01040e88ab2b div.sk-toggleable__content pre {margin: 0.2em;color: black;border-radius: 0.25em;background-color: #f0f8ff;}#sk-acad3483-4dea-49ae-b235-01040e88ab2b input.sk-toggleable__control:checked~div.sk-toggleable__content {max-height: 200px;max-width: 100%;overflow: auto;}#sk-acad3483-4dea-49ae-b235-01040e88ab2b input.sk-toggleable__control:checked~label.sk-toggleable__label-arrow:before {content: \"▾\";}#sk-acad3483-4dea-49ae-b235-01040e88ab2b div.sk-estimator input.sk-toggleable__control:checked~label.sk-toggleable__label {background-color: #d4ebff;}#sk-acad3483-4dea-49ae-b235-01040e88ab2b div.sk-label input.sk-toggleable__control:checked~label.sk-toggleable__label {background-color: #d4ebff;}#sk-acad3483-4dea-49ae-b235-01040e88ab2b input.sk-hidden--visually {border: 0;clip: rect(1px 1px 1px 1px);clip: rect(1px, 1px, 1px, 1px);height: 1px;margin: -1px;overflow: hidden;padding: 0;position: absolute;width: 1px;}#sk-acad3483-4dea-49ae-b235-01040e88ab2b div.sk-estimator {font-family: monospace;background-color: #f0f8ff;border: 1px dotted black;border-radius: 0.25em;box-sizing: border-box;margin-bottom: 0.5em;}#sk-acad3483-4dea-49ae-b235-01040e88ab2b div.sk-estimator:hover {background-color: #d4ebff;}#sk-acad3483-4dea-49ae-b235-01040e88ab2b div.sk-parallel-item::after {content: \"\";width: 100%;border-bottom: 1px solid gray;flex-grow: 1;}#sk-acad3483-4dea-49ae-b235-01040e88ab2b div.sk-label:hover label.sk-toggleable__label {background-color: #d4ebff;}#sk-acad3483-4dea-49ae-b235-01040e88ab2b div.sk-serial::before {content: \"\";position: absolute;border-left: 1px solid gray;box-sizing: border-box;top: 2em;bottom: 0;left: 50%;}#sk-acad3483-4dea-49ae-b235-01040e88ab2b div.sk-serial {display: flex;flex-direction: column;align-items: center;background-color: white;padding-right: 0.2em;padding-left: 0.2em;}#sk-acad3483-4dea-49ae-b235-01040e88ab2b div.sk-item {z-index: 1;}#sk-acad3483-4dea-49ae-b235-01040e88ab2b div.sk-parallel {display: flex;align-items: stretch;justify-content: center;background-color: white;}#sk-acad3483-4dea-49ae-b235-01040e88ab2b div.sk-parallel::before {content: \"\";position: absolute;border-left: 1px solid gray;box-sizing: border-box;top: 2em;bottom: 0;left: 50%;}#sk-acad3483-4dea-49ae-b235-01040e88ab2b div.sk-parallel-item {display: flex;flex-direction: column;position: relative;background-color: white;}#sk-acad3483-4dea-49ae-b235-01040e88ab2b div.sk-parallel-item:first-child::after {align-self: flex-end;width: 50%;}#sk-acad3483-4dea-49ae-b235-01040e88ab2b div.sk-parallel-item:last-child::after {align-self: flex-start;width: 50%;}#sk-acad3483-4dea-49ae-b235-01040e88ab2b div.sk-parallel-item:only-child::after {width: 0;}#sk-acad3483-4dea-49ae-b235-01040e88ab2b div.sk-dashed-wrapped {border: 1px dashed gray;margin: 0 0.4em 0.5em 0.4em;box-sizing: border-box;padding-bottom: 0.4em;background-color: white;position: relative;}#sk-acad3483-4dea-49ae-b235-01040e88ab2b div.sk-label label {font-family: monospace;font-weight: bold;background-color: white;display: inline-block;line-height: 1.2em;}#sk-acad3483-4dea-49ae-b235-01040e88ab2b div.sk-label-container {position: relative;z-index: 2;text-align: center;}#sk-acad3483-4dea-49ae-b235-01040e88ab2b div.sk-container {/* jupyter's `normalize.less` sets `[hidden] { display: none; }` but bootstrap.min.css set `[hidden] { display: none !important; }` so we also need the `!important` here to be able to override the default hidden behavior on the sphinx rendered scikit-learn.org. See: https://github.com/scikit-learn/scikit-learn/issues/21755 */display: inline-block !important;position: relative;}#sk-acad3483-4dea-49ae-b235-01040e88ab2b div.sk-text-repr-fallback {display: none;}</style><div id=\"sk-acad3483-4dea-49ae-b235-01040e88ab2b\" class=\"sk-top-container\"><div class=\"sk-text-repr-fallback\"><pre>Pipeline(steps=[(&#x27;standardscaler&#x27;, StandardScaler()),\n",
              "                (&#x27;linearregression&#x27;, LinearRegression())])</pre><b>Please rerun this cell to show the HTML repr or trust the notebook.</b></div><div class=\"sk-container\" hidden><div class=\"sk-item sk-dashed-wrapped\"><div class=\"sk-label-container\"><div class=\"sk-label sk-toggleable\"><input class=\"sk-toggleable__control sk-hidden--visually\" id=\"2f14412f-0148-4037-97b9-949b68126d30\" type=\"checkbox\" ><label for=\"2f14412f-0148-4037-97b9-949b68126d30\" class=\"sk-toggleable__label sk-toggleable__label-arrow\">Pipeline</label><div class=\"sk-toggleable__content\"><pre>Pipeline(steps=[(&#x27;standardscaler&#x27;, StandardScaler()),\n",
              "                (&#x27;linearregression&#x27;, LinearRegression())])</pre></div></div></div><div class=\"sk-serial\"><div class=\"sk-item\"><div class=\"sk-estimator sk-toggleable\"><input class=\"sk-toggleable__control sk-hidden--visually\" id=\"9e28c433-0944-4ed6-a6ab-28c7385056fb\" type=\"checkbox\" ><label for=\"9e28c433-0944-4ed6-a6ab-28c7385056fb\" class=\"sk-toggleable__label sk-toggleable__label-arrow\">StandardScaler</label><div class=\"sk-toggleable__content\"><pre>StandardScaler()</pre></div></div></div><div class=\"sk-item\"><div class=\"sk-estimator sk-toggleable\"><input class=\"sk-toggleable__control sk-hidden--visually\" id=\"767c1e84-fad6-41df-ba19-6da5349b906c\" type=\"checkbox\" ><label for=\"767c1e84-fad6-41df-ba19-6da5349b906c\" class=\"sk-toggleable__label sk-toggleable__label-arrow\">LinearRegression</label><div class=\"sk-toggleable__content\"><pre>LinearRegression()</pre></div></div></div></div></div></div></div>"
            ]
          },
          "metadata": {},
          "execution_count": 17
        }
      ]
    },
    {
      "cell_type": "code",
      "source": [
        "trainpred = lineregg_pipe.predict(x_train)\n",
        "testpred = lineregg_pipe.predict(x_test)"
      ],
      "metadata": {
        "id": "ZhDuI5aRpXPr"
      },
      "execution_count": 19,
      "outputs": []
    },
    {
      "cell_type": "markdown",
      "source": [
        "5) Evaluate your model performance using R^2 on the training set and on the test set. Is there a difference between model performance on the training data vs the test data?"
      ],
      "metadata": {
        "id": "ivk3yAnlsAGZ"
      }
    },
    {
      "cell_type": "code",
      "source": [
        "R2train = np.corrcoef(y_train, trainpred)[0][1]**2\n",
        "R2test = np.corrcoef(y_test, testpred)[0][1]**2\n",
        "\n",
        "print(f'Model Training R2: {R2train}')\n",
        "print(f'Model Testing R2: {R2test}')"
      ],
      "metadata": {
        "colab": {
          "base_uri": "https://localhost:8080/"
        },
        "id": "ecBaUy54pwHZ",
        "outputId": "2d14fd21-4efd-49dc-b979-8d957d40494d"
      },
      "execution_count": 20,
      "outputs": [
        {
          "output_type": "stream",
          "name": "stdout",
          "text": [
            "Model Training R2: 0.6954015699310795\n",
            "Model Testing R2: 0.6402568238067076\n"
          ]
        }
      ]
    },
    {
      "cell_type": "markdown",
      "source": [
        "6) Evaluate your model using mean absolute error (MAE)."
      ],
      "metadata": {
        "id": "WadswN1Wr6jp"
      }
    },
    {
      "cell_type": "code",
      "source": [
        "MAEtrain = np.mean(np.abs(trainpred - y_train))\n",
        "MAEtest = np.mean(np.abs(testpred - y_test))\n",
        "\n",
        "print(f'Model Training MAE: {MAEtrain}')\n",
        "print(f'Model Testing MAE: {MAEtrain}')"
      ],
      "metadata": {
        "colab": {
          "base_uri": "https://localhost:8080/"
        },
        "id": "wWgpC6QBqGiR",
        "outputId": "d9cb72fd-a9e9-48e1-eec5-61a77055feef"
      },
      "execution_count": 21,
      "outputs": [
        {
          "output_type": "stream",
          "name": "stdout",
          "text": [
            "Model Training MAE: 3.6696193784155042\n",
            "Model Testing MAE: 3.6696193784155042\n"
          ]
        }
      ]
    },
    {
      "cell_type": "markdown",
      "source": [
        "7) Evaluate your model using mean squared error (MSE)."
      ],
      "metadata": {
        "id": "uDuxqtJ_r4SL"
      }
    },
    {
      "cell_type": "code",
      "source": [
        "MSEtrain = np.mean(np.abs(trainpred - y_train)**2)\n",
        "MSEtest = np.mean(np.abs(testpred - y_test)**2)\n",
        "\n",
        "print(f'Model Training MSE: {MSEtrain}')\n",
        "print(f'Model Testing MSE: {MSEtrain}')"
      ],
      "metadata": {
        "colab": {
          "base_uri": "https://localhost:8080/"
        },
        "id": "aGGgbS3FqIfe",
        "outputId": "2755f236-e617-41cc-8278-0e2355aefbdb"
      },
      "execution_count": 22,
      "outputs": [
        {
          "output_type": "stream",
          "name": "stdout",
          "text": [
            "Model Training MSE: 27.01231620258666\n",
            "Model Testing MSE: 27.01231620258666\n"
          ]
        }
      ]
    },
    {
      "cell_type": "markdown",
      "source": [
        "8) Evaluate your model performance using RMSE on the training set and on the test set. This metric is useful because the units will be in the same units as your target vector. In this case 1,000 of dollars"
      ],
      "metadata": {
        "id": "g7S0yssRr28p"
      }
    },
    {
      "cell_type": "code",
      "source": [
        "RMSEtrain = np.sqrt(MSEtrain)\n",
        "RMSEtest = np.sqrt(MSEtest)\n",
        "\n",
        "print(f'Model Training RMSE: {RMSEtrain}')\n",
        "print(f'Model Testing RMSE: {RMSEtest}')"
      ],
      "metadata": {
        "colab": {
          "base_uri": "https://localhost:8080/"
        },
        "id": "sJ3_8erHqn2b",
        "outputId": "81d824f9-6b0f-4e29-8e22-ba6840df68f9"
      },
      "execution_count": 24,
      "outputs": [
        {
          "output_type": "stream",
          "name": "stdout",
          "text": [
            "Model Training RMSE: 5.197337414733304\n",
            "Model Testing RMSE: 5.051305937449763\n"
          ]
        }
      ]
    }
  ]
}