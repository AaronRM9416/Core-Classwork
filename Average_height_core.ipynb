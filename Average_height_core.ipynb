{
  "nbformat": 4,
  "nbformat_minor": 0,
  "metadata": {
    "colab": {
      "name": "Average_height_core",
      "provenance": [],
      "collapsed_sections": [],
      "authorship_tag": "ABX9TyPhA1NzWO1czt7ByE66wwJL",
      "include_colab_link": true
    },
    "kernelspec": {
      "name": "python3",
      "display_name": "Python 3"
    },
    "language_info": {
      "name": "python"
    }
  },
  "cells": [
    {
      "cell_type": "markdown",
      "metadata": {
        "id": "view-in-github",
        "colab_type": "text"
      },
      "source": [
        "<a href=\"https://colab.research.google.com/github/AaronRM9416/Core-Classwork/blob/main/Average_height_core.ipynb\" target=\"_parent\"><img src=\"https://colab.research.google.com/assets/colab-badge.svg\" alt=\"Open In Colab\"/></a>"
      ]
    },
    {
      "cell_type": "markdown",
      "source": [
        "# Average Height Core Assignment\n",
        "\n",
        "Aaron Musselwhite\n",
        "\n",
        "8/4/2022"
      ],
      "metadata": {
        "id": "efAtL4v7pr83"
      }
    },
    {
      "cell_type": "code",
      "source": [
        "import pandas as pd ##only needed pandas for this so i only imported that"
      ],
      "metadata": {
        "id": "9QP8sSAPqjij"
      },
      "execution_count": 52,
      "outputs": []
    },
    {
      "cell_type": "code",
      "execution_count": 53,
      "metadata": {
        "id": "0Fszv7RYh5kf"
      },
      "outputs": [],
      "source": [
        "filename = 'https://docs.google.com/spreadsheets/d/e/2PACX-1vT011yk3_aIhd6CBCqCVScThW4V4Cf8gbW5nMY87ir61niyzXRBauD3flN0y52AGhHl2J2c7pgfdPEX/pub?output=csv'"
      ]
    },
    {
      "cell_type": "code",
      "source": [
        "df=pd.read_csv(filename)\n",
        "df.info() ## putting my data in front of me"
      ],
      "metadata": {
        "colab": {
          "base_uri": "https://localhost:8080/"
        },
        "id": "viUGztRXrr2s",
        "outputId": "b522e689-e7a2-4914-9bdf-01efc358a381"
      },
      "execution_count": 54,
      "outputs": [
        {
          "metadata": {
            "tags": null
          },
          "name": "stdout",
          "output_type": "stream",
          "text": [
            "<class 'pandas.core.frame.DataFrame'>\n",
            "RangeIndex: 40616 entries, 0 to 40615\n",
            "Data columns (total 12 columns):\n",
            " #   Column  Non-Null Count  Dtype  \n",
            "---  ------  --------------  -----  \n",
            " 0   ID      40616 non-null  int64  \n",
            " 1   Age     39143 non-null  float64\n",
            " 2   Height  31615 non-null  float64\n",
            " 3   Team    40616 non-null  object \n",
            " 4   NOC     40616 non-null  object \n",
            " 5   Games   40616 non-null  object \n",
            " 6   Year    40616 non-null  int64  \n",
            " 7   Season  40616 non-null  object \n",
            " 8   City    40616 non-null  object \n",
            " 9   Sport   40616 non-null  object \n",
            " 10  Event   40616 non-null  object \n",
            " 11  Medal   5917 non-null   object \n",
            "dtypes: float64(2), int64(2), object(8)\n",
            "memory usage: 3.7+ MB\n"
          ]
        }
      ]
    },
    {
      "cell_type": "markdown",
      "source": [
        "# 1"
      ],
      "metadata": {
        "id": "igJJs2jrqyKE"
      }
    },
    {
      "cell_type": "code",
      "source": [
        "df.shape"
      ],
      "metadata": {
        "colab": {
          "base_uri": "https://localhost:8080/"
        },
        "id": "qsWT-yrdsZN4",
        "outputId": "d57b58a7-98cf-48b7-c003-f28600f9d616"
      },
      "execution_count": 55,
      "outputs": [
        {
          "data": {
            "text/plain": [
              "(40616, 12)"
            ]
          },
          "execution_count": 55,
          "metadata": {},
          "output_type": "execute_result"
        }
      ]
    },
    {
      "cell_type": "markdown",
      "source": [
        " a. How many rows?\n",
        "\n",
        "     "
      ],
      "metadata": {
        "id": "Mb0wkNZiqFsc"
      }
    },
    {
      "cell_type": "code",
      "source": [
        "len(df)"
      ],
      "metadata": {
        "colab": {
          "base_uri": "https://localhost:8080/"
        },
        "id": "_7H9eNjisYlW",
        "outputId": "952f7d6b-81cd-443b-879f-1bb012dbbc08"
      },
      "execution_count": 56,
      "outputs": [
        {
          "data": {
            "text/plain": [
              "40616"
            ]
          },
          "execution_count": 56,
          "metadata": {},
          "output_type": "execute_result"
        }
      ]
    },
    {
      "cell_type": "markdown",
      "source": [
        "b. How many columns?\n",
        "\n",
        "     "
      ],
      "metadata": {
        "id": "Qpl_XMR_qF4t"
      }
    },
    {
      "cell_type": "code",
      "source": [
        "len(df.columns)"
      ],
      "metadata": {
        "colab": {
          "base_uri": "https://localhost:8080/"
        },
        "id": "LGYK8bV9u89m",
        "outputId": "aaa834a7-3c45-42d2-91c5-94f84a8f83a9"
      },
      "execution_count": 57,
      "outputs": [
        {
          "data": {
            "text/plain": [
              "12"
            ]
          },
          "execution_count": 57,
          "metadata": {},
          "output_type": "execute_result"
        }
      ]
    },
    {
      "cell_type": "markdown",
      "source": [
        "c. Which columns have missing values? (Why do think there are there so many null values in the Medals column?)\n",
        "\n",
        "    "
      ],
      "metadata": {
        "id": "CgcpGuEGqGGe"
      }
    },
    {
      "cell_type": "code",
      "source": [
        "df.isna().sum() ## I believe the excess of NA in the Medal category is due to the fact that not everyone walks away with a medal. Three awards are given for each event so not everyone will walk away with a medal"
      ],
      "metadata": {
        "colab": {
          "base_uri": "https://localhost:8080/"
        },
        "id": "niMe-q5avCAv",
        "outputId": "404d625d-d58c-4217-92f7-730cde9f44e6"
      },
      "execution_count": 58,
      "outputs": [
        {
          "data": {
            "text/plain": [
              "ID            0\n",
              "Age        1473\n",
              "Height     9001\n",
              "Team          0\n",
              "NOC           0\n",
              "Games         0\n",
              "Year          0\n",
              "Season        0\n",
              "City          0\n",
              "Sport         0\n",
              "Event         0\n",
              "Medal     34699\n",
              "dtype: int64"
            ]
          },
          "execution_count": 58,
          "metadata": {},
          "output_type": "execute_result"
        }
      ]
    },
    {
      "cell_type": "markdown",
      "source": [
        " d. How many entries correspond to the city of London?\n",
        "\n",
        "     "
      ],
      "metadata": {
        "id": "fflPydMdqGVz"
      }
    },
    {
      "cell_type": "code",
      "source": [
        "filter_london = df['City'] == 'London' ##I Filtered London out"
      ],
      "metadata": {
        "id": "wOPrX9YJwga9"
      },
      "execution_count": 59,
      "outputs": []
    },
    {
      "cell_type": "code",
      "source": [
        "df.loc[filter_london].shape ##applied my filter and found the number of entries related to the variable"
      ],
      "metadata": {
        "colab": {
          "base_uri": "https://localhost:8080/"
        },
        "id": "jxywMp8XzPrl",
        "outputId": "1a3f5207-43d5-4274-f44a-fc3cec140d56"
      },
      "execution_count": 60,
      "outputs": [
        {
          "data": {
            "text/plain": [
              "(3370, 12)"
            ]
          },
          "execution_count": 60,
          "metadata": {},
          "output_type": "execute_result"
        }
      ]
    },
    {
      "cell_type": "markdown",
      "source": [
        "e. What age is the youngest athlete in our sample data?  Hint: use min()"
      ],
      "metadata": {
        "id": "l3i80v1CqTAd"
      }
    },
    {
      "cell_type": "code",
      "source": [
        "df['Age'].min()"
      ],
      "metadata": {
        "colab": {
          "base_uri": "https://localhost:8080/"
        },
        "id": "e9YyxTDcxY_1",
        "outputId": "bfaeddc2-da41-41d9-a1ca-5b83613dba32"
      },
      "execution_count": 61,
      "outputs": [
        {
          "data": {
            "text/plain": [
              "11.0"
            ]
          },
          "execution_count": 61,
          "metadata": {},
          "output_type": "execute_result"
        }
      ]
    },
    {
      "cell_type": "markdown",
      "source": [
        "# 2"
      ],
      "metadata": {
        "id": "49cX4_1uquyM"
      }
    },
    {
      "cell_type": "code",
      "source": [
        "df.info()"
      ],
      "metadata": {
        "colab": {
          "base_uri": "https://localhost:8080/"
        },
        "id": "5fIMLYR30ZI3",
        "outputId": "cf18dc28-dec2-4734-8dac-5e475e548e38"
      },
      "execution_count": 62,
      "outputs": [
        {
          "metadata": {
            "tags": null
          },
          "name": "stdout",
          "output_type": "stream",
          "text": [
            "<class 'pandas.core.frame.DataFrame'>\n",
            "RangeIndex: 40616 entries, 0 to 40615\n",
            "Data columns (total 12 columns):\n",
            " #   Column  Non-Null Count  Dtype  \n",
            "---  ------  --------------  -----  \n",
            " 0   ID      40616 non-null  int64  \n",
            " 1   Age     39143 non-null  float64\n",
            " 2   Height  31615 non-null  float64\n",
            " 3   Team    40616 non-null  object \n",
            " 4   NOC     40616 non-null  object \n",
            " 5   Games   40616 non-null  object \n",
            " 6   Year    40616 non-null  int64  \n",
            " 7   Season  40616 non-null  object \n",
            " 8   City    40616 non-null  object \n",
            " 9   Sport   40616 non-null  object \n",
            " 10  Event   40616 non-null  object \n",
            " 11  Medal   5917 non-null   object \n",
            "dtypes: float64(2), int64(2), object(8)\n",
            "memory usage: 3.7+ MB\n"
          ]
        }
      ]
    },
    {
      "cell_type": "markdown",
      "source": [
        " a. How many athletes who participated in the Sport \"Tug-Of-War\" were from Team \"Sweden\" in our sample dataset?\n",
        "\n",
        "     "
      ],
      "metadata": {
        "id": "jzx9hjh1qqck"
      }
    },
    {
      "cell_type": "code",
      "source": [
        "filter_tug = df['Sport'] == 'Tug-Of-War'\n",
        "filter_swed = df['Team'] == 'Sweden'\n",
        "df.loc[filter_tug & filter_swed].shape ## applied two filters and found that six entries were related"
      ],
      "metadata": {
        "colab": {
          "base_uri": "https://localhost:8080/"
        },
        "id": "QTpe1GNl0OB-",
        "outputId": "30de8b0e-676d-43e4-d6cf-899647c33ef8"
      },
      "execution_count": 63,
      "outputs": [
        {
          "data": {
            "text/plain": [
              "(6, 12)"
            ]
          },
          "execution_count": 63,
          "metadata": {},
          "output_type": "execute_result"
        }
      ]
    },
    {
      "cell_type": "markdown",
      "source": [
        "b. How many Gold medals were awarded to athletes who were over 40 years old?"
      ],
      "metadata": {
        "id": "-8y6Rxp5qs0m"
      }
    },
    {
      "cell_type": "code",
      "source": [
        "fliter_age = df['Age'] > 40\n",
        "gold_filter = df[ 'Medal'] == 'Gold'\n",
        "df.loc[fliter_age & gold_filter].shape ##once again created two filters and applied them to find that 66 entries were related"
      ],
      "metadata": {
        "colab": {
          "base_uri": "https://localhost:8080/"
        },
        "id": "ZQkjkhgM0OgL",
        "outputId": "27c5d9dc-b79c-4881-b26c-649ce1058aca"
      },
      "execution_count": 64,
      "outputs": [
        {
          "data": {
            "text/plain": [
              "(66, 12)"
            ]
          },
          "execution_count": 64,
          "metadata": {},
          "output_type": "execute_result"
        }
      ]
    },
    {
      "cell_type": "markdown",
      "source": [
        "# 3) determine average height"
      ],
      "metadata": {
        "id": "1e0yc6gkq1Ra"
      }
    },
    {
      "cell_type": "markdown",
      "source": [
        "a. All rows are included."
      ],
      "metadata": {
        "id": "m9Re5BRwq3-9"
      }
    },
    {
      "cell_type": "code",
      "source": [
        "df_height = df['Height']\n",
        "df_height.mean()"
      ],
      "metadata": {
        "colab": {
          "base_uri": "https://localhost:8080/"
        },
        "id": "ON0Y2lAb0PLI",
        "outputId": "076547e0-784a-438a-e3d2-566895de7eb4"
      },
      "execution_count": 65,
      "outputs": [
        {
          "data": {
            "text/plain": [
              "175.3811165585956"
            ]
          },
          "execution_count": 65,
          "metadata": {},
          "output_type": "execute_result"
        }
      ]
    },
    {
      "cell_type": "markdown",
      "source": [
        " b. All rows are included but grouped by Event."
      ],
      "metadata": {
        "id": "gSo6rGF_q7mw"
      }
    },
    {
      "cell_type": "code",
      "source": [
        "df.groupby('Event')['Height'].mean() # created a new filter and applied it to the events category using groupby"
      ],
      "metadata": {
        "colab": {
          "base_uri": "https://localhost:8080/"
        },
        "id": "X17Kyvg80Pjw",
        "outputId": "c6384c27-328a-41f0-ab71-1ca7461f95f0"
      },
      "execution_count": 66,
      "outputs": [
        {
          "data": {
            "text/plain": [
              "Event\n",
              "Alpine Skiing Men's Combined                      178.547170\n",
              "Alpine Skiing Men's Downhill                      178.211679\n",
              "Alpine Skiing Men's Giant Slalom                  176.739394\n",
              "Alpine Skiing Men's Slalom                        176.482143\n",
              "Alpine Skiing Men's Super G                       179.850575\n",
              "                                                     ...    \n",
              "Wrestling Women's Flyweight, Freestyle            158.100000\n",
              "Wrestling Women's Heavyweight, Freestyle          173.444444\n",
              "Wrestling Women's Light-Heavyweight, Freestyle    170.000000\n",
              "Wrestling Women's Lightweight, Freestyle          162.666667\n",
              "Wrestling Women's Middleweight, Freestyle         164.533333\n",
              "Name: Height, Length: 726, dtype: float64"
            ]
          },
          "execution_count": 66,
          "metadata": {},
          "output_type": "execute_result"
        }
      ]
    },
    {
      "cell_type": "markdown",
      "source": [
        "c. Bonus: This dataset contains many athletes more than once (if they competed in multiple events and/or multiple years). You can confirm this by finding  .value_counts on the ID column!  For the bonus task we want to get the average height of all  the athletes, but don't want to include any athlete more than once.  Hint: We learned how to drop duplicates if EVERY column was identical, but now we want to drop a row any time just the ID is repeated.  To do this,  you can use a subset of your data as an argument in the drop_duplicates function.  You can also tell Python which of the duplicates to keep by using the keep argument."
      ],
      "metadata": {
        "id": "zArj3YAwq_e1"
      }
    },
    {
      "cell_type": "code",
      "source": [
        "df.value_counts('ID')"
      ],
      "metadata": {
        "id": "awCrrOZD0QSY",
        "colab": {
          "base_uri": "https://localhost:8080/"
        },
        "outputId": "d66c07db-2640-4dfc-bbf1-63cd2a3d28ee"
      },
      "execution_count": 67,
      "outputs": [
        {
          "data": {
            "text/plain": [
              "ID\n",
              "119591    36\n",
              "44875     32\n",
              "76437     31\n",
              "133279    30\n",
              "21462     29\n",
              "          ..\n",
              "78467      1\n",
              "78468      1\n",
              "78470      1\n",
              "78474      1\n",
              "91368      1\n",
              "Length: 20336, dtype: int64"
            ]
          },
          "execution_count": 67,
          "metadata": {},
          "output_type": "execute_result"
        }
      ]
    },
    {
      "cell_type": "code",
      "source": [
        "id_index= df.set_index(['ID'],drop= True ,inplace= True)"
      ],
      "metadata": {
        "id": "zCVP9txYvnqE"
      },
      "execution_count": 75,
      "outputs": []
    },
    {
      "cell_type": "code",
      "source": [
        "df.drop_duplicates(keep= 'first' ,inplace= True)\n",
        "df.duplicated('ID').any()                 ### very lost. attempted many times but ultimately did not get far"
      ],
      "metadata": {
        "colab": {
          "base_uri": "https://localhost:8080/",
          "height": 305
        },
        "id": "uXQSemsOwX-y",
        "outputId": "37d26396-aaf1-428d-fd7f-d931138d4da3"
      },
      "execution_count": 85,
      "outputs": [
        {
          "output_type": "error",
          "ename": "KeyError",
          "evalue": "ignored",
          "traceback": [
            "\u001b[0;31m---------------------------------------------------------------------------\u001b[0m",
            "\u001b[0;31mKeyError\u001b[0m                                  Traceback (most recent call last)",
            "\u001b[0;32m<ipython-input-85-022a73e33b0a>\u001b[0m in \u001b[0;36m<module>\u001b[0;34m()\u001b[0m\n\u001b[1;32m      1\u001b[0m \u001b[0mdf\u001b[0m\u001b[0;34m.\u001b[0m\u001b[0mdrop_duplicates\u001b[0m\u001b[0;34m(\u001b[0m\u001b[0mkeep\u001b[0m\u001b[0;34m=\u001b[0m \u001b[0;34m'first'\u001b[0m \u001b[0;34m,\u001b[0m\u001b[0minplace\u001b[0m\u001b[0;34m=\u001b[0m \u001b[0;32mTrue\u001b[0m\u001b[0;34m)\u001b[0m\u001b[0;34m\u001b[0m\u001b[0;34m\u001b[0m\u001b[0m\n\u001b[0;32m----> 2\u001b[0;31m \u001b[0mdf\u001b[0m\u001b[0;34m.\u001b[0m\u001b[0mduplicated\u001b[0m\u001b[0;34m(\u001b[0m\u001b[0;34m'ID'\u001b[0m\u001b[0;34m)\u001b[0m\u001b[0;34m.\u001b[0m\u001b[0many\u001b[0m\u001b[0;34m(\u001b[0m\u001b[0;34m)\u001b[0m\u001b[0;34m\u001b[0m\u001b[0;34m\u001b[0m\u001b[0m\n\u001b[0m",
            "\u001b[0;32m/usr/local/lib/python3.7/dist-packages/pandas/core/frame.py\u001b[0m in \u001b[0;36mduplicated\u001b[0;34m(self, subset, keep)\u001b[0m\n\u001b[1;32m   6195\u001b[0m         \u001b[0mdiff\u001b[0m \u001b[0;34m=\u001b[0m \u001b[0mIndex\u001b[0m\u001b[0;34m(\u001b[0m\u001b[0msubset\u001b[0m\u001b[0;34m)\u001b[0m\u001b[0;34m.\u001b[0m\u001b[0mdifference\u001b[0m\u001b[0;34m(\u001b[0m\u001b[0mself\u001b[0m\u001b[0;34m.\u001b[0m\u001b[0mcolumns\u001b[0m\u001b[0;34m)\u001b[0m\u001b[0;34m\u001b[0m\u001b[0;34m\u001b[0m\u001b[0m\n\u001b[1;32m   6196\u001b[0m         \u001b[0;32mif\u001b[0m \u001b[0;32mnot\u001b[0m \u001b[0mdiff\u001b[0m\u001b[0;34m.\u001b[0m\u001b[0mempty\u001b[0m\u001b[0;34m:\u001b[0m\u001b[0;34m\u001b[0m\u001b[0;34m\u001b[0m\u001b[0m\n\u001b[0;32m-> 6197\u001b[0;31m             \u001b[0;32mraise\u001b[0m \u001b[0mKeyError\u001b[0m\u001b[0;34m(\u001b[0m\u001b[0mdiff\u001b[0m\u001b[0;34m)\u001b[0m\u001b[0;34m\u001b[0m\u001b[0;34m\u001b[0m\u001b[0m\n\u001b[0m\u001b[1;32m   6198\u001b[0m \u001b[0;34m\u001b[0m\u001b[0m\n\u001b[1;32m   6199\u001b[0m         \u001b[0mvals\u001b[0m \u001b[0;34m=\u001b[0m \u001b[0;34m(\u001b[0m\u001b[0mcol\u001b[0m\u001b[0;34m.\u001b[0m\u001b[0mvalues\u001b[0m \u001b[0;32mfor\u001b[0m \u001b[0mname\u001b[0m\u001b[0;34m,\u001b[0m \u001b[0mcol\u001b[0m \u001b[0;32min\u001b[0m \u001b[0mself\u001b[0m\u001b[0;34m.\u001b[0m\u001b[0mitems\u001b[0m\u001b[0;34m(\u001b[0m\u001b[0;34m)\u001b[0m \u001b[0;32mif\u001b[0m \u001b[0mname\u001b[0m \u001b[0;32min\u001b[0m \u001b[0msubset\u001b[0m\u001b[0;34m)\u001b[0m\u001b[0;34m\u001b[0m\u001b[0;34m\u001b[0m\u001b[0m\n",
            "\u001b[0;31mKeyError\u001b[0m: Index(['ID'], dtype='object')"
          ]
        }
      ]
    }
  ]
}