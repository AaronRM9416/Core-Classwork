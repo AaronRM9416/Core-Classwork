{
  "nbformat": 4,
  "nbformat_minor": 0,
  "metadata": {
    "colab": {
      "name": "Hist_Box_Core",
      "provenance": [],
      "collapsed_sections": [],
      "authorship_tag": "ABX9TyN66rvGY011orM55SLvx3mB",
      "include_colab_link": true
    },
    "kernelspec": {
      "name": "python3",
      "display_name": "Python 3"
    },
    "language_info": {
      "name": "python"
    }
  },
  "cells": [
    {
      "cell_type": "markdown",
      "metadata": {
        "id": "view-in-github",
        "colab_type": "text"
      },
      "source": [
        "<a href=\"https://colab.research.google.com/github/AaronRM9416/Core-Classwork/blob/main/Hist_Box_Core.ipynb\" target=\"_parent\"><img src=\"https://colab.research.google.com/assets/colab-badge.svg\" alt=\"Open In Colab\"/></a>"
      ]
    },
    {
      "cell_type": "markdown",
      "source": [
        "# Histogram & Boxplot Core Assignment\n",
        "\n",
        "   Aaron Musselwhite\n",
        "   \n",
        "   8/4/2022 \n",
        "\n"
      ],
      "metadata": {
        "id": "HOThkzXHo6Lp"
      }
    },
    {
      "cell_type": "code",
      "source": [
        "import matplotlib.pyplot as plt\n",
        "import seaborn as sns                ##importing my libraries \n",
        "import pandas as pd\n",
        "import numpy as np"
      ],
      "metadata": {
        "id": "-7b6KaK3F88f"
      },
      "execution_count": null,
      "outputs": []
    },
    {
      "cell_type": "code",
      "execution_count": null,
      "metadata": {
        "colab": {
          "base_uri": "https://localhost:8080/",
          "height": 268
        },
        "id": "3ye5bzVdDqoS",
        "outputId": "ad806679-daab-4117-9953-071b377b408d"
      },
      "outputs": [
        {
          "output_type": "execute_result",
          "data": {
            "text/plain": [
              "     Location Number of Households (in 1000)  \\\n",
              "0     Alabama                          1,828   \n",
              "1     Arizona                          2,515   \n",
              "2    Arkansas                           1148   \n",
              "3  California                         12,974   \n",
              "4    Colorado                          1,986   \n",
              "\n",
              "   Percentage of households with pets Number of Pet Households (in 1000)  \\\n",
              "0                                59.5                              1,088   \n",
              "1                                59.5                              1,497   \n",
              "2                                62.4                                716   \n",
              "3                                52.9                              6,865   \n",
              "4                                61.3                              1,217   \n",
              "\n",
              "   Percentage of Dog Owners Dog Owning Households (1000s)  \\\n",
              "0                      44.1                           807   \n",
              "1                      40.1                         1,008   \n",
              "2                      47.9                           550   \n",
              "3                      32.8                         4,260   \n",
              "4                      42.5                           845   \n",
              "\n",
              "   Mean Number of Dogs per household Dog Population (in 1000)  \\\n",
              "0                                1.7                    1,410   \n",
              "1                                1.8                    1,798   \n",
              "2                                2.0                    1,097   \n",
              "3                                1.6                    6,687   \n",
              "4                                1.6                    1,349   \n",
              "\n",
              "   Percentage of Cat Owners Cat Owning Households  Mean Number of Cats  \\\n",
              "0                      27.4                   501                  2.5   \n",
              "1                      29.6                   743                  1.9   \n",
              "2                      30.6                   351                  2.3   \n",
              "3                      28.3                 3,687                  1.9   \n",
              "4                      32.3                   642                  1.9   \n",
              "\n",
              "  Cat Population  \n",
              "0          1,252  \n",
              "1          1,438  \n",
              "2            810  \n",
              "3          7,118  \n",
              "4           1191  "
            ],
            "text/html": [
              "\n",
              "  <div id=\"df-93aa5df7-5ec8-46ed-9184-14bb328574fd\">\n",
              "    <div class=\"colab-df-container\">\n",
              "      <div>\n",
              "<style scoped>\n",
              "    .dataframe tbody tr th:only-of-type {\n",
              "        vertical-align: middle;\n",
              "    }\n",
              "\n",
              "    .dataframe tbody tr th {\n",
              "        vertical-align: top;\n",
              "    }\n",
              "\n",
              "    .dataframe thead th {\n",
              "        text-align: right;\n",
              "    }\n",
              "</style>\n",
              "<table border=\"1\" class=\"dataframe\">\n",
              "  <thead>\n",
              "    <tr style=\"text-align: right;\">\n",
              "      <th></th>\n",
              "      <th>Location</th>\n",
              "      <th>Number of Households (in 1000)</th>\n",
              "      <th>Percentage of households with pets</th>\n",
              "      <th>Number of Pet Households (in 1000)</th>\n",
              "      <th>Percentage of Dog Owners</th>\n",
              "      <th>Dog Owning Households (1000s)</th>\n",
              "      <th>Mean Number of Dogs per household</th>\n",
              "      <th>Dog Population (in 1000)</th>\n",
              "      <th>Percentage of Cat Owners</th>\n",
              "      <th>Cat Owning Households</th>\n",
              "      <th>Mean Number of Cats</th>\n",
              "      <th>Cat Population</th>\n",
              "    </tr>\n",
              "  </thead>\n",
              "  <tbody>\n",
              "    <tr>\n",
              "      <th>0</th>\n",
              "      <td>Alabama</td>\n",
              "      <td>1,828</td>\n",
              "      <td>59.5</td>\n",
              "      <td>1,088</td>\n",
              "      <td>44.1</td>\n",
              "      <td>807</td>\n",
              "      <td>1.7</td>\n",
              "      <td>1,410</td>\n",
              "      <td>27.4</td>\n",
              "      <td>501</td>\n",
              "      <td>2.5</td>\n",
              "      <td>1,252</td>\n",
              "    </tr>\n",
              "    <tr>\n",
              "      <th>1</th>\n",
              "      <td>Arizona</td>\n",
              "      <td>2,515</td>\n",
              "      <td>59.5</td>\n",
              "      <td>1,497</td>\n",
              "      <td>40.1</td>\n",
              "      <td>1,008</td>\n",
              "      <td>1.8</td>\n",
              "      <td>1,798</td>\n",
              "      <td>29.6</td>\n",
              "      <td>743</td>\n",
              "      <td>1.9</td>\n",
              "      <td>1,438</td>\n",
              "    </tr>\n",
              "    <tr>\n",
              "      <th>2</th>\n",
              "      <td>Arkansas</td>\n",
              "      <td>1148</td>\n",
              "      <td>62.4</td>\n",
              "      <td>716</td>\n",
              "      <td>47.9</td>\n",
              "      <td>550</td>\n",
              "      <td>2.0</td>\n",
              "      <td>1,097</td>\n",
              "      <td>30.6</td>\n",
              "      <td>351</td>\n",
              "      <td>2.3</td>\n",
              "      <td>810</td>\n",
              "    </tr>\n",
              "    <tr>\n",
              "      <th>3</th>\n",
              "      <td>California</td>\n",
              "      <td>12,974</td>\n",
              "      <td>52.9</td>\n",
              "      <td>6,865</td>\n",
              "      <td>32.8</td>\n",
              "      <td>4,260</td>\n",
              "      <td>1.6</td>\n",
              "      <td>6,687</td>\n",
              "      <td>28.3</td>\n",
              "      <td>3,687</td>\n",
              "      <td>1.9</td>\n",
              "      <td>7,118</td>\n",
              "    </tr>\n",
              "    <tr>\n",
              "      <th>4</th>\n",
              "      <td>Colorado</td>\n",
              "      <td>1,986</td>\n",
              "      <td>61.3</td>\n",
              "      <td>1,217</td>\n",
              "      <td>42.5</td>\n",
              "      <td>845</td>\n",
              "      <td>1.6</td>\n",
              "      <td>1,349</td>\n",
              "      <td>32.3</td>\n",
              "      <td>642</td>\n",
              "      <td>1.9</td>\n",
              "      <td>1191</td>\n",
              "    </tr>\n",
              "  </tbody>\n",
              "</table>\n",
              "</div>\n",
              "      <button class=\"colab-df-convert\" onclick=\"convertToInteractive('df-93aa5df7-5ec8-46ed-9184-14bb328574fd')\"\n",
              "              title=\"Convert this dataframe to an interactive table.\"\n",
              "              style=\"display:none;\">\n",
              "        \n",
              "  <svg xmlns=\"http://www.w3.org/2000/svg\" height=\"24px\"viewBox=\"0 0 24 24\"\n",
              "       width=\"24px\">\n",
              "    <path d=\"M0 0h24v24H0V0z\" fill=\"none\"/>\n",
              "    <path d=\"M18.56 5.44l.94 2.06.94-2.06 2.06-.94-2.06-.94-.94-2.06-.94 2.06-2.06.94zm-11 1L8.5 8.5l.94-2.06 2.06-.94-2.06-.94L8.5 2.5l-.94 2.06-2.06.94zm10 10l.94 2.06.94-2.06 2.06-.94-2.06-.94-.94-2.06-.94 2.06-2.06.94z\"/><path d=\"M17.41 7.96l-1.37-1.37c-.4-.4-.92-.59-1.43-.59-.52 0-1.04.2-1.43.59L10.3 9.45l-7.72 7.72c-.78.78-.78 2.05 0 2.83L4 21.41c.39.39.9.59 1.41.59.51 0 1.02-.2 1.41-.59l7.78-7.78 2.81-2.81c.8-.78.8-2.07 0-2.86zM5.41 20L4 18.59l7.72-7.72 1.47 1.35L5.41 20z\"/>\n",
              "  </svg>\n",
              "      </button>\n",
              "      \n",
              "  <style>\n",
              "    .colab-df-container {\n",
              "      display:flex;\n",
              "      flex-wrap:wrap;\n",
              "      gap: 12px;\n",
              "    }\n",
              "\n",
              "    .colab-df-convert {\n",
              "      background-color: #E8F0FE;\n",
              "      border: none;\n",
              "      border-radius: 50%;\n",
              "      cursor: pointer;\n",
              "      display: none;\n",
              "      fill: #1967D2;\n",
              "      height: 32px;\n",
              "      padding: 0 0 0 0;\n",
              "      width: 32px;\n",
              "    }\n",
              "\n",
              "    .colab-df-convert:hover {\n",
              "      background-color: #E2EBFA;\n",
              "      box-shadow: 0px 1px 2px rgba(60, 64, 67, 0.3), 0px 1px 3px 1px rgba(60, 64, 67, 0.15);\n",
              "      fill: #174EA6;\n",
              "    }\n",
              "\n",
              "    [theme=dark] .colab-df-convert {\n",
              "      background-color: #3B4455;\n",
              "      fill: #D2E3FC;\n",
              "    }\n",
              "\n",
              "    [theme=dark] .colab-df-convert:hover {\n",
              "      background-color: #434B5C;\n",
              "      box-shadow: 0px 1px 3px 1px rgba(0, 0, 0, 0.15);\n",
              "      filter: drop-shadow(0px 1px 2px rgba(0, 0, 0, 0.3));\n",
              "      fill: #FFFFFF;\n",
              "    }\n",
              "  </style>\n",
              "\n",
              "      <script>\n",
              "        const buttonEl =\n",
              "          document.querySelector('#df-93aa5df7-5ec8-46ed-9184-14bb328574fd button.colab-df-convert');\n",
              "        buttonEl.style.display =\n",
              "          google.colab.kernel.accessAllowed ? 'block' : 'none';\n",
              "\n",
              "        async function convertToInteractive(key) {\n",
              "          const element = document.querySelector('#df-93aa5df7-5ec8-46ed-9184-14bb328574fd');\n",
              "          const dataTable =\n",
              "            await google.colab.kernel.invokeFunction('convertToInteractive',\n",
              "                                                     [key], {});\n",
              "          if (!dataTable) return;\n",
              "\n",
              "          const docLinkHtml = 'Like what you see? Visit the ' +\n",
              "            '<a target=\"_blank\" href=https://colab.research.google.com/notebooks/data_table.ipynb>data table notebook</a>'\n",
              "            + ' to learn more about interactive tables.';\n",
              "          element.innerHTML = '';\n",
              "          dataTable['output_type'] = 'display_data';\n",
              "          await google.colab.output.renderOutput(dataTable, element);\n",
              "          const docLink = document.createElement('div');\n",
              "          docLink.innerHTML = docLinkHtml;\n",
              "          element.appendChild(docLink);\n",
              "        }\n",
              "      </script>\n",
              "    </div>\n",
              "  </div>\n",
              "  "
            ]
          },
          "metadata": {},
          "execution_count": 4
        }
      ],
      "source": [
        "cat_dog = 'https://docs.google.com/spreadsheets/d/e/2PACX-1vSPbEwKE7YMIpqu8UhmlqiTFTxic7KLYXN00BOO4egTvj-5wJvXgf7h3FlH0JsUQQ/pub?output=csv'\n",
        "df = pd.read_csv(cat_dog)\n",
        "df.head()"
      ]
    },
    {
      "cell_type": "markdown",
      "source": [
        "1. Plot a histogram of the Percentage of Dog Owners"
      ],
      "metadata": {
        "id": "fDLbdS_CHCVK"
      }
    },
    {
      "cell_type": "code",
      "source": [
        "df['Percentage of Dog Owners'].hist()"
      ],
      "metadata": {
        "colab": {
          "base_uri": "https://localhost:8080/",
          "height": 282
        },
        "id": "GJS5W2n0HPhQ",
        "outputId": "2cf167c6-9ec2-4d31-cc60-97fb721adab2"
      },
      "execution_count": null,
      "outputs": [
        {
          "output_type": "execute_result",
          "data": {
            "text/plain": [
              "<matplotlib.axes._subplots.AxesSubplot at 0x7f31ad0b53d0>"
            ]
          },
          "metadata": {},
          "execution_count": 5
        },
        {
          "output_type": "display_data",
          "data": {
            "text/plain": [
              "<Figure size 432x288 with 1 Axes>"
            ],
            "image/png": "[encoded data removed]"
          },
          "metadata": {
            "needs_background": "light"
          }
        }
      ]
    },
    {
      "cell_type": "markdown",
      "source": [
        "2. Plot a histogram of the Percentage of Cat Owners."
      ],
      "metadata": {
        "id": "gcAFbRzMHQIZ"
      }
    },
    {
      "cell_type": "code",
      "source": [
        "df['Percentage of Cat Owners'].hist()"
      ],
      "metadata": {
        "colab": {
          "base_uri": "https://localhost:8080/",
          "height": 282
        },
        "id": "d_V6ZyX5HVqv",
        "outputId": "bfb4969e-ef45-4174-9377-96b86c5d32b1"
      },
      "execution_count": null,
      "outputs": [
        {
          "output_type": "execute_result",
          "data": {
            "text/plain": [
              "<matplotlib.axes._subplots.AxesSubplot at 0x7f31acaa9b90>"
            ]
          },
          "metadata": {},
          "execution_count": 7
        },
        {
          "output_type": "display_data",
          "data": {
            "text/plain": [
              "<Figure size 432x288 with 1 Axes>"
            ],
            "image/png": "[encoded data removed]"
          },
          "metadata": {
            "needs_background": "light"
          }
        }
      ]
    },
    {
      "cell_type": "markdown",
      "source": [
        "3a. What can we see by comparing these two histograms? What information does this tell us?"
      ],
      "metadata": {
        "id": "mC80p848HV7A"
      }
    },
    {
      "cell_type": "markdown",
      "source": [
        "***there is a broader range for dog owners than cats***"
      ],
      "metadata": {
        "id": "azojpm5hI_3p"
      }
    },
    {
      "cell_type": "markdown",
      "source": [
        "3b. Optional/Bonus: plot these two histograms on the same plot. "
      ],
      "metadata": {
        "id": "Yx7ktzeiHZUp"
      }
    },
    {
      "cell_type": "code",
      "source": [
        "df['Percentage of Cat Owners'].hist()\n",
        "df['Percentage of Dog Owners'].hist()"
      ],
      "metadata": {
        "colab": {
          "base_uri": "https://localhost:8080/",
          "height": 282
        },
        "id": "ylhQLHxOJoVM",
        "outputId": "2dee91c7-ee52-416e-f2a4-55074ac47c57"
      },
      "execution_count": null,
      "outputs": [
        {
          "output_type": "execute_result",
          "data": {
            "text/plain": [
              "<matplotlib.axes._subplots.AxesSubplot at 0x7f31ac9cc310>"
            ]
          },
          "metadata": {},
          "execution_count": 9
        },
        {
          "output_type": "display_data",
          "data": {
            "text/plain": [
              "<Figure size 432x288 with 1 Axes>"
            ],
            "image/png": "[encoded data removed]"
          },
          "metadata": {
            "needs_background": "light"
          }
        }
      ]
    },
    {
      "cell_type": "markdown",
      "source": [
        "4. Create two boxplots on the same plot: one of the mean number of cats per household and the other of the mean number of dogs."
      ],
      "metadata": {
        "id": "lNL6RqfRKYki"
      }
    },
    {
      "cell_type": "code",
      "source": [
        "sns.boxplot(data = df.loc[:,['Mean Number of Dogs per household', 'Mean Number of Cats']])"
      ],
      "metadata": {
        "colab": {
          "base_uri": "https://localhost:8080/",
          "height": 282
        },
        "id": "r48Kp_4yKivn",
        "outputId": "fe1054c4-ce7d-4ac3-cacd-6b8c60cd6214"
      },
      "execution_count": null,
      "outputs": [
        {
          "output_type": "execute_result",
          "data": {
            "text/plain": [
              "<matplotlib.axes._subplots.AxesSubplot at 0x7f31ac94b450>"
            ]
          },
          "metadata": {},
          "execution_count": 11
        },
        {
          "output_type": "display_data",
          "data": {
            "text/plain": [
              "<Figure size 432x288 with 1 Axes>"
            ],
            "image/png": "[encoded data removed]"
          },
          "metadata": {
            "needs_background": "light"
          }
        }
      ]
    },
    {
      "cell_type": "markdown",
      "source": [
        "5. What can we see by comparing these two boxplots? What information does this tell us?"
      ],
      "metadata": {
        "id": "ACR4OqMHKjK2"
      }
    },
    {
      "cell_type": "markdown",
      "source": [
        "***that on average there are more cats instead of dogs***"
      ],
      "metadata": {
        "id": "ty3885CWLgXD"
      }
    }
  ]
}