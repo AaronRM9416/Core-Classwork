{
  "nbformat": 4,
  "nbformat_minor": 0,
  "metadata": {
    "colab": {
      "provenance": [],
      "collapsed_sections": [],
      "authorship_tag": "ABX9TyN8m0wJnWKBCCKFYorhxPj/",
      "include_colab_link": true
    },
    "kernelspec": {
      "name": "python3",
      "display_name": "Python 3"
    },
    "language_info": {
      "name": "python"
    }
  },
  "cells": [
    {
      "cell_type": "markdown",
      "metadata": {
        "id": "view-in-github",
        "colab_type": "text"
      },
      "source": [
        "<a href=\"https://colab.research.google.com/github/AaronRM9416/Core-Classwork/blob/main/neural_networks.ipynb\" target=\"_parent\"><img src=\"https://colab.research.google.com/assets/colab-badge.svg\" alt=\"Open In Colab\"/></a>"
      ]
    },
    {
      "cell_type": "markdown",
      "source": [
        "#Aaron Musselwhite\n",
        "\n",
        "9/29/22"
      ],
      "metadata": {
        "id": "b0402xhIB2Yg"
      }
    },
    {
      "cell_type": "code",
      "execution_count": 32,
      "metadata": {
        "id": "EGi_22VGW9l1"
      },
      "outputs": [],
      "source": [
        "import matplotlib.pyplot as plt\n",
        "from tensorflow.keras import Sequential\n",
        "from tensorflow.keras import metrics\n",
        "from tensorflow.keras.layers import Dense, Dropout \n",
        "from tensorflow.keras.callbacks import EarlyStopping\n",
        "from sklearn.metrics import mean_squared_error, r2_score, mean_absolute_error\n",
        "from sklearn.preprocessing import StandardScaler, OneHotEncoder\n",
        "from sklearn.compose import make_column_transformer\n",
        "from sklearn.model_selection import train_test_split\n",
        "import pandas as pd\n",
        "import numpy as np\n",
        "from sklearn.model_selection import train_test_split\n",
        "from sklearn.compose import make_column_selector, make_column_transformer\n",
        "from sklearn.preprocessing import StandardScaler, MinMaxScaler, OneHotEncoder, \\\n",
        "OrdinalEncoder\n",
        "from sklearn.pipeline import make_pipeline\n",
        "from sklearn.impute import SimpleImputer\n",
        "from sklearn import set_config\n",
        "set_config(display='diagram')"
      ]
    },
    {
      "cell_type": "code",
      "source": [
        "data = pd.read_csv('https://docs.google.com/spreadsheets/d/e/2PACX-1vT-ujzSVy10DReTFi53El9eIC4gZA66pUYsu8Ew10Xdn26EeoqS5EMjt3Nzn55YRWxQ70zlXbELIWT_/pub?output=csv')"
      ],
      "metadata": {
        "id": "IZUBbbzWZJg8"
      },
      "execution_count": 2,
      "outputs": []
    },
    {
      "cell_type": "code",
      "source": [
        "df = data\n",
        "df.head()"
      ],
      "metadata": {
        "colab": {
          "base_uri": "https://localhost:8080/",
          "height": 236
        },
        "id": "xmZY495Vcv7U",
        "outputId": "92a7abea-b1ae-4827-c716-8e354485ea45"
      },
      "execution_count": 3,
      "outputs": [
        {
          "output_type": "execute_result",
          "data": {
            "text/plain": [
              "   Id  MSSubClass MSZoning  LotFrontage  LotArea Street Alley LotShape  \\\n",
              "0   1          60       RL         65.0     8450   Pave   NaN      Reg   \n",
              "1   2          20       RL         80.0     9600   Pave   NaN      Reg   \n",
              "2   3          60       RL         68.0    11250   Pave   NaN      IR1   \n",
              "3   4          70       RL         60.0     9550   Pave   NaN      IR1   \n",
              "4   5          60       RL         84.0    14260   Pave   NaN      IR1   \n",
              "\n",
              "  LandContour Utilities  ... PoolArea PoolQC Fence MiscFeature MiscVal MoSold  \\\n",
              "0         Lvl    AllPub  ...        0    NaN   NaN         NaN       0      2   \n",
              "1         Lvl    AllPub  ...        0    NaN   NaN         NaN       0      5   \n",
              "2         Lvl    AllPub  ...        0    NaN   NaN         NaN       0      9   \n",
              "3         Lvl    AllPub  ...        0    NaN   NaN         NaN       0      2   \n",
              "4         Lvl    AllPub  ...        0    NaN   NaN         NaN       0     12   \n",
              "\n",
              "  YrSold  SaleType  SaleCondition  SalePrice  \n",
              "0   2008        WD         Normal     208500  \n",
              "1   2007        WD         Normal     181500  \n",
              "2   2008        WD         Normal     223500  \n",
              "3   2006        WD        Abnorml     140000  \n",
              "4   2008        WD         Normal     250000  \n",
              "\n",
              "[5 rows x 81 columns]"
            ],
            "text/html": [
              "\n",
              "  <div id=\"df-1dbbf5f6-3e07-4aa8-af14-15545c2a66fb\">\n",
              "    <div class=\"colab-df-container\">\n",
              "      <div>\n",
              "<style scoped>\n",
              "    .dataframe tbody tr th:only-of-type {\n",
              "        vertical-align: middle;\n",
              "    }\n",
              "\n",
              "    .dataframe tbody tr th {\n",
              "        vertical-align: top;\n",
              "    }\n",
              "\n",
              "    .dataframe thead th {\n",
              "        text-align: right;\n",
              "    }\n",
              "</style>\n",
              "<table border=\"1\" class=\"dataframe\">\n",
              "  <thead>\n",
              "    <tr style=\"text-align: right;\">\n",
              "      <th></th>\n",
              "      <th>Id</th>\n",
              "      <th>MSSubClass</th>\n",
              "      <th>MSZoning</th>\n",
              "      <th>LotFrontage</th>\n",
              "      <th>LotArea</th>\n",
              "      <th>Street</th>\n",
              "      <th>Alley</th>\n",
              "      <th>LotShape</th>\n",
              "      <th>LandContour</th>\n",
              "      <th>Utilities</th>\n",
              "      <th>...</th>\n",
              "      <th>PoolArea</th>\n",
              "      <th>PoolQC</th>\n",
              "      <th>Fence</th>\n",
              "      <th>MiscFeature</th>\n",
              "      <th>MiscVal</th>\n",
              "      <th>MoSold</th>\n",
              "      <th>YrSold</th>\n",
              "      <th>SaleType</th>\n",
              "      <th>SaleCondition</th>\n",
              "      <th>SalePrice</th>\n",
              "    </tr>\n",
              "  </thead>\n",
              "  <tbody>\n",
              "    <tr>\n",
              "      <th>0</th>\n",
              "      <td>1</td>\n",
              "      <td>60</td>\n",
              "      <td>RL</td>\n",
              "      <td>65.0</td>\n",
              "      <td>8450</td>\n",
              "      <td>Pave</td>\n",
              "      <td>NaN</td>\n",
              "      <td>Reg</td>\n",
              "      <td>Lvl</td>\n",
              "      <td>AllPub</td>\n",
              "      <td>...</td>\n",
              "      <td>0</td>\n",
              "      <td>NaN</td>\n",
              "      <td>NaN</td>\n",
              "      <td>NaN</td>\n",
              "      <td>0</td>\n",
              "      <td>2</td>\n",
              "      <td>2008</td>\n",
              "      <td>WD</td>\n",
              "      <td>Normal</td>\n",
              "      <td>208500</td>\n",
              "    </tr>\n",
              "    <tr>\n",
              "      <th>1</th>\n",
              "      <td>2</td>\n",
              "      <td>20</td>\n",
              "      <td>RL</td>\n",
              "      <td>80.0</td>\n",
              "      <td>9600</td>\n",
              "      <td>Pave</td>\n",
              "      <td>NaN</td>\n",
              "      <td>Reg</td>\n",
              "      <td>Lvl</td>\n",
              "      <td>AllPub</td>\n",
              "      <td>...</td>\n",
              "      <td>0</td>\n",
              "      <td>NaN</td>\n",
              "      <td>NaN</td>\n",
              "      <td>NaN</td>\n",
              "      <td>0</td>\n",
              "      <td>5</td>\n",
              "      <td>2007</td>\n",
              "      <td>WD</td>\n",
              "      <td>Normal</td>\n",
              "      <td>181500</td>\n",
              "    </tr>\n",
              "    <tr>\n",
              "      <th>2</th>\n",
              "      <td>3</td>\n",
              "      <td>60</td>\n",
              "      <td>RL</td>\n",
              "      <td>68.0</td>\n",
              "      <td>11250</td>\n",
              "      <td>Pave</td>\n",
              "      <td>NaN</td>\n",
              "      <td>IR1</td>\n",
              "      <td>Lvl</td>\n",
              "      <td>AllPub</td>\n",
              "      <td>...</td>\n",
              "      <td>0</td>\n",
              "      <td>NaN</td>\n",
              "      <td>NaN</td>\n",
              "      <td>NaN</td>\n",
              "      <td>0</td>\n",
              "      <td>9</td>\n",
              "      <td>2008</td>\n",
              "      <td>WD</td>\n",
              "      <td>Normal</td>\n",
              "      <td>223500</td>\n",
              "    </tr>\n",
              "    <tr>\n",
              "      <th>3</th>\n",
              "      <td>4</td>\n",
              "      <td>70</td>\n",
              "      <td>RL</td>\n",
              "      <td>60.0</td>\n",
              "      <td>9550</td>\n",
              "      <td>Pave</td>\n",
              "      <td>NaN</td>\n",
              "      <td>IR1</td>\n",
              "      <td>Lvl</td>\n",
              "      <td>AllPub</td>\n",
              "      <td>...</td>\n",
              "      <td>0</td>\n",
              "      <td>NaN</td>\n",
              "      <td>NaN</td>\n",
              "      <td>NaN</td>\n",
              "      <td>0</td>\n",
              "      <td>2</td>\n",
              "      <td>2006</td>\n",
              "      <td>WD</td>\n",
              "      <td>Abnorml</td>\n",
              "      <td>140000</td>\n",
              "    </tr>\n",
              "    <tr>\n",
              "      <th>4</th>\n",
              "      <td>5</td>\n",
              "      <td>60</td>\n",
              "      <td>RL</td>\n",
              "      <td>84.0</td>\n",
              "      <td>14260</td>\n",
              "      <td>Pave</td>\n",
              "      <td>NaN</td>\n",
              "      <td>IR1</td>\n",
              "      <td>Lvl</td>\n",
              "      <td>AllPub</td>\n",
              "      <td>...</td>\n",
              "      <td>0</td>\n",
              "      <td>NaN</td>\n",
              "      <td>NaN</td>\n",
              "      <td>NaN</td>\n",
              "      <td>0</td>\n",
              "      <td>12</td>\n",
              "      <td>2008</td>\n",
              "      <td>WD</td>\n",
              "      <td>Normal</td>\n",
              "      <td>250000</td>\n",
              "    </tr>\n",
              "  </tbody>\n",
              "</table>\n",
              "<p>5 rows × 81 columns</p>\n",
              "</div>\n",
              "      <button class=\"colab-df-convert\" onclick=\"convertToInteractive('df-1dbbf5f6-3e07-4aa8-af14-15545c2a66fb')\"\n",
              "              title=\"Convert this dataframe to an interactive table.\"\n",
              "              style=\"display:none;\">\n",
              "        \n",
              "  <svg xmlns=\"http://www.w3.org/2000/svg\" height=\"24px\"viewBox=\"0 0 24 24\"\n",
              "       width=\"24px\">\n",
              "    <path d=\"M0 0h24v24H0V0z\" fill=\"none\"/>\n",
              "    <path d=\"M18.56 5.44l.94 2.06.94-2.06 2.06-.94-2.06-.94-.94-2.06-.94 2.06-2.06.94zm-11 1L8.5 8.5l.94-2.06 2.06-.94-2.06-.94L8.5 2.5l-.94 2.06-2.06.94zm10 10l.94 2.06.94-2.06 2.06-.94-2.06-.94-.94-2.06-.94 2.06-2.06.94z\"/><path d=\"M17.41 7.96l-1.37-1.37c-.4-.4-.92-.59-1.43-.59-.52 0-1.04.2-1.43.59L10.3 9.45l-7.72 7.72c-.78.78-.78 2.05 0 2.83L4 21.41c.39.39.9.59 1.41.59.51 0 1.02-.2 1.41-.59l7.78-7.78 2.81-2.81c.8-.78.8-2.07 0-2.86zM5.41 20L4 18.59l7.72-7.72 1.47 1.35L5.41 20z\"/>\n",
              "  </svg>\n",
              "      </button>\n",
              "      \n",
              "  <style>\n",
              "    .colab-df-container {\n",
              "      display:flex;\n",
              "      flex-wrap:wrap;\n",
              "      gap: 12px;\n",
              "    }\n",
              "\n",
              "    .colab-df-convert {\n",
              "      background-color: #E8F0FE;\n",
              "      border: none;\n",
              "      border-radius: 50%;\n",
              "      cursor: pointer;\n",
              "      display: none;\n",
              "      fill: #1967D2;\n",
              "      height: 32px;\n",
              "      padding: 0 0 0 0;\n",
              "      width: 32px;\n",
              "    }\n",
              "\n",
              "    .colab-df-convert:hover {\n",
              "      background-color: #E2EBFA;\n",
              "      box-shadow: 0px 1px 2px rgba(60, 64, 67, 0.3), 0px 1px 3px 1px rgba(60, 64, 67, 0.15);\n",
              "      fill: #174EA6;\n",
              "    }\n",
              "\n",
              "    [theme=dark] .colab-df-convert {\n",
              "      background-color: #3B4455;\n",
              "      fill: #D2E3FC;\n",
              "    }\n",
              "\n",
              "    [theme=dark] .colab-df-convert:hover {\n",
              "      background-color: #434B5C;\n",
              "      box-shadow: 0px 1px 3px 1px rgba(0, 0, 0, 0.15);\n",
              "      filter: drop-shadow(0px 1px 2px rgba(0, 0, 0, 0.3));\n",
              "      fill: #FFFFFF;\n",
              "    }\n",
              "  </style>\n",
              "\n",
              "      <script>\n",
              "        const buttonEl =\n",
              "          document.querySelector('#df-1dbbf5f6-3e07-4aa8-af14-15545c2a66fb button.colab-df-convert');\n",
              "        buttonEl.style.display =\n",
              "          google.colab.kernel.accessAllowed ? 'block' : 'none';\n",
              "\n",
              "        async function convertToInteractive(key) {\n",
              "          const element = document.querySelector('#df-1dbbf5f6-3e07-4aa8-af14-15545c2a66fb');\n",
              "          const dataTable =\n",
              "            await google.colab.kernel.invokeFunction('convertToInteractive',\n",
              "                                                     [key], {});\n",
              "          if (!dataTable) return;\n",
              "\n",
              "          const docLinkHtml = 'Like what you see? Visit the ' +\n",
              "            '<a target=\"_blank\" href=https://colab.research.google.com/notebooks/data_table.ipynb>data table notebook</a>'\n",
              "            + ' to learn more about interactive tables.';\n",
              "          element.innerHTML = '';\n",
              "          dataTable['output_type'] = 'display_data';\n",
              "          await google.colab.output.renderOutput(dataTable, element);\n",
              "          const docLink = document.createElement('div');\n",
              "          docLink.innerHTML = docLinkHtml;\n",
              "          element.appendChild(docLink);\n",
              "        }\n",
              "      </script>\n",
              "    </div>\n",
              "  </div>\n",
              "  "
            ]
          },
          "metadata": {},
          "execution_count": 3
        }
      ]
    },
    {
      "cell_type": "code",
      "source": [
        "df.info()"
      ],
      "metadata": {
        "colab": {
          "base_uri": "https://localhost:8080/"
        },
        "id": "OJ4QuSHwdZA2",
        "outputId": "49b11641-6fde-4aff-8ab0-225fa76fd6c9"
      },
      "execution_count": 4,
      "outputs": [
        {
          "output_type": "stream",
          "name": "stdout",
          "text": [
            "<class 'pandas.core.frame.DataFrame'>\n",
            "RangeIndex: 1460 entries, 0 to 1459\n",
            "Data columns (total 81 columns):\n",
            " #   Column         Non-Null Count  Dtype  \n",
            "---  ------         --------------  -----  \n",
            " 0   Id             1460 non-null   int64  \n",
            " 1   MSSubClass     1460 non-null   int64  \n",
            " 2   MSZoning       1460 non-null   object \n",
            " 3   LotFrontage    1201 non-null   float64\n",
            " 4   LotArea        1460 non-null   int64  \n",
            " 5   Street         1460 non-null   object \n",
            " 6   Alley          91 non-null     object \n",
            " 7   LotShape       1460 non-null   object \n",
            " 8   LandContour    1460 non-null   object \n",
            " 9   Utilities      1460 non-null   object \n",
            " 10  LotConfig      1460 non-null   object \n",
            " 11  LandSlope      1460 non-null   object \n",
            " 12  Neighborhood   1460 non-null   object \n",
            " 13  Condition1     1460 non-null   object \n",
            " 14  Condition2     1460 non-null   object \n",
            " 15  BldgType       1460 non-null   object \n",
            " 16  HouseStyle     1460 non-null   object \n",
            " 17  OverallQual    1460 non-null   int64  \n",
            " 18  OverallCond    1460 non-null   int64  \n",
            " 19  YearBuilt      1460 non-null   int64  \n",
            " 20  YearRemodAdd   1460 non-null   int64  \n",
            " 21  RoofStyle      1460 non-null   object \n",
            " 22  RoofMatl       1460 non-null   object \n",
            " 23  Exterior1st    1460 non-null   object \n",
            " 24  Exterior2nd    1460 non-null   object \n",
            " 25  MasVnrType     1452 non-null   object \n",
            " 26  MasVnrArea     1452 non-null   float64\n",
            " 27  ExterQual      1460 non-null   object \n",
            " 28  ExterCond      1460 non-null   object \n",
            " 29  Foundation     1460 non-null   object \n",
            " 30  BsmtQual       1423 non-null   object \n",
            " 31  BsmtCond       1423 non-null   object \n",
            " 32  BsmtExposure   1422 non-null   object \n",
            " 33  BsmtFinType1   1423 non-null   object \n",
            " 34  BsmtFinSF1     1460 non-null   int64  \n",
            " 35  BsmtFinType2   1422 non-null   object \n",
            " 36  BsmtFinSF2     1460 non-null   int64  \n",
            " 37  BsmtUnfSF      1460 non-null   int64  \n",
            " 38  TotalBsmtSF    1460 non-null   int64  \n",
            " 39  Heating        1460 non-null   object \n",
            " 40  HeatingQC      1460 non-null   object \n",
            " 41  CentralAir     1460 non-null   object \n",
            " 42  Electrical     1459 non-null   object \n",
            " 43  1stFlrSF       1460 non-null   int64  \n",
            " 44  2ndFlrSF       1460 non-null   int64  \n",
            " 45  LowQualFinSF   1460 non-null   int64  \n",
            " 46  GrLivArea      1460 non-null   int64  \n",
            " 47  BsmtFullBath   1460 non-null   int64  \n",
            " 48  BsmtHalfBath   1460 non-null   int64  \n",
            " 49  FullBath       1460 non-null   int64  \n",
            " 50  HalfBath       1460 non-null   int64  \n",
            " 51  BedroomAbvGr   1460 non-null   int64  \n",
            " 52  KitchenAbvGr   1460 non-null   int64  \n",
            " 53  KitchenQual    1460 non-null   object \n",
            " 54  TotRmsAbvGrd   1460 non-null   int64  \n",
            " 55  Functional     1460 non-null   object \n",
            " 56  Fireplaces     1460 non-null   int64  \n",
            " 57  FireplaceQu    770 non-null    object \n",
            " 58  GarageType     1379 non-null   object \n",
            " 59  GarageYrBlt    1379 non-null   float64\n",
            " 60  GarageFinish   1379 non-null   object \n",
            " 61  GarageCars     1460 non-null   int64  \n",
            " 62  GarageArea     1460 non-null   int64  \n",
            " 63  GarageQual     1379 non-null   object \n",
            " 64  GarageCond     1379 non-null   object \n",
            " 65  PavedDrive     1460 non-null   object \n",
            " 66  WoodDeckSF     1460 non-null   int64  \n",
            " 67  OpenPorchSF    1460 non-null   int64  \n",
            " 68  EnclosedPorch  1460 non-null   int64  \n",
            " 69  3SsnPorch      1460 non-null   int64  \n",
            " 70  ScreenPorch    1460 non-null   int64  \n",
            " 71  PoolArea       1460 non-null   int64  \n",
            " 72  PoolQC         7 non-null      object \n",
            " 73  Fence          281 non-null    object \n",
            " 74  MiscFeature    54 non-null     object \n",
            " 75  MiscVal        1460 non-null   int64  \n",
            " 76  MoSold         1460 non-null   int64  \n",
            " 77  YrSold         1460 non-null   int64  \n",
            " 78  SaleType       1460 non-null   object \n",
            " 79  SaleCondition  1460 non-null   object \n",
            " 80  SalePrice      1460 non-null   int64  \n",
            "dtypes: float64(3), int64(35), object(43)\n",
            "memory usage: 924.0+ KB\n"
          ]
        }
      ]
    },
    {
      "cell_type": "code",
      "source": [
        "df.duplicated().any()"
      ],
      "metadata": {
        "colab": {
          "base_uri": "https://localhost:8080/"
        },
        "id": "jk5Oep9EdjT4",
        "outputId": "a96280bd-7a37-4992-a206-24690010a9f2"
      },
      "execution_count": 5,
      "outputs": [
        {
          "output_type": "execute_result",
          "data": {
            "text/plain": [
              "False"
            ]
          },
          "metadata": {},
          "execution_count": 5
        }
      ]
    },
    {
      "cell_type": "code",
      "source": [
        "df.isna().sum()"
      ],
      "metadata": {
        "colab": {
          "base_uri": "https://localhost:8080/"
        },
        "id": "QwMDR7PudmLU",
        "outputId": "d13a935e-93e3-48dd-8747-06b125345698"
      },
      "execution_count": 6,
      "outputs": [
        {
          "output_type": "execute_result",
          "data": {
            "text/plain": [
              "Id                 0\n",
              "MSSubClass         0\n",
              "MSZoning           0\n",
              "LotFrontage      259\n",
              "LotArea            0\n",
              "                ... \n",
              "MoSold             0\n",
              "YrSold             0\n",
              "SaleType           0\n",
              "SaleCondition      0\n",
              "SalePrice          0\n",
              "Length: 81, dtype: int64"
            ]
          },
          "metadata": {},
          "execution_count": 6
        }
      ]
    },
    {
      "cell_type": "markdown",
      "source": [
        "# X/Y split & preprocessing"
      ],
      "metadata": {
        "id": "Mdbe8KAHB-st"
      }
    },
    {
      "cell_type": "code",
      "source": [
        "# Drop missings\n",
        "df.drop(columns=['PoolQC', 'Fence', 'MiscFeature', 'FireplaceQu', 'Alley', 'Id'], inplace=True)\n",
        "# Save X data\n",
        "X = df.drop(columns = 'SalePrice')\n",
        "# Encode our target\n",
        "y = df['SalePrice']"
      ],
      "metadata": {
        "id": "nENkd5VKiVD9"
      },
      "execution_count": 7,
      "outputs": []
    },
    {
      "cell_type": "code",
      "source": [
        "def plot_history(history):\n",
        "  \"\"\"Takes a keras model learning history and plots each metric\"\"\"\n",
        "  \n",
        "  metrics = history.history.keys()\n",
        "  \n",
        "  for metric in metrics:\n",
        "      if not 'val' in metric:\n",
        "        plt.plot(history.history[f'{metric}'], label=f'{metric}')\n",
        "        if f'val_{metric}' in metrics:\n",
        "          plt.plot(history.history[f'val_{metric}'], label=f'val_{metric}')\n",
        "        plt.legend()\n",
        "        plt.title(f'{metric}')\n",
        "        plt.show()"
      ],
      "metadata": {
        "id": "3i8PSH6doSC_"
      },
      "execution_count": 8,
      "outputs": []
    },
    {
      "cell_type": "code",
      "source": [
        "X_train, X_test, y_train, y_test = train_test_split(X, y, random_state=42)"
      ],
      "metadata": {
        "id": "47ty595FjRqv"
      },
      "execution_count": 9,
      "outputs": []
    },
    {
      "cell_type": "code",
      "source": [
        "scaler = StandardScaler()\n",
        "mean_imp = SimpleImputer(strategy='mean')\n",
        "most_freq_imp = SimpleImputer(strategy='most_frequent')"
      ],
      "metadata": {
        "id": "-s8aCqGhVnOt"
      },
      "execution_count": 10,
      "outputs": []
    },
    {
      "cell_type": "code",
      "source": [
        "cat_sel = make_column_selector(dtype_include='object')\n",
        "num_sel = make_column_selector(dtype_include='number')\n",
        "OHE = OneHotEncoder(handle_unknown='ignore', sparse=False)"
      ],
      "metadata": {
        "id": "wxAN_oMjbrxj"
      },
      "execution_count": 11,
      "outputs": []
    },
    {
      "cell_type": "code",
      "source": [
        "num_pipe = make_pipeline(mean_imp, scaler)\n",
        "\n",
        "num_pipe"
      ],
      "metadata": {
        "colab": {
          "base_uri": "https://localhost:8080/",
          "height": 126
        },
        "id": "3Y8HyhPGbv2Q",
        "outputId": "cf372651-2ee0-4b57-b8a7-47d9b877e26e"
      },
      "execution_count": 12,
      "outputs": [
        {
          "output_type": "execute_result",
          "data": {
            "text/plain": [
              "Pipeline(steps=[('simpleimputer', SimpleImputer()),\n",
              "                ('standardscaler', StandardScaler())])"
            ],
            "text/html": [
              "<style>#sk-178b0520-4453-400f-b52a-f56b7d380ee4 {color: black;background-color: white;}#sk-178b0520-4453-400f-b52a-f56b7d380ee4 pre{padding: 0;}#sk-178b0520-4453-400f-b52a-f56b7d380ee4 div.sk-toggleable {background-color: white;}#sk-178b0520-4453-400f-b52a-f56b7d380ee4 label.sk-toggleable__label {cursor: pointer;display: block;width: 100%;margin-bottom: 0;padding: 0.3em;box-sizing: border-box;text-align: center;}#sk-178b0520-4453-400f-b52a-f56b7d380ee4 label.sk-toggleable__label-arrow:before {content: \"▸\";float: left;margin-right: 0.25em;color: #696969;}#sk-178b0520-4453-400f-b52a-f56b7d380ee4 label.sk-toggleable__label-arrow:hover:before {color: black;}#sk-178b0520-4453-400f-b52a-f56b7d380ee4 div.sk-estimator:hover label.sk-toggleable__label-arrow:before {color: black;}#sk-178b0520-4453-400f-b52a-f56b7d380ee4 div.sk-toggleable__content {max-height: 0;max-width: 0;overflow: hidden;text-align: left;background-color: #f0f8ff;}#sk-178b0520-4453-400f-b52a-f56b7d380ee4 div.sk-toggleable__content pre {margin: 0.2em;color: black;border-radius: 0.25em;background-color: #f0f8ff;}#sk-178b0520-4453-400f-b52a-f56b7d380ee4 input.sk-toggleable__control:checked~div.sk-toggleable__content {max-height: 200px;max-width: 100%;overflow: auto;}#sk-178b0520-4453-400f-b52a-f56b7d380ee4 input.sk-toggleable__control:checked~label.sk-toggleable__label-arrow:before {content: \"▾\";}#sk-178b0520-4453-400f-b52a-f56b7d380ee4 div.sk-estimator input.sk-toggleable__control:checked~label.sk-toggleable__label {background-color: #d4ebff;}#sk-178b0520-4453-400f-b52a-f56b7d380ee4 div.sk-label input.sk-toggleable__control:checked~label.sk-toggleable__label {background-color: #d4ebff;}#sk-178b0520-4453-400f-b52a-f56b7d380ee4 input.sk-hidden--visually {border: 0;clip: rect(1px 1px 1px 1px);clip: rect(1px, 1px, 1px, 1px);height: 1px;margin: -1px;overflow: hidden;padding: 0;position: absolute;width: 1px;}#sk-178b0520-4453-400f-b52a-f56b7d380ee4 div.sk-estimator {font-family: monospace;background-color: #f0f8ff;border: 1px dotted black;border-radius: 0.25em;box-sizing: border-box;margin-bottom: 0.5em;}#sk-178b0520-4453-400f-b52a-f56b7d380ee4 div.sk-estimator:hover {background-color: #d4ebff;}#sk-178b0520-4453-400f-b52a-f56b7d380ee4 div.sk-parallel-item::after {content: \"\";width: 100%;border-bottom: 1px solid gray;flex-grow: 1;}#sk-178b0520-4453-400f-b52a-f56b7d380ee4 div.sk-label:hover label.sk-toggleable__label {background-color: #d4ebff;}#sk-178b0520-4453-400f-b52a-f56b7d380ee4 div.sk-serial::before {content: \"\";position: absolute;border-left: 1px solid gray;box-sizing: border-box;top: 2em;bottom: 0;left: 50%;}#sk-178b0520-4453-400f-b52a-f56b7d380ee4 div.sk-serial {display: flex;flex-direction: column;align-items: center;background-color: white;padding-right: 0.2em;padding-left: 0.2em;}#sk-178b0520-4453-400f-b52a-f56b7d380ee4 div.sk-item {z-index: 1;}#sk-178b0520-4453-400f-b52a-f56b7d380ee4 div.sk-parallel {display: flex;align-items: stretch;justify-content: center;background-color: white;}#sk-178b0520-4453-400f-b52a-f56b7d380ee4 div.sk-parallel::before {content: \"\";position: absolute;border-left: 1px solid gray;box-sizing: border-box;top: 2em;bottom: 0;left: 50%;}#sk-178b0520-4453-400f-b52a-f56b7d380ee4 div.sk-parallel-item {display: flex;flex-direction: column;position: relative;background-color: white;}#sk-178b0520-4453-400f-b52a-f56b7d380ee4 div.sk-parallel-item:first-child::after {align-self: flex-end;width: 50%;}#sk-178b0520-4453-400f-b52a-f56b7d380ee4 div.sk-parallel-item:last-child::after {align-self: flex-start;width: 50%;}#sk-178b0520-4453-400f-b52a-f56b7d380ee4 div.sk-parallel-item:only-child::after {width: 0;}#sk-178b0520-4453-400f-b52a-f56b7d380ee4 div.sk-dashed-wrapped {border: 1px dashed gray;margin: 0 0.4em 0.5em 0.4em;box-sizing: border-box;padding-bottom: 0.4em;background-color: white;position: relative;}#sk-178b0520-4453-400f-b52a-f56b7d380ee4 div.sk-label label {font-family: monospace;font-weight: bold;background-color: white;display: inline-block;line-height: 1.2em;}#sk-178b0520-4453-400f-b52a-f56b7d380ee4 div.sk-label-container {position: relative;z-index: 2;text-align: center;}#sk-178b0520-4453-400f-b52a-f56b7d380ee4 div.sk-container {/* jupyter's `normalize.less` sets `[hidden] { display: none; }` but bootstrap.min.css set `[hidden] { display: none !important; }` so we also need the `!important` here to be able to override the default hidden behavior on the sphinx rendered scikit-learn.org. See: https://github.com/scikit-learn/scikit-learn/issues/21755 */display: inline-block !important;position: relative;}#sk-178b0520-4453-400f-b52a-f56b7d380ee4 div.sk-text-repr-fallback {display: none;}</style><div id=\"sk-178b0520-4453-400f-b52a-f56b7d380ee4\" class=\"sk-top-container\"><div class=\"sk-text-repr-fallback\"><pre>Pipeline(steps=[(&#x27;simpleimputer&#x27;, SimpleImputer()),\n",
              "                (&#x27;standardscaler&#x27;, StandardScaler())])</pre><b>Please rerun this cell to show the HTML repr or trust the notebook.</b></div><div class=\"sk-container\" hidden><div class=\"sk-item sk-dashed-wrapped\"><div class=\"sk-label-container\"><div class=\"sk-label sk-toggleable\"><input class=\"sk-toggleable__control sk-hidden--visually\" id=\"8c7d9497-7eb5-4fda-9eb0-2f7c5503566d\" type=\"checkbox\" ><label for=\"8c7d9497-7eb5-4fda-9eb0-2f7c5503566d\" class=\"sk-toggleable__label sk-toggleable__label-arrow\">Pipeline</label><div class=\"sk-toggleable__content\"><pre>Pipeline(steps=[(&#x27;simpleimputer&#x27;, SimpleImputer()),\n",
              "                (&#x27;standardscaler&#x27;, StandardScaler())])</pre></div></div></div><div class=\"sk-serial\"><div class=\"sk-item\"><div class=\"sk-estimator sk-toggleable\"><input class=\"sk-toggleable__control sk-hidden--visually\" id=\"78c1f3bc-3f77-41d3-b65e-942d505fca0f\" type=\"checkbox\" ><label for=\"78c1f3bc-3f77-41d3-b65e-942d505fca0f\" class=\"sk-toggleable__label sk-toggleable__label-arrow\">SimpleImputer</label><div class=\"sk-toggleable__content\"><pre>SimpleImputer()</pre></div></div></div><div class=\"sk-item\"><div class=\"sk-estimator sk-toggleable\"><input class=\"sk-toggleable__control sk-hidden--visually\" id=\"3b396e07-304f-4d7d-9a24-220a03ea668b\" type=\"checkbox\" ><label for=\"3b396e07-304f-4d7d-9a24-220a03ea668b\" class=\"sk-toggleable__label sk-toggleable__label-arrow\">StandardScaler</label><div class=\"sk-toggleable__content\"><pre>StandardScaler()</pre></div></div></div></div></div></div></div>"
            ]
          },
          "metadata": {},
          "execution_count": 12
        }
      ]
    },
    {
      "cell_type": "code",
      "source": [
        "nom_pipe = make_pipeline(most_freq_imp, OHE)\n",
        "nom_pipe"
      ],
      "metadata": {
        "colab": {
          "base_uri": "https://localhost:8080/",
          "height": 126
        },
        "id": "0iM-95TBb1oK",
        "outputId": "6956df2e-3a33-4614-bb99-f24a903ed439"
      },
      "execution_count": 13,
      "outputs": [
        {
          "output_type": "execute_result",
          "data": {
            "text/plain": [
              "Pipeline(steps=[('simpleimputer', SimpleImputer(strategy='most_frequent')),\n",
              "                ('onehotencoder',\n",
              "                 OneHotEncoder(handle_unknown='ignore', sparse=False))])"
            ],
            "text/html": [
              "<style>#sk-5bdcf462-9b89-4fe9-ac04-68e5138b88b0 {color: black;background-color: white;}#sk-5bdcf462-9b89-4fe9-ac04-68e5138b88b0 pre{padding: 0;}#sk-5bdcf462-9b89-4fe9-ac04-68e5138b88b0 div.sk-toggleable {background-color: white;}#sk-5bdcf462-9b89-4fe9-ac04-68e5138b88b0 label.sk-toggleable__label {cursor: pointer;display: block;width: 100%;margin-bottom: 0;padding: 0.3em;box-sizing: border-box;text-align: center;}#sk-5bdcf462-9b89-4fe9-ac04-68e5138b88b0 label.sk-toggleable__label-arrow:before {content: \"▸\";float: left;margin-right: 0.25em;color: #696969;}#sk-5bdcf462-9b89-4fe9-ac04-68e5138b88b0 label.sk-toggleable__label-arrow:hover:before {color: black;}#sk-5bdcf462-9b89-4fe9-ac04-68e5138b88b0 div.sk-estimator:hover label.sk-toggleable__label-arrow:before {color: black;}#sk-5bdcf462-9b89-4fe9-ac04-68e5138b88b0 div.sk-toggleable__content {max-height: 0;max-width: 0;overflow: hidden;text-align: left;background-color: #f0f8ff;}#sk-5bdcf462-9b89-4fe9-ac04-68e5138b88b0 div.sk-toggleable__content pre {margin: 0.2em;color: black;border-radius: 0.25em;background-color: #f0f8ff;}#sk-5bdcf462-9b89-4fe9-ac04-68e5138b88b0 input.sk-toggleable__control:checked~div.sk-toggleable__content {max-height: 200px;max-width: 100%;overflow: auto;}#sk-5bdcf462-9b89-4fe9-ac04-68e5138b88b0 input.sk-toggleable__control:checked~label.sk-toggleable__label-arrow:before {content: \"▾\";}#sk-5bdcf462-9b89-4fe9-ac04-68e5138b88b0 div.sk-estimator input.sk-toggleable__control:checked~label.sk-toggleable__label {background-color: #d4ebff;}#sk-5bdcf462-9b89-4fe9-ac04-68e5138b88b0 div.sk-label input.sk-toggleable__control:checked~label.sk-toggleable__label {background-color: #d4ebff;}#sk-5bdcf462-9b89-4fe9-ac04-68e5138b88b0 input.sk-hidden--visually {border: 0;clip: rect(1px 1px 1px 1px);clip: rect(1px, 1px, 1px, 1px);height: 1px;margin: -1px;overflow: hidden;padding: 0;position: absolute;width: 1px;}#sk-5bdcf462-9b89-4fe9-ac04-68e5138b88b0 div.sk-estimator {font-family: monospace;background-color: #f0f8ff;border: 1px dotted black;border-radius: 0.25em;box-sizing: border-box;margin-bottom: 0.5em;}#sk-5bdcf462-9b89-4fe9-ac04-68e5138b88b0 div.sk-estimator:hover {background-color: #d4ebff;}#sk-5bdcf462-9b89-4fe9-ac04-68e5138b88b0 div.sk-parallel-item::after {content: \"\";width: 100%;border-bottom: 1px solid gray;flex-grow: 1;}#sk-5bdcf462-9b89-4fe9-ac04-68e5138b88b0 div.sk-label:hover label.sk-toggleable__label {background-color: #d4ebff;}#sk-5bdcf462-9b89-4fe9-ac04-68e5138b88b0 div.sk-serial::before {content: \"\";position: absolute;border-left: 1px solid gray;box-sizing: border-box;top: 2em;bottom: 0;left: 50%;}#sk-5bdcf462-9b89-4fe9-ac04-68e5138b88b0 div.sk-serial {display: flex;flex-direction: column;align-items: center;background-color: white;padding-right: 0.2em;padding-left: 0.2em;}#sk-5bdcf462-9b89-4fe9-ac04-68e5138b88b0 div.sk-item {z-index: 1;}#sk-5bdcf462-9b89-4fe9-ac04-68e5138b88b0 div.sk-parallel {display: flex;align-items: stretch;justify-content: center;background-color: white;}#sk-5bdcf462-9b89-4fe9-ac04-68e5138b88b0 div.sk-parallel::before {content: \"\";position: absolute;border-left: 1px solid gray;box-sizing: border-box;top: 2em;bottom: 0;left: 50%;}#sk-5bdcf462-9b89-4fe9-ac04-68e5138b88b0 div.sk-parallel-item {display: flex;flex-direction: column;position: relative;background-color: white;}#sk-5bdcf462-9b89-4fe9-ac04-68e5138b88b0 div.sk-parallel-item:first-child::after {align-self: flex-end;width: 50%;}#sk-5bdcf462-9b89-4fe9-ac04-68e5138b88b0 div.sk-parallel-item:last-child::after {align-self: flex-start;width: 50%;}#sk-5bdcf462-9b89-4fe9-ac04-68e5138b88b0 div.sk-parallel-item:only-child::after {width: 0;}#sk-5bdcf462-9b89-4fe9-ac04-68e5138b88b0 div.sk-dashed-wrapped {border: 1px dashed gray;margin: 0 0.4em 0.5em 0.4em;box-sizing: border-box;padding-bottom: 0.4em;background-color: white;position: relative;}#sk-5bdcf462-9b89-4fe9-ac04-68e5138b88b0 div.sk-label label {font-family: monospace;font-weight: bold;background-color: white;display: inline-block;line-height: 1.2em;}#sk-5bdcf462-9b89-4fe9-ac04-68e5138b88b0 div.sk-label-container {position: relative;z-index: 2;text-align: center;}#sk-5bdcf462-9b89-4fe9-ac04-68e5138b88b0 div.sk-container {/* jupyter's `normalize.less` sets `[hidden] { display: none; }` but bootstrap.min.css set `[hidden] { display: none !important; }` so we also need the `!important` here to be able to override the default hidden behavior on the sphinx rendered scikit-learn.org. See: https://github.com/scikit-learn/scikit-learn/issues/21755 */display: inline-block !important;position: relative;}#sk-5bdcf462-9b89-4fe9-ac04-68e5138b88b0 div.sk-text-repr-fallback {display: none;}</style><div id=\"sk-5bdcf462-9b89-4fe9-ac04-68e5138b88b0\" class=\"sk-top-container\"><div class=\"sk-text-repr-fallback\"><pre>Pipeline(steps=[(&#x27;simpleimputer&#x27;, SimpleImputer(strategy=&#x27;most_frequent&#x27;)),\n",
              "                (&#x27;onehotencoder&#x27;,\n",
              "                 OneHotEncoder(handle_unknown=&#x27;ignore&#x27;, sparse=False))])</pre><b>Please rerun this cell to show the HTML repr or trust the notebook.</b></div><div class=\"sk-container\" hidden><div class=\"sk-item sk-dashed-wrapped\"><div class=\"sk-label-container\"><div class=\"sk-label sk-toggleable\"><input class=\"sk-toggleable__control sk-hidden--visually\" id=\"d999d77f-76d9-437b-8448-21a884a72929\" type=\"checkbox\" ><label for=\"d999d77f-76d9-437b-8448-21a884a72929\" class=\"sk-toggleable__label sk-toggleable__label-arrow\">Pipeline</label><div class=\"sk-toggleable__content\"><pre>Pipeline(steps=[(&#x27;simpleimputer&#x27;, SimpleImputer(strategy=&#x27;most_frequent&#x27;)),\n",
              "                (&#x27;onehotencoder&#x27;,\n",
              "                 OneHotEncoder(handle_unknown=&#x27;ignore&#x27;, sparse=False))])</pre></div></div></div><div class=\"sk-serial\"><div class=\"sk-item\"><div class=\"sk-estimator sk-toggleable\"><input class=\"sk-toggleable__control sk-hidden--visually\" id=\"2792f732-ce60-42c7-9d4a-dc02eac993f6\" type=\"checkbox\" ><label for=\"2792f732-ce60-42c7-9d4a-dc02eac993f6\" class=\"sk-toggleable__label sk-toggleable__label-arrow\">SimpleImputer</label><div class=\"sk-toggleable__content\"><pre>SimpleImputer(strategy=&#x27;most_frequent&#x27;)</pre></div></div></div><div class=\"sk-item\"><div class=\"sk-estimator sk-toggleable\"><input class=\"sk-toggleable__control sk-hidden--visually\" id=\"d46770d1-b2b4-48ea-be7b-73349bc03fef\" type=\"checkbox\" ><label for=\"d46770d1-b2b4-48ea-be7b-73349bc03fef\" class=\"sk-toggleable__label sk-toggleable__label-arrow\">OneHotEncoder</label><div class=\"sk-toggleable__content\"><pre>OneHotEncoder(handle_unknown=&#x27;ignore&#x27;, sparse=False)</pre></div></div></div></div></div></div></div>"
            ]
          },
          "metadata": {},
          "execution_count": 13
        }
      ]
    },
    {
      "cell_type": "code",
      "source": [
        "num_tup_pro= (num_pipe,num_sel)\n",
        "nom_tup_pro= (nom_pipe, cat_sel)\n",
        "\n",
        "pre_pro = make_column_transformer(num_tup_pro, nom_tup_pro)\n",
        "pre_pro"
      ],
      "metadata": {
        "colab": {
          "base_uri": "https://localhost:8080/",
          "height": 152
        },
        "id": "qEUHkCE9cBg8",
        "outputId": "dda073f0-baa7-4b02-b08b-5508ee7dd28e"
      },
      "execution_count": 14,
      "outputs": [
        {
          "output_type": "execute_result",
          "data": {
            "text/plain": [
              "ColumnTransformer(transformers=[('pipeline-1',\n",
              "                                 Pipeline(steps=[('simpleimputer',\n",
              "                                                  SimpleImputer()),\n",
              "                                                 ('standardscaler',\n",
              "                                                  StandardScaler())]),\n",
              "                                 <sklearn.compose._column_transformer.make_column_selector object at 0x7efc4f3ff750>),\n",
              "                                ('pipeline-2',\n",
              "                                 Pipeline(steps=[('simpleimputer',\n",
              "                                                  SimpleImputer(strategy='most_frequent')),\n",
              "                                                 ('onehotencoder',\n",
              "                                                  OneHotEncoder(handle_unknown='ignore',\n",
              "                                                                sparse=False))]),\n",
              "                                 <sklearn.compose._column_transformer.make_column_selector object at 0x7efc4f3ff790>)])"
            ],
            "text/html": [
              "<style>#sk-156bd8c3-231b-49d7-9d74-2961e8be8da6 {color: black;background-color: white;}#sk-156bd8c3-231b-49d7-9d74-2961e8be8da6 pre{padding: 0;}#sk-156bd8c3-231b-49d7-9d74-2961e8be8da6 div.sk-toggleable {background-color: white;}#sk-156bd8c3-231b-49d7-9d74-2961e8be8da6 label.sk-toggleable__label {cursor: pointer;display: block;width: 100%;margin-bottom: 0;padding: 0.3em;box-sizing: border-box;text-align: center;}#sk-156bd8c3-231b-49d7-9d74-2961e8be8da6 label.sk-toggleable__label-arrow:before {content: \"▸\";float: left;margin-right: 0.25em;color: #696969;}#sk-156bd8c3-231b-49d7-9d74-2961e8be8da6 label.sk-toggleable__label-arrow:hover:before {color: black;}#sk-156bd8c3-231b-49d7-9d74-2961e8be8da6 div.sk-estimator:hover label.sk-toggleable__label-arrow:before {color: black;}#sk-156bd8c3-231b-49d7-9d74-2961e8be8da6 div.sk-toggleable__content {max-height: 0;max-width: 0;overflow: hidden;text-align: left;background-color: #f0f8ff;}#sk-156bd8c3-231b-49d7-9d74-2961e8be8da6 div.sk-toggleable__content pre {margin: 0.2em;color: black;border-radius: 0.25em;background-color: #f0f8ff;}#sk-156bd8c3-231b-49d7-9d74-2961e8be8da6 input.sk-toggleable__control:checked~div.sk-toggleable__content {max-height: 200px;max-width: 100%;overflow: auto;}#sk-156bd8c3-231b-49d7-9d74-2961e8be8da6 input.sk-toggleable__control:checked~label.sk-toggleable__label-arrow:before {content: \"▾\";}#sk-156bd8c3-231b-49d7-9d74-2961e8be8da6 div.sk-estimator input.sk-toggleable__control:checked~label.sk-toggleable__label {background-color: #d4ebff;}#sk-156bd8c3-231b-49d7-9d74-2961e8be8da6 div.sk-label input.sk-toggleable__control:checked~label.sk-toggleable__label {background-color: #d4ebff;}#sk-156bd8c3-231b-49d7-9d74-2961e8be8da6 input.sk-hidden--visually {border: 0;clip: rect(1px 1px 1px 1px);clip: rect(1px, 1px, 1px, 1px);height: 1px;margin: -1px;overflow: hidden;padding: 0;position: absolute;width: 1px;}#sk-156bd8c3-231b-49d7-9d74-2961e8be8da6 div.sk-estimator {font-family: monospace;background-color: #f0f8ff;border: 1px dotted black;border-radius: 0.25em;box-sizing: border-box;margin-bottom: 0.5em;}#sk-156bd8c3-231b-49d7-9d74-2961e8be8da6 div.sk-estimator:hover {background-color: #d4ebff;}#sk-156bd8c3-231b-49d7-9d74-2961e8be8da6 div.sk-parallel-item::after {content: \"\";width: 100%;border-bottom: 1px solid gray;flex-grow: 1;}#sk-156bd8c3-231b-49d7-9d74-2961e8be8da6 div.sk-label:hover label.sk-toggleable__label {background-color: #d4ebff;}#sk-156bd8c3-231b-49d7-9d74-2961e8be8da6 div.sk-serial::before {content: \"\";position: absolute;border-left: 1px solid gray;box-sizing: border-box;top: 2em;bottom: 0;left: 50%;}#sk-156bd8c3-231b-49d7-9d74-2961e8be8da6 div.sk-serial {display: flex;flex-direction: column;align-items: center;background-color: white;padding-right: 0.2em;padding-left: 0.2em;}#sk-156bd8c3-231b-49d7-9d74-2961e8be8da6 div.sk-item {z-index: 1;}#sk-156bd8c3-231b-49d7-9d74-2961e8be8da6 div.sk-parallel {display: flex;align-items: stretch;justify-content: center;background-color: white;}#sk-156bd8c3-231b-49d7-9d74-2961e8be8da6 div.sk-parallel::before {content: \"\";position: absolute;border-left: 1px solid gray;box-sizing: border-box;top: 2em;bottom: 0;left: 50%;}#sk-156bd8c3-231b-49d7-9d74-2961e8be8da6 div.sk-parallel-item {display: flex;flex-direction: column;position: relative;background-color: white;}#sk-156bd8c3-231b-49d7-9d74-2961e8be8da6 div.sk-parallel-item:first-child::after {align-self: flex-end;width: 50%;}#sk-156bd8c3-231b-49d7-9d74-2961e8be8da6 div.sk-parallel-item:last-child::after {align-self: flex-start;width: 50%;}#sk-156bd8c3-231b-49d7-9d74-2961e8be8da6 div.sk-parallel-item:only-child::after {width: 0;}#sk-156bd8c3-231b-49d7-9d74-2961e8be8da6 div.sk-dashed-wrapped {border: 1px dashed gray;margin: 0 0.4em 0.5em 0.4em;box-sizing: border-box;padding-bottom: 0.4em;background-color: white;position: relative;}#sk-156bd8c3-231b-49d7-9d74-2961e8be8da6 div.sk-label label {font-family: monospace;font-weight: bold;background-color: white;display: inline-block;line-height: 1.2em;}#sk-156bd8c3-231b-49d7-9d74-2961e8be8da6 div.sk-label-container {position: relative;z-index: 2;text-align: center;}#sk-156bd8c3-231b-49d7-9d74-2961e8be8da6 div.sk-container {/* jupyter's `normalize.less` sets `[hidden] { display: none; }` but bootstrap.min.css set `[hidden] { display: none !important; }` so we also need the `!important` here to be able to override the default hidden behavior on the sphinx rendered scikit-learn.org. See: https://github.com/scikit-learn/scikit-learn/issues/21755 */display: inline-block !important;position: relative;}#sk-156bd8c3-231b-49d7-9d74-2961e8be8da6 div.sk-text-repr-fallback {display: none;}</style><div id=\"sk-156bd8c3-231b-49d7-9d74-2961e8be8da6\" class=\"sk-top-container\"><div class=\"sk-text-repr-fallback\"><pre>ColumnTransformer(transformers=[(&#x27;pipeline-1&#x27;,\n",
              "                                 Pipeline(steps=[(&#x27;simpleimputer&#x27;,\n",
              "                                                  SimpleImputer()),\n",
              "                                                 (&#x27;standardscaler&#x27;,\n",
              "                                                  StandardScaler())]),\n",
              "                                 &lt;sklearn.compose._column_transformer.make_column_selector object at 0x7efc4f3ff750&gt;),\n",
              "                                (&#x27;pipeline-2&#x27;,\n",
              "                                 Pipeline(steps=[(&#x27;simpleimputer&#x27;,\n",
              "                                                  SimpleImputer(strategy=&#x27;most_frequent&#x27;)),\n",
              "                                                 (&#x27;onehotencoder&#x27;,\n",
              "                                                  OneHotEncoder(handle_unknown=&#x27;ignore&#x27;,\n",
              "                                                                sparse=False))]),\n",
              "                                 &lt;sklearn.compose._column_transformer.make_column_selector object at 0x7efc4f3ff790&gt;)])</pre><b>Please rerun this cell to show the HTML repr or trust the notebook.</b></div><div class=\"sk-container\" hidden><div class=\"sk-item sk-dashed-wrapped\"><div class=\"sk-label-container\"><div class=\"sk-label sk-toggleable\"><input class=\"sk-toggleable__control sk-hidden--visually\" id=\"f826248c-e0ac-406c-b7a1-93743187581e\" type=\"checkbox\" ><label for=\"f826248c-e0ac-406c-b7a1-93743187581e\" class=\"sk-toggleable__label sk-toggleable__label-arrow\">ColumnTransformer</label><div class=\"sk-toggleable__content\"><pre>ColumnTransformer(transformers=[(&#x27;pipeline-1&#x27;,\n",
              "                                 Pipeline(steps=[(&#x27;simpleimputer&#x27;,\n",
              "                                                  SimpleImputer()),\n",
              "                                                 (&#x27;standardscaler&#x27;,\n",
              "                                                  StandardScaler())]),\n",
              "                                 &lt;sklearn.compose._column_transformer.make_column_selector object at 0x7efc4f3ff750&gt;),\n",
              "                                (&#x27;pipeline-2&#x27;,\n",
              "                                 Pipeline(steps=[(&#x27;simpleimputer&#x27;,\n",
              "                                                  SimpleImputer(strategy=&#x27;most_frequent&#x27;)),\n",
              "                                                 (&#x27;onehotencoder&#x27;,\n",
              "                                                  OneHotEncoder(handle_unknown=&#x27;ignore&#x27;,\n",
              "                                                                sparse=False))]),\n",
              "                                 &lt;sklearn.compose._column_transformer.make_column_selector object at 0x7efc4f3ff790&gt;)])</pre></div></div></div><div class=\"sk-parallel\"><div class=\"sk-parallel-item\"><div class=\"sk-item\"><div class=\"sk-label-container\"><div class=\"sk-label sk-toggleable\"><input class=\"sk-toggleable__control sk-hidden--visually\" id=\"04f28070-67c4-49ec-9eb8-49f94fd26f12\" type=\"checkbox\" ><label for=\"04f28070-67c4-49ec-9eb8-49f94fd26f12\" class=\"sk-toggleable__label sk-toggleable__label-arrow\">pipeline-1</label><div class=\"sk-toggleable__content\"><pre>&lt;sklearn.compose._column_transformer.make_column_selector object at 0x7efc4f3ff750&gt;</pre></div></div></div><div class=\"sk-serial\"><div class=\"sk-item\"><div class=\"sk-serial\"><div class=\"sk-item\"><div class=\"sk-estimator sk-toggleable\"><input class=\"sk-toggleable__control sk-hidden--visually\" id=\"6be863d9-ec9e-4fe2-bf52-7faf889cae3a\" type=\"checkbox\" ><label for=\"6be863d9-ec9e-4fe2-bf52-7faf889cae3a\" class=\"sk-toggleable__label sk-toggleable__label-arrow\">SimpleImputer</label><div class=\"sk-toggleable__content\"><pre>SimpleImputer()</pre></div></div></div><div class=\"sk-item\"><div class=\"sk-estimator sk-toggleable\"><input class=\"sk-toggleable__control sk-hidden--visually\" id=\"cd5366e4-3afb-403f-ba73-e041044b6805\" type=\"checkbox\" ><label for=\"cd5366e4-3afb-403f-ba73-e041044b6805\" class=\"sk-toggleable__label sk-toggleable__label-arrow\">StandardScaler</label><div class=\"sk-toggleable__content\"><pre>StandardScaler()</pre></div></div></div></div></div></div></div></div><div class=\"sk-parallel-item\"><div class=\"sk-item\"><div class=\"sk-label-container\"><div class=\"sk-label sk-toggleable\"><input class=\"sk-toggleable__control sk-hidden--visually\" id=\"874afffb-b544-430b-a5a9-3b9900c88e22\" type=\"checkbox\" ><label for=\"874afffb-b544-430b-a5a9-3b9900c88e22\" class=\"sk-toggleable__label sk-toggleable__label-arrow\">pipeline-2</label><div class=\"sk-toggleable__content\"><pre>&lt;sklearn.compose._column_transformer.make_column_selector object at 0x7efc4f3ff790&gt;</pre></div></div></div><div class=\"sk-serial\"><div class=\"sk-item\"><div class=\"sk-serial\"><div class=\"sk-item\"><div class=\"sk-estimator sk-toggleable\"><input class=\"sk-toggleable__control sk-hidden--visually\" id=\"bebc2384-66e9-4d8a-ab80-9f707936a4c8\" type=\"checkbox\" ><label for=\"bebc2384-66e9-4d8a-ab80-9f707936a4c8\" class=\"sk-toggleable__label sk-toggleable__label-arrow\">SimpleImputer</label><div class=\"sk-toggleable__content\"><pre>SimpleImputer(strategy=&#x27;most_frequent&#x27;)</pre></div></div></div><div class=\"sk-item\"><div class=\"sk-estimator sk-toggleable\"><input class=\"sk-toggleable__control sk-hidden--visually\" id=\"8c2560d3-0a44-4971-9c67-fd6a2fd86c03\" type=\"checkbox\" ><label for=\"8c2560d3-0a44-4971-9c67-fd6a2fd86c03\" class=\"sk-toggleable__label sk-toggleable__label-arrow\">OneHotEncoder</label><div class=\"sk-toggleable__content\"><pre>OneHotEncoder(handle_unknown=&#x27;ignore&#x27;, sparse=False)</pre></div></div></div></div></div></div></div></div></div></div></div></div>"
            ]
          },
          "metadata": {},
          "execution_count": 14
        }
      ]
    },
    {
      "cell_type": "code",
      "source": [
        "pre_pro.fit(X_train)"
      ],
      "metadata": {
        "colab": {
          "base_uri": "https://localhost:8080/",
          "height": 152
        },
        "id": "byYIRqzBcG8E",
        "outputId": "cb32d315-05a5-4e27-9a18-bcdbad725c69"
      },
      "execution_count": 15,
      "outputs": [
        {
          "output_type": "execute_result",
          "data": {
            "text/plain": [
              "ColumnTransformer(transformers=[('pipeline-1',\n",
              "                                 Pipeline(steps=[('simpleimputer',\n",
              "                                                  SimpleImputer()),\n",
              "                                                 ('standardscaler',\n",
              "                                                  StandardScaler())]),\n",
              "                                 <sklearn.compose._column_transformer.make_column_selector object at 0x7efc4f3ff750>),\n",
              "                                ('pipeline-2',\n",
              "                                 Pipeline(steps=[('simpleimputer',\n",
              "                                                  SimpleImputer(strategy='most_frequent')),\n",
              "                                                 ('onehotencoder',\n",
              "                                                  OneHotEncoder(handle_unknown='ignore',\n",
              "                                                                sparse=False))]),\n",
              "                                 <sklearn.compose._column_transformer.make_column_selector object at 0x7efc4f3ff790>)])"
            ],
            "text/html": [
              "<style>#sk-f248f719-7680-4ad4-bf73-3ef7b334ba73 {color: black;background-color: white;}#sk-f248f719-7680-4ad4-bf73-3ef7b334ba73 pre{padding: 0;}#sk-f248f719-7680-4ad4-bf73-3ef7b334ba73 div.sk-toggleable {background-color: white;}#sk-f248f719-7680-4ad4-bf73-3ef7b334ba73 label.sk-toggleable__label {cursor: pointer;display: block;width: 100%;margin-bottom: 0;padding: 0.3em;box-sizing: border-box;text-align: center;}#sk-f248f719-7680-4ad4-bf73-3ef7b334ba73 label.sk-toggleable__label-arrow:before {content: \"▸\";float: left;margin-right: 0.25em;color: #696969;}#sk-f248f719-7680-4ad4-bf73-3ef7b334ba73 label.sk-toggleable__label-arrow:hover:before {color: black;}#sk-f248f719-7680-4ad4-bf73-3ef7b334ba73 div.sk-estimator:hover label.sk-toggleable__label-arrow:before {color: black;}#sk-f248f719-7680-4ad4-bf73-3ef7b334ba73 div.sk-toggleable__content {max-height: 0;max-width: 0;overflow: hidden;text-align: left;background-color: #f0f8ff;}#sk-f248f719-7680-4ad4-bf73-3ef7b334ba73 div.sk-toggleable__content pre {margin: 0.2em;color: black;border-radius: 0.25em;background-color: #f0f8ff;}#sk-f248f719-7680-4ad4-bf73-3ef7b334ba73 input.sk-toggleable__control:checked~div.sk-toggleable__content {max-height: 200px;max-width: 100%;overflow: auto;}#sk-f248f719-7680-4ad4-bf73-3ef7b334ba73 input.sk-toggleable__control:checked~label.sk-toggleable__label-arrow:before {content: \"▾\";}#sk-f248f719-7680-4ad4-bf73-3ef7b334ba73 div.sk-estimator input.sk-toggleable__control:checked~label.sk-toggleable__label {background-color: #d4ebff;}#sk-f248f719-7680-4ad4-bf73-3ef7b334ba73 div.sk-label input.sk-toggleable__control:checked~label.sk-toggleable__label {background-color: #d4ebff;}#sk-f248f719-7680-4ad4-bf73-3ef7b334ba73 input.sk-hidden--visually {border: 0;clip: rect(1px 1px 1px 1px);clip: rect(1px, 1px, 1px, 1px);height: 1px;margin: -1px;overflow: hidden;padding: 0;position: absolute;width: 1px;}#sk-f248f719-7680-4ad4-bf73-3ef7b334ba73 div.sk-estimator {font-family: monospace;background-color: #f0f8ff;border: 1px dotted black;border-radius: 0.25em;box-sizing: border-box;margin-bottom: 0.5em;}#sk-f248f719-7680-4ad4-bf73-3ef7b334ba73 div.sk-estimator:hover {background-color: #d4ebff;}#sk-f248f719-7680-4ad4-bf73-3ef7b334ba73 div.sk-parallel-item::after {content: \"\";width: 100%;border-bottom: 1px solid gray;flex-grow: 1;}#sk-f248f719-7680-4ad4-bf73-3ef7b334ba73 div.sk-label:hover label.sk-toggleable__label {background-color: #d4ebff;}#sk-f248f719-7680-4ad4-bf73-3ef7b334ba73 div.sk-serial::before {content: \"\";position: absolute;border-left: 1px solid gray;box-sizing: border-box;top: 2em;bottom: 0;left: 50%;}#sk-f248f719-7680-4ad4-bf73-3ef7b334ba73 div.sk-serial {display: flex;flex-direction: column;align-items: center;background-color: white;padding-right: 0.2em;padding-left: 0.2em;}#sk-f248f719-7680-4ad4-bf73-3ef7b334ba73 div.sk-item {z-index: 1;}#sk-f248f719-7680-4ad4-bf73-3ef7b334ba73 div.sk-parallel {display: flex;align-items: stretch;justify-content: center;background-color: white;}#sk-f248f719-7680-4ad4-bf73-3ef7b334ba73 div.sk-parallel::before {content: \"\";position: absolute;border-left: 1px solid gray;box-sizing: border-box;top: 2em;bottom: 0;left: 50%;}#sk-f248f719-7680-4ad4-bf73-3ef7b334ba73 div.sk-parallel-item {display: flex;flex-direction: column;position: relative;background-color: white;}#sk-f248f719-7680-4ad4-bf73-3ef7b334ba73 div.sk-parallel-item:first-child::after {align-self: flex-end;width: 50%;}#sk-f248f719-7680-4ad4-bf73-3ef7b334ba73 div.sk-parallel-item:last-child::after {align-self: flex-start;width: 50%;}#sk-f248f719-7680-4ad4-bf73-3ef7b334ba73 div.sk-parallel-item:only-child::after {width: 0;}#sk-f248f719-7680-4ad4-bf73-3ef7b334ba73 div.sk-dashed-wrapped {border: 1px dashed gray;margin: 0 0.4em 0.5em 0.4em;box-sizing: border-box;padding-bottom: 0.4em;background-color: white;position: relative;}#sk-f248f719-7680-4ad4-bf73-3ef7b334ba73 div.sk-label label {font-family: monospace;font-weight: bold;background-color: white;display: inline-block;line-height: 1.2em;}#sk-f248f719-7680-4ad4-bf73-3ef7b334ba73 div.sk-label-container {position: relative;z-index: 2;text-align: center;}#sk-f248f719-7680-4ad4-bf73-3ef7b334ba73 div.sk-container {/* jupyter's `normalize.less` sets `[hidden] { display: none; }` but bootstrap.min.css set `[hidden] { display: none !important; }` so we also need the `!important` here to be able to override the default hidden behavior on the sphinx rendered scikit-learn.org. See: https://github.com/scikit-learn/scikit-learn/issues/21755 */display: inline-block !important;position: relative;}#sk-f248f719-7680-4ad4-bf73-3ef7b334ba73 div.sk-text-repr-fallback {display: none;}</style><div id=\"sk-f248f719-7680-4ad4-bf73-3ef7b334ba73\" class=\"sk-top-container\"><div class=\"sk-text-repr-fallback\"><pre>ColumnTransformer(transformers=[(&#x27;pipeline-1&#x27;,\n",
              "                                 Pipeline(steps=[(&#x27;simpleimputer&#x27;,\n",
              "                                                  SimpleImputer()),\n",
              "                                                 (&#x27;standardscaler&#x27;,\n",
              "                                                  StandardScaler())]),\n",
              "                                 &lt;sklearn.compose._column_transformer.make_column_selector object at 0x7efc4f3ff750&gt;),\n",
              "                                (&#x27;pipeline-2&#x27;,\n",
              "                                 Pipeline(steps=[(&#x27;simpleimputer&#x27;,\n",
              "                                                  SimpleImputer(strategy=&#x27;most_frequent&#x27;)),\n",
              "                                                 (&#x27;onehotencoder&#x27;,\n",
              "                                                  OneHotEncoder(handle_unknown=&#x27;ignore&#x27;,\n",
              "                                                                sparse=False))]),\n",
              "                                 &lt;sklearn.compose._column_transformer.make_column_selector object at 0x7efc4f3ff790&gt;)])</pre><b>Please rerun this cell to show the HTML repr or trust the notebook.</b></div><div class=\"sk-container\" hidden><div class=\"sk-item sk-dashed-wrapped\"><div class=\"sk-label-container\"><div class=\"sk-label sk-toggleable\"><input class=\"sk-toggleable__control sk-hidden--visually\" id=\"421e7979-5922-4211-a27a-b26d74cf040e\" type=\"checkbox\" ><label for=\"421e7979-5922-4211-a27a-b26d74cf040e\" class=\"sk-toggleable__label sk-toggleable__label-arrow\">ColumnTransformer</label><div class=\"sk-toggleable__content\"><pre>ColumnTransformer(transformers=[(&#x27;pipeline-1&#x27;,\n",
              "                                 Pipeline(steps=[(&#x27;simpleimputer&#x27;,\n",
              "                                                  SimpleImputer()),\n",
              "                                                 (&#x27;standardscaler&#x27;,\n",
              "                                                  StandardScaler())]),\n",
              "                                 &lt;sklearn.compose._column_transformer.make_column_selector object at 0x7efc4f3ff750&gt;),\n",
              "                                (&#x27;pipeline-2&#x27;,\n",
              "                                 Pipeline(steps=[(&#x27;simpleimputer&#x27;,\n",
              "                                                  SimpleImputer(strategy=&#x27;most_frequent&#x27;)),\n",
              "                                                 (&#x27;onehotencoder&#x27;,\n",
              "                                                  OneHotEncoder(handle_unknown=&#x27;ignore&#x27;,\n",
              "                                                                sparse=False))]),\n",
              "                                 &lt;sklearn.compose._column_transformer.make_column_selector object at 0x7efc4f3ff790&gt;)])</pre></div></div></div><div class=\"sk-parallel\"><div class=\"sk-parallel-item\"><div class=\"sk-item\"><div class=\"sk-label-container\"><div class=\"sk-label sk-toggleable\"><input class=\"sk-toggleable__control sk-hidden--visually\" id=\"b94cd859-63f2-412d-b975-42391ee71418\" type=\"checkbox\" ><label for=\"b94cd859-63f2-412d-b975-42391ee71418\" class=\"sk-toggleable__label sk-toggleable__label-arrow\">pipeline-1</label><div class=\"sk-toggleable__content\"><pre>&lt;sklearn.compose._column_transformer.make_column_selector object at 0x7efc4f3ff750&gt;</pre></div></div></div><div class=\"sk-serial\"><div class=\"sk-item\"><div class=\"sk-serial\"><div class=\"sk-item\"><div class=\"sk-estimator sk-toggleable\"><input class=\"sk-toggleable__control sk-hidden--visually\" id=\"55429cf6-beca-4855-8797-3dbd5eaabf67\" type=\"checkbox\" ><label for=\"55429cf6-beca-4855-8797-3dbd5eaabf67\" class=\"sk-toggleable__label sk-toggleable__label-arrow\">SimpleImputer</label><div class=\"sk-toggleable__content\"><pre>SimpleImputer()</pre></div></div></div><div class=\"sk-item\"><div class=\"sk-estimator sk-toggleable\"><input class=\"sk-toggleable__control sk-hidden--visually\" id=\"1b6fd84d-cfa4-449d-834b-67f0fd3fae58\" type=\"checkbox\" ><label for=\"1b6fd84d-cfa4-449d-834b-67f0fd3fae58\" class=\"sk-toggleable__label sk-toggleable__label-arrow\">StandardScaler</label><div class=\"sk-toggleable__content\"><pre>StandardScaler()</pre></div></div></div></div></div></div></div></div><div class=\"sk-parallel-item\"><div class=\"sk-item\"><div class=\"sk-label-container\"><div class=\"sk-label sk-toggleable\"><input class=\"sk-toggleable__control sk-hidden--visually\" id=\"f8859cc3-3597-4dcd-97ba-24a2cac8f959\" type=\"checkbox\" ><label for=\"f8859cc3-3597-4dcd-97ba-24a2cac8f959\" class=\"sk-toggleable__label sk-toggleable__label-arrow\">pipeline-2</label><div class=\"sk-toggleable__content\"><pre>&lt;sklearn.compose._column_transformer.make_column_selector object at 0x7efc4f3ff790&gt;</pre></div></div></div><div class=\"sk-serial\"><div class=\"sk-item\"><div class=\"sk-serial\"><div class=\"sk-item\"><div class=\"sk-estimator sk-toggleable\"><input class=\"sk-toggleable__control sk-hidden--visually\" id=\"8c1c3c57-6ab7-446c-8cd6-63469155bb58\" type=\"checkbox\" ><label for=\"8c1c3c57-6ab7-446c-8cd6-63469155bb58\" class=\"sk-toggleable__label sk-toggleable__label-arrow\">SimpleImputer</label><div class=\"sk-toggleable__content\"><pre>SimpleImputer(strategy=&#x27;most_frequent&#x27;)</pre></div></div></div><div class=\"sk-item\"><div class=\"sk-estimator sk-toggleable\"><input class=\"sk-toggleable__control sk-hidden--visually\" id=\"d62380d5-fd7f-4e61-8cb9-a5b5c2cfa035\" type=\"checkbox\" ><label for=\"d62380d5-fd7f-4e61-8cb9-a5b5c2cfa035\" class=\"sk-toggleable__label sk-toggleable__label-arrow\">OneHotEncoder</label><div class=\"sk-toggleable__content\"><pre>OneHotEncoder(handle_unknown=&#x27;ignore&#x27;, sparse=False)</pre></div></div></div></div></div></div></div></div></div></div></div></div>"
            ]
          },
          "metadata": {},
          "execution_count": 15
        }
      ]
    },
    {
      "cell_type": "code",
      "source": [
        "X_train_pro = pre_pro.transform(X_train)\n",
        "X_test_pro = pre_pro.transform(X_test)"
      ],
      "metadata": {
        "id": "2D2d0djrcKdp"
      },
      "execution_count": 16,
      "outputs": []
    },
    {
      "cell_type": "code",
      "source": [
        "print(pd.isna(X_train_pro), 'missing values in training data')\n",
        "print(pd.isna(X_test_pro), 'missing values in testing data')\n",
        "print('\\n')\n",
        "print('All data in X_train_pro are', X_train_pro.dtype)\n",
        "print('All data in X_test_pro are', X_test_pro.dtype)\n",
        "print('\\n')\n",
        "print('shape of data is', X_train_pro.shape)\n",
        "print('\\n')\n",
        "X_train_pro"
      ],
      "metadata": {
        "colab": {
          "base_uri": "https://localhost:8080/"
        },
        "id": "1nTyMvWpcNxn",
        "outputId": "f4c3f0ca-d220-4d23-8392-0f02c2162f92"
      },
      "execution_count": 17,
      "outputs": [
        {
          "output_type": "stream",
          "name": "stdout",
          "text": [
            "[[False False False ... False False False]\n",
            " [False False False ... False False False]\n",
            " [False False False ... False False False]\n",
            " ...\n",
            " [False False False ... False False False]\n",
            " [False False False ... False False False]\n",
            " [False False False ... False False False]] missing values in training data\n",
            "[[False False False ... False False False]\n",
            " [False False False ... False False False]\n",
            " [False False False ... False False False]\n",
            " ...\n",
            " [False False False ... False False False]\n",
            " [False False False ... False False False]\n",
            " [False False False ... False False False]] missing values in testing data\n",
            "\n",
            "\n",
            "All data in X_train_pro are float64\n",
            "All data in X_test_pro are float64\n",
            "\n",
            "\n",
            "shape of data is (1095, 266)\n",
            "\n",
            "\n"
          ]
        },
        {
          "output_type": "execute_result",
          "data": {
            "text/plain": [
              "array([[ 1.47591094, -1.20217378, -0.68394964, ...,  0.        ,\n",
              "         1.        ,  0.        ],\n",
              "       [-0.87122795,  0.33376282, -0.05488258, ...,  0.        ,\n",
              "         1.        ,  0.        ],\n",
              "       [-0.16708628, -0.45614743, -0.15252449, ...,  0.        ,\n",
              "         1.        ,  0.        ],\n",
              "       ...,\n",
              "       [-0.87122795, -0.45614743, -0.23280784, ...,  0.        ,\n",
              "         1.        ,  0.        ],\n",
              "       [-0.16708628, -0.67556694, -0.28072471, ...,  0.        ,\n",
              "         1.        ,  0.        ],\n",
              "       [ 1.47591094, -0.76333475, -0.63856423, ...,  0.        ,\n",
              "         1.        ,  0.        ]])"
            ]
          },
          "metadata": {},
          "execution_count": 17
        }
      ]
    },
    {
      "cell_type": "code",
      "source": [
        "input_shape = X_train_pro.shape[1]\n",
        "input_shape"
      ],
      "metadata": {
        "colab": {
          "base_uri": "https://localhost:8080/"
        },
        "id": "_3cwVl_4cuKX",
        "outputId": "fa4058d3-89b7-4ae5-b7ce-0948a35fab72"
      },
      "execution_count": 18,
      "outputs": [
        {
          "output_type": "execute_result",
          "data": {
            "text/plain": [
              "266"
            ]
          },
          "metadata": {},
          "execution_count": 18
        }
      ]
    },
    {
      "cell_type": "code",
      "source": [
        "model = Sequential()"
      ],
      "metadata": {
        "id": "Xi7_MMfsc5bl"
      },
      "execution_count": 19,
      "outputs": []
    },
    {
      "cell_type": "code",
      "source": [
        "\n",
        "model.add(Dense(70, \n",
        "                 input_dim = input_shape, \n",
        "                activation = 'relu')) \n",
        "\n",
        "model.add(Dense(20, \n",
        "                activation = 'relu')) "
      ],
      "metadata": {
        "id": "vmP5PCumc-mA"
      },
      "execution_count": 20,
      "outputs": []
    },
    {
      "cell_type": "code",
      "source": [
        "model.add(Dense(1, activation = 'linear'))"
      ],
      "metadata": {
        "id": "lVVyRRrEdGv1"
      },
      "execution_count": 21,
      "outputs": []
    },
    {
      "cell_type": "code",
      "source": [
        "model.compile(loss = 'mse', optimizer = 'adam')"
      ],
      "metadata": {
        "id": "jM7U8jgndJHV"
      },
      "execution_count": 22,
      "outputs": []
    },
    {
      "cell_type": "code",
      "source": [
        "history = model.fit(X_train_pro, y_train,\n",
        "                    validation_data = (X_test_pro, y_test), \n",
        "                    epochs=10)"
      ],
      "metadata": {
        "colab": {
          "base_uri": "https://localhost:8080/"
        },
        "id": "uab5oN_adLoO",
        "outputId": "a87edb5a-c8bc-492b-bdf0-9da2116aa2e9"
      },
      "execution_count": 23,
      "outputs": [
        {
          "output_type": "stream",
          "name": "stdout",
          "text": [
            "Epoch 1/10\n",
            "35/35 [==============================] - 1s 7ms/step - loss: 39089659904.0000 - val_loss: 38881587200.0000\n",
            "Epoch 2/10\n",
            "35/35 [==============================] - 0s 3ms/step - loss: 39082549248.0000 - val_loss: 38867726336.0000\n",
            "Epoch 3/10\n",
            "35/35 [==============================] - 0s 3ms/step - loss: 39056449536.0000 - val_loss: 38825992192.0000\n",
            "Epoch 4/10\n",
            "35/35 [==============================] - 0s 3ms/step - loss: 38992461824.0000 - val_loss: 38736896000.0000\n",
            "Epoch 5/10\n",
            "35/35 [==============================] - 0s 3ms/step - loss: 38870499328.0000 - val_loss: 38580805632.0000\n",
            "Epoch 6/10\n",
            "35/35 [==============================] - 0s 3ms/step - loss: 38668140544.0000 - val_loss: 38335320064.0000\n",
            "Epoch 7/10\n",
            "35/35 [==============================] - 0s 3ms/step - loss: 38366924800.0000 - val_loss: 37982986240.0000\n",
            "Epoch 8/10\n",
            "35/35 [==============================] - 0s 3ms/step - loss: 37942059008.0000 - val_loss: 37508780032.0000\n",
            "Epoch 9/10\n",
            "35/35 [==============================] - 0s 3ms/step - loss: 37385572352.0000 - val_loss: 36891594752.0000\n",
            "Epoch 10/10\n",
            "35/35 [==============================] - 0s 3ms/step - loss: 36684038144.0000 - val_loss: 36127256576.0000\n"
          ]
        }
      ]
    },
    {
      "cell_type": "code",
      "source": [
        "plt.plot(history.history['loss'], label='Train loss')\n",
        "plt.plot(history.history['val_loss'], label='Test Loss')\n",
        "plt.legend();"
      ],
      "metadata": {
        "colab": {
          "base_uri": "https://localhost:8080/",
          "height": 276
        },
        "id": "jGQPgnhgfvOr",
        "outputId": "7508348b-e526-4cb0-f9c7-b1132f0f8cc5"
      },
      "execution_count": 24,
      "outputs": [
        {
          "output_type": "display_data",
          "data": {
            "text/plain": [
              "<Figure size 432x288 with 1 Axes>"
            ],
            "image/png": "[encoded data removed]"
          },
          "metadata": {
            "needs_background": "light"
          }
        }
      ]
    },
    {
      "cell_type": "code",
      "source": [
        "model2 = Sequential()"
      ],
      "metadata": {
        "id": "Iw_tuUMB7nj_"
      },
      "execution_count": 25,
      "outputs": []
    },
    {
      "cell_type": "code",
      "source": [
        "# First hidden layer\n",
        "model2.add(Dense(70, \n",
        "                 input_dim = input_shape, \n",
        "                activation = 'relu')) \n",
        "# Second hidden layer\n",
        "model2.add(Dense(20, \n",
        "                activation = 'relu')) \n",
        "model2.add(Dense(10,                                     ## added a third hidden layer to see how that wuld improve my model\n",
        "                activation = 'relu'))"
      ],
      "metadata": {
        "id": "jdzjVbuJ7rnI"
      },
      "execution_count": 26,
      "outputs": []
    },
    {
      "cell_type": "code",
      "source": [
        "model2.add(Dense(1, activation = 'linear'))"
      ],
      "metadata": {
        "id": "XKIqJp1H7_Sl"
      },
      "execution_count": 27,
      "outputs": []
    },
    {
      "cell_type": "code",
      "source": [
        "model2.compile(loss = 'mse', optimizer = 'adam')"
      ],
      "metadata": {
        "id": "kgqcFBLi8FRL"
      },
      "execution_count": 28,
      "outputs": []
    },
    {
      "cell_type": "code",
      "source": [
        "history = model2.fit(X_train_pro, y_train,\n",
        "                    validation_data = (X_test_pro, y_test), \n",
        "                    epochs=100)"
      ],
      "metadata": {
        "colab": {
          "base_uri": "https://localhost:8080/"
        },
        "id": "zV3hUJOR8G_I",
        "outputId": "35340f51-d23a-4cf6-8a0f-c8d91e4b9314"
      },
      "execution_count": 29,
      "outputs": [
        {
          "output_type": "stream",
          "name": "stdout",
          "text": [
            "Epoch 1/100\n",
            "35/35 [==============================] - 1s 7ms/step - loss: 39088394240.0000 - val_loss: 38878162944.0000\n",
            "Epoch 2/100\n",
            "35/35 [==============================] - 0s 3ms/step - loss: 39072768000.0000 - val_loss: 38847287296.0000\n",
            "Epoch 3/100\n",
            "35/35 [==============================] - 0s 3ms/step - loss: 39011926016.0000 - val_loss: 38743445504.0000\n",
            "Epoch 4/100\n",
            "35/35 [==============================] - 0s 3ms/step - loss: 38832705536.0000 - val_loss: 38474489856.0000\n",
            "Epoch 5/100\n",
            "35/35 [==============================] - 0s 3ms/step - loss: 38424649728.0000 - val_loss: 37895917568.0000\n",
            "Epoch 6/100\n",
            "35/35 [==============================] - 0s 3ms/step - loss: 37612707840.0000 - val_loss: 36834246656.0000\n",
            "Epoch 7/100\n",
            "35/35 [==============================] - 0s 4ms/step - loss: 36203151360.0000 - val_loss: 35080577024.0000\n",
            "Epoch 8/100\n",
            "35/35 [==============================] - 1s 43ms/step - loss: 34010296320.0000 - val_loss: 32476973056.0000\n",
            "Epoch 9/100\n",
            "35/35 [==============================] - 1s 25ms/step - loss: 30835046400.0000 - val_loss: 28864907264.0000\n",
            "Epoch 10/100\n",
            "35/35 [==============================] - 0s 3ms/step - loss: 26644967424.0000 - val_loss: 24312209408.0000\n",
            "Epoch 11/100\n",
            "35/35 [==============================] - 0s 3ms/step - loss: 21620959232.0000 - val_loss: 19037571072.0000\n",
            "Epoch 12/100\n",
            "35/35 [==============================] - 0s 3ms/step - loss: 16162658304.0000 - val_loss: 13789381632.0000\n",
            "Epoch 13/100\n",
            "35/35 [==============================] - 0s 3ms/step - loss: 11027402752.0000 - val_loss: 9043932160.0000\n",
            "Epoch 14/100\n",
            "35/35 [==============================] - 0s 3ms/step - loss: 6890758144.0000 - val_loss: 5649236992.0000\n",
            "Epoch 15/100\n",
            "35/35 [==============================] - 0s 4ms/step - loss: 4179652096.0000 - val_loss: 3701650432.0000\n",
            "Epoch 16/100\n",
            "35/35 [==============================] - 0s 3ms/step - loss: 2806550272.0000 - val_loss: 2713649920.0000\n",
            "Epoch 17/100\n",
            "35/35 [==============================] - 0s 3ms/step - loss: 2200464128.0000 - val_loss: 2315038720.0000\n",
            "Epoch 18/100\n",
            "35/35 [==============================] - 0s 3ms/step - loss: 1970833280.0000 - val_loss: 2107272576.0000\n",
            "Epoch 19/100\n",
            "35/35 [==============================] - 0s 3ms/step - loss: 1848391936.0000 - val_loss: 1972817408.0000\n",
            "Epoch 20/100\n",
            "35/35 [==============================] - 0s 3ms/step - loss: 1767198208.0000 - val_loss: 1876039040.0000\n",
            "Epoch 21/100\n",
            "35/35 [==============================] - 0s 3ms/step - loss: 1699945856.0000 - val_loss: 1800305920.0000\n",
            "Epoch 22/100\n",
            "35/35 [==============================] - 0s 3ms/step - loss: 1643912192.0000 - val_loss: 1736130176.0000\n",
            "Epoch 23/100\n",
            "35/35 [==============================] - 0s 3ms/step - loss: 1595572096.0000 - val_loss: 1669790080.0000\n",
            "Epoch 24/100\n",
            "35/35 [==============================] - 0s 11ms/step - loss: 1553009152.0000 - val_loss: 1623424896.0000\n",
            "Epoch 25/100\n",
            "35/35 [==============================] - 0s 3ms/step - loss: 1517171328.0000 - val_loss: 1586101248.0000\n",
            "Epoch 26/100\n",
            "35/35 [==============================] - 0s 3ms/step - loss: 1487194368.0000 - val_loss: 1539820160.0000\n",
            "Epoch 27/100\n",
            "35/35 [==============================] - 0s 3ms/step - loss: 1461271552.0000 - val_loss: 1504559104.0000\n",
            "Epoch 28/100\n",
            "35/35 [==============================] - 0s 3ms/step - loss: 1437118080.0000 - val_loss: 1488664704.0000\n",
            "Epoch 29/100\n",
            "35/35 [==============================] - 0s 3ms/step - loss: 1416095232.0000 - val_loss: 1452109568.0000\n",
            "Epoch 30/100\n",
            "35/35 [==============================] - 0s 14ms/step - loss: 1392818432.0000 - val_loss: 1436349696.0000\n",
            "Epoch 31/100\n",
            "35/35 [==============================] - 0s 3ms/step - loss: 1379078144.0000 - val_loss: 1408646656.0000\n",
            "Epoch 32/100\n",
            "35/35 [==============================] - 0s 3ms/step - loss: 1362254208.0000 - val_loss: 1391805824.0000\n",
            "Epoch 33/100\n",
            "35/35 [==============================] - 0s 3ms/step - loss: 1342400768.0000 - val_loss: 1371296640.0000\n",
            "Epoch 34/100\n",
            "35/35 [==============================] - 0s 3ms/step - loss: 1331352832.0000 - val_loss: 1351759488.0000\n",
            "Epoch 35/100\n",
            "35/35 [==============================] - 0s 3ms/step - loss: 1314353664.0000 - val_loss: 1332458496.0000\n",
            "Epoch 36/100\n",
            "35/35 [==============================] - 0s 3ms/step - loss: 1298414464.0000 - val_loss: 1324809600.0000\n",
            "Epoch 37/100\n",
            "35/35 [==============================] - 1s 15ms/step - loss: 1286747904.0000 - val_loss: 1307291520.0000\n",
            "Epoch 38/100\n",
            "35/35 [==============================] - 0s 3ms/step - loss: 1274697344.0000 - val_loss: 1290355200.0000\n",
            "Epoch 39/100\n",
            "35/35 [==============================] - 0s 3ms/step - loss: 1262490240.0000 - val_loss: 1275635840.0000\n",
            "Epoch 40/100\n",
            "35/35 [==============================] - 0s 3ms/step - loss: 1249714048.0000 - val_loss: 1267168896.0000\n",
            "Epoch 41/100\n",
            "35/35 [==============================] - 0s 4ms/step - loss: 1238238720.0000 - val_loss: 1256146432.0000\n",
            "Epoch 42/100\n",
            "35/35 [==============================] - 0s 3ms/step - loss: 1229056768.0000 - val_loss: 1244367744.0000\n",
            "Epoch 43/100\n",
            "35/35 [==============================] - 0s 3ms/step - loss: 1217502592.0000 - val_loss: 1231638528.0000\n",
            "Epoch 44/100\n",
            "35/35 [==============================] - 2s 57ms/step - loss: 1208368768.0000 - val_loss: 1224917888.0000\n",
            "Epoch 45/100\n",
            "35/35 [==============================] - 1s 30ms/step - loss: 1198723968.0000 - val_loss: 1209588736.0000\n",
            "Epoch 46/100\n",
            "35/35 [==============================] - 1s 15ms/step - loss: 1189767936.0000 - val_loss: 1199399552.0000\n",
            "Epoch 47/100\n",
            "35/35 [==============================] - 0s 3ms/step - loss: 1179676672.0000 - val_loss: 1193519744.0000\n",
            "Epoch 48/100\n",
            "35/35 [==============================] - 0s 3ms/step - loss: 1170915456.0000 - val_loss: 1176820480.0000\n",
            "Epoch 49/100\n",
            "35/35 [==============================] - 0s 3ms/step - loss: 1163349760.0000 - val_loss: 1168964480.0000\n",
            "Epoch 50/100\n",
            "35/35 [==============================] - 0s 3ms/step - loss: 1153933184.0000 - val_loss: 1162560128.0000\n",
            "Epoch 51/100\n",
            "35/35 [==============================] - 0s 4ms/step - loss: 1145866752.0000 - val_loss: 1162295424.0000\n",
            "Epoch 52/100\n",
            "35/35 [==============================] - 0s 3ms/step - loss: 1139962112.0000 - val_loss: 1148756224.0000\n",
            "Epoch 53/100\n",
            "35/35 [==============================] - 1s 27ms/step - loss: 1130737408.0000 - val_loss: 1135123072.0000\n",
            "Epoch 54/100\n",
            "35/35 [==============================] - 0s 14ms/step - loss: 1122873216.0000 - val_loss: 1130553856.0000\n",
            "Epoch 55/100\n",
            "35/35 [==============================] - 0s 3ms/step - loss: 1116722048.0000 - val_loss: 1123279616.0000\n",
            "Epoch 56/100\n",
            "35/35 [==============================] - 0s 4ms/step - loss: 1109566976.0000 - val_loss: 1115172992.0000\n",
            "Epoch 57/100\n",
            "35/35 [==============================] - 0s 3ms/step - loss: 1101079680.0000 - val_loss: 1113553536.0000\n",
            "Epoch 58/100\n",
            "35/35 [==============================] - 0s 3ms/step - loss: 1095475584.0000 - val_loss: 1105903232.0000\n",
            "Epoch 59/100\n",
            "35/35 [==============================] - 0s 4ms/step - loss: 1089314816.0000 - val_loss: 1101334144.0000\n",
            "Epoch 60/100\n",
            "35/35 [==============================] - 0s 3ms/step - loss: 1083445504.0000 - val_loss: 1087534208.0000\n",
            "Epoch 61/100\n",
            "35/35 [==============================] - 1s 24ms/step - loss: 1075760896.0000 - val_loss: 1089031296.0000\n",
            "Epoch 62/100\n",
            "35/35 [==============================] - 1s 16ms/step - loss: 1070523200.0000 - val_loss: 1085801856.0000\n",
            "Epoch 63/100\n",
            "35/35 [==============================] - 0s 3ms/step - loss: 1065798592.0000 - val_loss: 1078496000.0000\n",
            "Epoch 64/100\n",
            "35/35 [==============================] - 0s 3ms/step - loss: 1058412992.0000 - val_loss: 1067028608.0000\n",
            "Epoch 65/100\n",
            "35/35 [==============================] - 0s 3ms/step - loss: 1053401216.0000 - val_loss: 1069373632.0000\n",
            "Epoch 66/100\n",
            "35/35 [==============================] - 0s 3ms/step - loss: 1046708928.0000 - val_loss: 1055780672.0000\n",
            "Epoch 67/100\n",
            "35/35 [==============================] - 0s 3ms/step - loss: 1044108672.0000 - val_loss: 1052770816.0000\n",
            "Epoch 68/100\n",
            "35/35 [==============================] - 0s 3ms/step - loss: 1037207104.0000 - val_loss: 1044522624.0000\n",
            "Epoch 69/100\n",
            "35/35 [==============================] - 0s 4ms/step - loss: 1030630720.0000 - val_loss: 1041701632.0000\n",
            "Epoch 70/100\n",
            "35/35 [==============================] - 0s 3ms/step - loss: 1027693312.0000 - val_loss: 1041062080.0000\n",
            "Epoch 71/100\n",
            "35/35 [==============================] - 1s 15ms/step - loss: 1027255552.0000 - val_loss: 1039768576.0000\n",
            "Epoch 72/100\n",
            "35/35 [==============================] - 0s 3ms/step - loss: 1017235776.0000 - val_loss: 1026436032.0000\n",
            "Epoch 73/100\n",
            "35/35 [==============================] - 0s 3ms/step - loss: 1012789632.0000 - val_loss: 1030962944.0000\n",
            "Epoch 74/100\n",
            "35/35 [==============================] - 0s 3ms/step - loss: 1011073600.0000 - val_loss: 1015222144.0000\n",
            "Epoch 75/100\n",
            "35/35 [==============================] - 0s 3ms/step - loss: 1002169600.0000 - val_loss: 1010822592.0000\n",
            "Epoch 76/100\n",
            "35/35 [==============================] - 0s 3ms/step - loss: 998051584.0000 - val_loss: 1014938816.0000\n",
            "Epoch 77/100\n",
            "35/35 [==============================] - 0s 3ms/step - loss: 994691648.0000 - val_loss: 1004787968.0000\n",
            "Epoch 78/100\n",
            "35/35 [==============================] - 0s 3ms/step - loss: 988156864.0000 - val_loss: 998679552.0000\n",
            "Epoch 79/100\n",
            "35/35 [==============================] - 0s 3ms/step - loss: 982170048.0000 - val_loss: 1003014272.0000\n",
            "Epoch 80/100\n",
            "35/35 [==============================] - 0s 3ms/step - loss: 979367488.0000 - val_loss: 1002354432.0000\n",
            "Epoch 81/100\n",
            "35/35 [==============================] - 0s 9ms/step - loss: 981546560.0000 - val_loss: 996159424.0000\n",
            "Epoch 82/100\n",
            "35/35 [==============================] - 0s 4ms/step - loss: 970041472.0000 - val_loss: 992710784.0000\n",
            "Epoch 83/100\n",
            "35/35 [==============================] - 0s 3ms/step - loss: 966883008.0000 - val_loss: 990301568.0000\n",
            "Epoch 84/100\n",
            "35/35 [==============================] - 0s 3ms/step - loss: 962463616.0000 - val_loss: 983413440.0000\n",
            "Epoch 85/100\n",
            "35/35 [==============================] - 0s 3ms/step - loss: 960577280.0000 - val_loss: 979914560.0000\n",
            "Epoch 86/100\n",
            "35/35 [==============================] - 0s 3ms/step - loss: 953858560.0000 - val_loss: 973880960.0000\n",
            "Epoch 87/100\n",
            "35/35 [==============================] - 0s 3ms/step - loss: 953330944.0000 - val_loss: 972759808.0000\n",
            "Epoch 88/100\n",
            "35/35 [==============================] - 0s 3ms/step - loss: 947010688.0000 - val_loss: 973370048.0000\n",
            "Epoch 89/100\n",
            "35/35 [==============================] - 0s 3ms/step - loss: 942402624.0000 - val_loss: 969653760.0000\n",
            "Epoch 90/100\n",
            "35/35 [==============================] - 0s 3ms/step - loss: 940695552.0000 - val_loss: 964243648.0000\n",
            "Epoch 91/100\n",
            "35/35 [==============================] - 0s 3ms/step - loss: 939664576.0000 - val_loss: 961854912.0000\n",
            "Epoch 92/100\n",
            "35/35 [==============================] - 0s 3ms/step - loss: 935183232.0000 - val_loss: 953794944.0000\n",
            "Epoch 93/100\n",
            "35/35 [==============================] - 0s 3ms/step - loss: 929111040.0000 - val_loss: 958613824.0000\n",
            "Epoch 94/100\n",
            "35/35 [==============================] - 0s 3ms/step - loss: 928441216.0000 - val_loss: 955964032.0000\n",
            "Epoch 95/100\n",
            "35/35 [==============================] - 0s 3ms/step - loss: 921594048.0000 - val_loss: 955202368.0000\n",
            "Epoch 96/100\n",
            "35/35 [==============================] - 0s 3ms/step - loss: 924249664.0000 - val_loss: 947212736.0000\n",
            "Epoch 97/100\n",
            "35/35 [==============================] - 0s 3ms/step - loss: 915271872.0000 - val_loss: 949900480.0000\n",
            "Epoch 98/100\n",
            "35/35 [==============================] - 0s 3ms/step - loss: 912552000.0000 - val_loss: 941936192.0000\n",
            "Epoch 99/100\n",
            "35/35 [==============================] - 0s 5ms/step - loss: 907744512.0000 - val_loss: 934043840.0000\n",
            "Epoch 100/100\n",
            "35/35 [==============================] - 0s 3ms/step - loss: 906131840.0000 - val_loss: 938114240.0000\n"
          ]
        }
      ]
    },
    {
      "cell_type": "code",
      "source": [
        "plt.plot(history.history['loss'], label='Train loss')\n",
        "plt.plot(history.history['val_loss'], label='Test Loss')\n",
        "plt.legend();"
      ],
      "metadata": {
        "colab": {
          "base_uri": "https://localhost:8080/",
          "height": 276
        },
        "id": "GYYvYauR8KsG",
        "outputId": "b9cc2f3d-6fa9-4856-fe6b-3b9f77e820a5"
      },
      "execution_count": 30,
      "outputs": [
        {
          "output_type": "display_data",
          "data": {
            "text/plain": [
              "<Figure size 432x288 with 1 Axes>"
            ],
            "image/png": "[encoded data removed]"
          },
          "metadata": {
            "needs_background": "light"
          }
        }
      ]
    },
    {
      "cell_type": "code",
      "source": [
        "model3 = Sequential()\n",
        "early_stop= EarlyStopping(patience=2)"
      ],
      "metadata": {
        "id": "1__YiDnP80Tg"
      },
      "execution_count": 33,
      "outputs": []
    },
    {
      "cell_type": "code",
      "source": [
        "\n",
        "model3.add(Dense(50, ## i changed the nodes for the first layer on this model\n",
        "                 input_dim = input_shape, \n",
        "                activation = 'relu')) \n",
        "\n",
        "model3.add(Dense(20, \n",
        "                activation = 'relu')) \n",
        "model3.add(Dense(10, \n",
        "                activation = 'relu'))"
      ],
      "metadata": {
        "id": "lLxmfBmT-JHc"
      },
      "execution_count": 34,
      "outputs": []
    },
    {
      "cell_type": "code",
      "source": [
        "model3.add(Dense(1, activation = 'linear'))"
      ],
      "metadata": {
        "id": "tfBPZQqA-TSp"
      },
      "execution_count": 35,
      "outputs": []
    },
    {
      "cell_type": "code",
      "source": [
        "model3.compile(loss = 'mse', optimizer = 'adam')"
      ],
      "metadata": {
        "id": "neCOqq4W-X5u"
      },
      "execution_count": 36,
      "outputs": []
    },
    {
      "cell_type": "code",
      "source": [
        "history = model3.fit(X_train_pro, y_train,\n",
        "                    validation_data = (X_test_pro, y_test),   ## added an early stop on my model and it was \n",
        "                    epochs=80,                                                          ##benificial since my model stops learning around the 58th epoch\n",
        "                    callbacks=[early_stop])"
      ],
      "metadata": {
        "colab": {
          "base_uri": "https://localhost:8080/"
        },
        "id": "d6UUi87C-crx",
        "outputId": "fafbce08-626d-4e8f-f031-ec3a8d7f3673"
      },
      "execution_count": 40,
      "outputs": [
        {
          "output_type": "stream",
          "name": "stdout",
          "text": [
            "Epoch 1/80\n",
            "35/35 [==============================] - 1s 17ms/step - loss: 39090544640.0000 - val_loss: 38883848192.0000\n",
            "Epoch 2/80\n",
            "35/35 [==============================] - 0s 3ms/step - loss: 39088275456.0000 - val_loss: 38878871552.0000\n",
            "Epoch 3/80\n",
            "35/35 [==============================] - 0s 3ms/step - loss: 39076970496.0000 - val_loss: 38857519104.0000\n",
            "Epoch 4/80\n",
            "35/35 [==============================] - 0s 3ms/step - loss: 39036203008.0000 - val_loss: 38789767168.0000\n",
            "Epoch 5/80\n",
            "35/35 [==============================] - 0s 3ms/step - loss: 38923001856.0000 - val_loss: 38618058752.0000\n",
            "Epoch 6/80\n",
            "35/35 [==============================] - 0s 3ms/step - loss: 38662590464.0000 - val_loss: 38254010368.0000\n",
            "Epoch 7/80\n",
            "35/35 [==============================] - 0s 3ms/step - loss: 38150279168.0000 - val_loss: 37581361152.0000\n",
            "Epoch 8/80\n",
            "35/35 [==============================] - 0s 3ms/step - loss: 37262237696.0000 - val_loss: 36473049088.0000\n",
            "Epoch 9/80\n",
            "35/35 [==============================] - 0s 3ms/step - loss: 35861020672.0000 - val_loss: 34806964224.0000\n",
            "Epoch 10/80\n",
            "35/35 [==============================] - 0s 3ms/step - loss: 33838438400.0000 - val_loss: 32475228160.0000\n",
            "Epoch 11/80\n",
            "35/35 [==============================] - 0s 3ms/step - loss: 31103537152.0000 - val_loss: 29412519936.0000\n",
            "Epoch 12/80\n",
            "35/35 [==============================] - 0s 3ms/step - loss: 27663034368.0000 - val_loss: 25771806720.0000\n",
            "Epoch 13/80\n",
            "35/35 [==============================] - 1s 26ms/step - loss: 23638943744.0000 - val_loss: 21587980288.0000\n",
            "Epoch 14/80\n",
            "35/35 [==============================] - 1s 30ms/step - loss: 19174094848.0000 - val_loss: 17147794432.0000\n",
            "Epoch 15/80\n",
            "35/35 [==============================] - 0s 3ms/step - loss: 14654914560.0000 - val_loss: 12760570880.0000\n",
            "Epoch 16/80\n",
            "35/35 [==============================] - 0s 3ms/step - loss: 10549890048.0000 - val_loss: 9097405440.0000\n",
            "Epoch 17/80\n",
            "35/35 [==============================] - 0s 3ms/step - loss: 7261164544.0000 - val_loss: 6235605504.0000\n",
            "Epoch 18/80\n",
            "35/35 [==============================] - 0s 3ms/step - loss: 4872965120.0000 - val_loss: 4331498496.0000\n",
            "Epoch 19/80\n",
            "35/35 [==============================] - 0s 3ms/step - loss: 3381126400.0000 - val_loss: 3216826880.0000\n",
            "Epoch 20/80\n",
            "35/35 [==============================] - 0s 3ms/step - loss: 2581031424.0000 - val_loss: 2640724224.0000\n",
            "Epoch 21/80\n",
            "35/35 [==============================] - 0s 4ms/step - loss: 2191823104.0000 - val_loss: 2336400128.0000\n",
            "Epoch 22/80\n",
            "35/35 [==============================] - 1s 29ms/step - loss: 1999505408.0000 - val_loss: 2161807872.0000\n",
            "Epoch 23/80\n",
            "35/35 [==============================] - 0s 14ms/step - loss: 1893224320.0000 - val_loss: 2011807616.0000\n",
            "Epoch 24/80\n",
            "35/35 [==============================] - 0s 3ms/step - loss: 1813080704.0000 - val_loss: 1945788800.0000\n",
            "Epoch 25/80\n",
            "35/35 [==============================] - 0s 3ms/step - loss: 1753996672.0000 - val_loss: 1872214272.0000\n",
            "Epoch 26/80\n",
            "35/35 [==============================] - 0s 3ms/step - loss: 1703571840.0000 - val_loss: 1804513792.0000\n",
            "Epoch 27/80\n",
            "35/35 [==============================] - 0s 3ms/step - loss: 1657137920.0000 - val_loss: 1753671680.0000\n",
            "Epoch 28/80\n",
            "35/35 [==============================] - 0s 3ms/step - loss: 1618537088.0000 - val_loss: 1702009984.0000\n",
            "Epoch 29/80\n",
            "35/35 [==============================] - 0s 3ms/step - loss: 1585225472.0000 - val_loss: 1664259200.0000\n",
            "Epoch 30/80\n",
            "35/35 [==============================] - 0s 3ms/step - loss: 1553727232.0000 - val_loss: 1624195072.0000\n",
            "Epoch 31/80\n",
            "35/35 [==============================] - 0s 3ms/step - loss: 1525719936.0000 - val_loss: 1595781888.0000\n",
            "Epoch 32/80\n",
            "35/35 [==============================] - 0s 3ms/step - loss: 1501758848.0000 - val_loss: 1559815936.0000\n",
            "Epoch 33/80\n",
            "35/35 [==============================] - 0s 3ms/step - loss: 1478667776.0000 - val_loss: 1536653440.0000\n",
            "Epoch 34/80\n",
            "35/35 [==============================] - 0s 3ms/step - loss: 1458075520.0000 - val_loss: 1509760512.0000\n",
            "Epoch 35/80\n",
            "35/35 [==============================] - 0s 3ms/step - loss: 1439559808.0000 - val_loss: 1488118912.0000\n",
            "Epoch 36/80\n",
            "35/35 [==============================] - 0s 3ms/step - loss: 1421846656.0000 - val_loss: 1465543424.0000\n",
            "Epoch 37/80\n",
            "35/35 [==============================] - 0s 13ms/step - loss: 1404321792.0000 - val_loss: 1446713856.0000\n",
            "Epoch 38/80\n",
            "35/35 [==============================] - 1s 24ms/step - loss: 1387490176.0000 - val_loss: 1427509376.0000\n",
            "Epoch 39/80\n",
            "35/35 [==============================] - 0s 3ms/step - loss: 1375542144.0000 - val_loss: 1413205632.0000\n",
            "Epoch 40/80\n",
            "35/35 [==============================] - 0s 3ms/step - loss: 1359536640.0000 - val_loss: 1390974208.0000\n",
            "Epoch 41/80\n",
            "35/35 [==============================] - 0s 3ms/step - loss: 1348630016.0000 - val_loss: 1372163968.0000\n",
            "Epoch 42/80\n",
            "35/35 [==============================] - 0s 3ms/step - loss: 1334719488.0000 - val_loss: 1362576640.0000\n",
            "Epoch 43/80\n",
            "35/35 [==============================] - 0s 3ms/step - loss: 1325284736.0000 - val_loss: 1345067136.0000\n",
            "Epoch 44/80\n",
            "35/35 [==============================] - 0s 3ms/step - loss: 1309012224.0000 - val_loss: 1333170048.0000\n",
            "Epoch 45/80\n",
            "35/35 [==============================] - 0s 3ms/step - loss: 1297477376.0000 - val_loss: 1321423616.0000\n",
            "Epoch 46/80\n",
            "35/35 [==============================] - 0s 12ms/step - loss: 1287722368.0000 - val_loss: 1307586816.0000\n",
            "Epoch 47/80\n",
            "35/35 [==============================] - 0s 3ms/step - loss: 1279332864.0000 - val_loss: 1294513280.0000\n",
            "Epoch 48/80\n",
            "35/35 [==============================] - 0s 3ms/step - loss: 1266439424.0000 - val_loss: 1287561856.0000\n",
            "Epoch 49/80\n",
            "35/35 [==============================] - 0s 3ms/step - loss: 1258968960.0000 - val_loss: 1276284032.0000\n",
            "Epoch 50/80\n",
            "35/35 [==============================] - 0s 3ms/step - loss: 1249506560.0000 - val_loss: 1266174592.0000\n",
            "Epoch 51/80\n",
            "35/35 [==============================] - 0s 3ms/step - loss: 1242357248.0000 - val_loss: 1251081472.0000\n",
            "Epoch 52/80\n",
            "35/35 [==============================] - 1s 30ms/step - loss: 1230388352.0000 - val_loss: 1241881216.0000\n",
            "Epoch 53/80\n",
            "35/35 [==============================] - 1s 16ms/step - loss: 1222222080.0000 - val_loss: 1232177664.0000\n",
            "Epoch 54/80\n",
            "35/35 [==============================] - 0s 3ms/step - loss: 1213055232.0000 - val_loss: 1221112960.0000\n",
            "Epoch 55/80\n",
            "35/35 [==============================] - 0s 3ms/step - loss: 1206474112.0000 - val_loss: 1211510400.0000\n",
            "Epoch 56/80\n",
            "35/35 [==============================] - 0s 3ms/step - loss: 1199179520.0000 - val_loss: 1199481088.0000\n",
            "Epoch 57/80\n",
            "35/35 [==============================] - 0s 3ms/step - loss: 1192301440.0000 - val_loss: 1240139136.0000\n",
            "Epoch 58/80\n",
            "35/35 [==============================] - 0s 10ms/step - loss: 1187697152.0000 - val_loss: 1210860544.0000\n"
          ]
        }
      ]
    },
    {
      "cell_type": "code",
      "source": [
        "plt.plot(history.history['loss'], label='Train loss')\n",
        "plt.plot(history.history['val_loss'], label='Test Loss')\n",
        "plt.legend();"
      ],
      "metadata": {
        "colab": {
          "base_uri": "https://localhost:8080/",
          "height": 276
        },
        "id": "C5cOFCoY-6RV",
        "outputId": "d506c102-5b36-4492-a53c-750d1f2593f5"
      },
      "execution_count": 41,
      "outputs": [
        {
          "output_type": "display_data",
          "data": {
            "text/plain": [
              "<Figure size 432x288 with 1 Axes>"
            ],
            "image/png": "[encoded data removed]"
          },
          "metadata": {
            "needs_background": "light"
          }
        }
      ]
    },
    {
      "cell_type": "markdown",
      "source": [
        "While, Not a lot of difference between the second and third models the third model only improved on what i already had. Im choosing the third model"
      ],
      "metadata": {
        "id": "wFGgY06pFSUw"
      }
    }
  ]
}