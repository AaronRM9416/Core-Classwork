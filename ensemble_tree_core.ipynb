{
  "nbformat": 4,
  "nbformat_minor": 0,
  "metadata": {
    "colab": {
      "name": "ensemble tree core",
      "provenance": [],
      "collapsed_sections": [],
      "authorship_tag": "ABX9TyNwNnjBmxeu8u3hdJw5Nheh",
      "include_colab_link": true
    },
    "kernelspec": {
      "name": "python3",
      "display_name": "Python 3"
    },
    "language_info": {
      "name": "python"
    }
  },
  "cells": [
    {
      "cell_type": "markdown",
      "metadata": {
        "id": "view-in-github",
        "colab_type": "text"
      },
      "source": [
        "<a href=\"https://colab.research.google.com/github/AaronRM9416/Core-Classwork/blob/main/ensemble_tree_core.ipynb\" target=\"_parent\"><img src=\"https://colab.research.google.com/assets/colab-badge.svg\" alt=\"Open In Colab\"/></a>"
      ]
    },
    {
      "cell_type": "markdown",
      "source": [
        "# **Ensemble Trees Exercise**\n",
        "Aaron Musselwhite"
      ],
      "metadata": {
        "id": "hziQsuNoCekT"
      }
    },
    {
      "cell_type": "code",
      "source": [
        "import pandas as pd\n",
        "import numpy as np\n",
        "from sklearn.model_selection import train_test_split\n",
        "from sklearn.compose import make_column_selector, make_column_transformer\n",
        "from sklearn.preprocessing import StandardScaler, MinMaxScaler, OneHotEncoder, \\\n",
        "OrdinalEncoder\n",
        "from sklearn.metrics import mean_absolute_error, mean_squared_error, r2_score\n",
        "from sklearn.pipeline import make_pipeline\n",
        "from sklearn.impute import SimpleImputer\n",
        "from sklearn.ensemble import BaggingRegressor, RandomForestRegressor\n",
        "from sklearn.tree import DecisionTreeRegressor\n",
        "from sklearn import set_config\n",
        "import matplotlib.pyplot as plt\n",
        "set_config(display='diagram')"
      ],
      "metadata": {
        "id": "IARUO-pqCwUG"
      },
      "execution_count": null,
      "outputs": []
    },
    {
      "cell_type": "code",
      "execution_count": null,
      "metadata": {
        "id": "TKoxdh4bAzOv"
      },
      "outputs": [],
      "source": [
        "data= 'https://docs.google.com/spreadsheets/d/e/2PACX-1vT-rSDIBs1OyB-hyONIDtb4WdszbHNcyT2sUIf8CmLS98dWRKq5Bfyyc7Pt-XqsZS1QYgCUfs0i2u8p/pub?output=csv'"
      ]
    },
    {
      "cell_type": "code",
      "source": [
        "df= pd.read_csv(data)"
      ],
      "metadata": {
        "id": "BcH_9SnQCsjn"
      },
      "execution_count": null,
      "outputs": []
    },
    {
      "cell_type": "code",
      "source": [
        "df.head()"
      ],
      "metadata": {
        "colab": {
          "base_uri": "https://localhost:8080/",
          "height": 206
        },
        "id": "-Rn73bX5C2Tc",
        "outputId": "c2bb7f20-e1fc-43c4-e1c6-3a97c1a740ab"
      },
      "execution_count": null,
      "outputs": [
        {
          "output_type": "execute_result",
          "data": {
            "text/plain": [
              "      CRIM    NOX     RM   AGE  PTRATIO  LSTAT  PRICE\n",
              "0  0.00632  0.538  6.575  65.2     15.3   4.98   24.0\n",
              "1  0.02731  0.469  6.421  78.9     17.8   9.14   21.6\n",
              "2  0.02729  0.469  7.185  61.1     17.8   4.03   34.7\n",
              "3  0.03237  0.458  6.998  45.8     18.7   2.94   33.4\n",
              "4  0.06905  0.458  7.147  54.2     18.7   5.33   36.2"
            ],
            "text/html": [
              "\n",
              "  <div id=\"df-4380fe26-5f1b-4fd1-a555-31436cf9b879\">\n",
              "    <div class=\"colab-df-container\">\n",
              "      <div>\n",
              "<style scoped>\n",
              "    .dataframe tbody tr th:only-of-type {\n",
              "        vertical-align: middle;\n",
              "    }\n",
              "\n",
              "    .dataframe tbody tr th {\n",
              "        vertical-align: top;\n",
              "    }\n",
              "\n",
              "    .dataframe thead th {\n",
              "        text-align: right;\n",
              "    }\n",
              "</style>\n",
              "<table border=\"1\" class=\"dataframe\">\n",
              "  <thead>\n",
              "    <tr style=\"text-align: right;\">\n",
              "      <th></th>\n",
              "      <th>CRIM</th>\n",
              "      <th>NOX</th>\n",
              "      <th>RM</th>\n",
              "      <th>AGE</th>\n",
              "      <th>PTRATIO</th>\n",
              "      <th>LSTAT</th>\n",
              "      <th>PRICE</th>\n",
              "    </tr>\n",
              "  </thead>\n",
              "  <tbody>\n",
              "    <tr>\n",
              "      <th>0</th>\n",
              "      <td>0.00632</td>\n",
              "      <td>0.538</td>\n",
              "      <td>6.575</td>\n",
              "      <td>65.2</td>\n",
              "      <td>15.3</td>\n",
              "      <td>4.98</td>\n",
              "      <td>24.0</td>\n",
              "    </tr>\n",
              "    <tr>\n",
              "      <th>1</th>\n",
              "      <td>0.02731</td>\n",
              "      <td>0.469</td>\n",
              "      <td>6.421</td>\n",
              "      <td>78.9</td>\n",
              "      <td>17.8</td>\n",
              "      <td>9.14</td>\n",
              "      <td>21.6</td>\n",
              "    </tr>\n",
              "    <tr>\n",
              "      <th>2</th>\n",
              "      <td>0.02729</td>\n",
              "      <td>0.469</td>\n",
              "      <td>7.185</td>\n",
              "      <td>61.1</td>\n",
              "      <td>17.8</td>\n",
              "      <td>4.03</td>\n",
              "      <td>34.7</td>\n",
              "    </tr>\n",
              "    <tr>\n",
              "      <th>3</th>\n",
              "      <td>0.03237</td>\n",
              "      <td>0.458</td>\n",
              "      <td>6.998</td>\n",
              "      <td>45.8</td>\n",
              "      <td>18.7</td>\n",
              "      <td>2.94</td>\n",
              "      <td>33.4</td>\n",
              "    </tr>\n",
              "    <tr>\n",
              "      <th>4</th>\n",
              "      <td>0.06905</td>\n",
              "      <td>0.458</td>\n",
              "      <td>7.147</td>\n",
              "      <td>54.2</td>\n",
              "      <td>18.7</td>\n",
              "      <td>5.33</td>\n",
              "      <td>36.2</td>\n",
              "    </tr>\n",
              "  </tbody>\n",
              "</table>\n",
              "</div>\n",
              "      <button class=\"colab-df-convert\" onclick=\"convertToInteractive('df-4380fe26-5f1b-4fd1-a555-31436cf9b879')\"\n",
              "              title=\"Convert this dataframe to an interactive table.\"\n",
              "              style=\"display:none;\">\n",
              "        \n",
              "  <svg xmlns=\"http://www.w3.org/2000/svg\" height=\"24px\"viewBox=\"0 0 24 24\"\n",
              "       width=\"24px\">\n",
              "    <path d=\"M0 0h24v24H0V0z\" fill=\"none\"/>\n",
              "    <path d=\"M18.56 5.44l.94 2.06.94-2.06 2.06-.94-2.06-.94-.94-2.06-.94 2.06-2.06.94zm-11 1L8.5 8.5l.94-2.06 2.06-.94-2.06-.94L8.5 2.5l-.94 2.06-2.06.94zm10 10l.94 2.06.94-2.06 2.06-.94-2.06-.94-.94-2.06-.94 2.06-2.06.94z\"/><path d=\"M17.41 7.96l-1.37-1.37c-.4-.4-.92-.59-1.43-.59-.52 0-1.04.2-1.43.59L10.3 9.45l-7.72 7.72c-.78.78-.78 2.05 0 2.83L4 21.41c.39.39.9.59 1.41.59.51 0 1.02-.2 1.41-.59l7.78-7.78 2.81-2.81c.8-.78.8-2.07 0-2.86zM5.41 20L4 18.59l7.72-7.72 1.47 1.35L5.41 20z\"/>\n",
              "  </svg>\n",
              "      </button>\n",
              "      \n",
              "  <style>\n",
              "    .colab-df-container {\n",
              "      display:flex;\n",
              "      flex-wrap:wrap;\n",
              "      gap: 12px;\n",
              "    }\n",
              "\n",
              "    .colab-df-convert {\n",
              "      background-color: #E8F0FE;\n",
              "      border: none;\n",
              "      border-radius: 50%;\n",
              "      cursor: pointer;\n",
              "      display: none;\n",
              "      fill: #1967D2;\n",
              "      height: 32px;\n",
              "      padding: 0 0 0 0;\n",
              "      width: 32px;\n",
              "    }\n",
              "\n",
              "    .colab-df-convert:hover {\n",
              "      background-color: #E2EBFA;\n",
              "      box-shadow: 0px 1px 2px rgba(60, 64, 67, 0.3), 0px 1px 3px 1px rgba(60, 64, 67, 0.15);\n",
              "      fill: #174EA6;\n",
              "    }\n",
              "\n",
              "    [theme=dark] .colab-df-convert {\n",
              "      background-color: #3B4455;\n",
              "      fill: #D2E3FC;\n",
              "    }\n",
              "\n",
              "    [theme=dark] .colab-df-convert:hover {\n",
              "      background-color: #434B5C;\n",
              "      box-shadow: 0px 1px 3px 1px rgba(0, 0, 0, 0.15);\n",
              "      filter: drop-shadow(0px 1px 2px rgba(0, 0, 0, 0.3));\n",
              "      fill: #FFFFFF;\n",
              "    }\n",
              "  </style>\n",
              "\n",
              "      <script>\n",
              "        const buttonEl =\n",
              "          document.querySelector('#df-4380fe26-5f1b-4fd1-a555-31436cf9b879 button.colab-df-convert');\n",
              "        buttonEl.style.display =\n",
              "          google.colab.kernel.accessAllowed ? 'block' : 'none';\n",
              "\n",
              "        async function convertToInteractive(key) {\n",
              "          const element = document.querySelector('#df-4380fe26-5f1b-4fd1-a555-31436cf9b879');\n",
              "          const dataTable =\n",
              "            await google.colab.kernel.invokeFunction('convertToInteractive',\n",
              "                                                     [key], {});\n",
              "          if (!dataTable) return;\n",
              "\n",
              "          const docLinkHtml = 'Like what you see? Visit the ' +\n",
              "            '<a target=\"_blank\" href=https://colab.research.google.com/notebooks/data_table.ipynb>data table notebook</a>'\n",
              "            + ' to learn more about interactive tables.';\n",
              "          element.innerHTML = '';\n",
              "          dataTable['output_type'] = 'display_data';\n",
              "          await google.colab.output.renderOutput(dataTable, element);\n",
              "          const docLink = document.createElement('div');\n",
              "          docLink.innerHTML = docLinkHtml;\n",
              "          element.appendChild(docLink);\n",
              "        }\n",
              "      </script>\n",
              "    </div>\n",
              "  </div>\n",
              "  "
            ]
          },
          "metadata": {},
          "execution_count": 129
        }
      ]
    },
    {
      "cell_type": "code",
      "source": [
        "y = df['PRICE']\n",
        "X = df.drop(columns = 'PRICE')"
      ],
      "metadata": {
        "id": "7J7OzVL7hGH6"
      },
      "execution_count": null,
      "outputs": []
    },
    {
      "cell_type": "code",
      "source": [
        "X_train, X_test, y_train, y_test = train_test_split(X, y, random_state=42)"
      ],
      "metadata": {
        "id": "gLM0T92nhm3J"
      },
      "execution_count": null,
      "outputs": []
    },
    {
      "cell_type": "markdown",
      "source": [
        "1) Try a Decision Tree, Bagged Tree, and Random Forest."
      ],
      "metadata": {
        "id": "o8ISHiFM1PIc"
      }
    },
    {
      "cell_type": "markdown",
      "source": [
        "*Decision Tree*"
      ],
      "metadata": {
        "id": "Lp36fOtZ1SRd"
      }
    },
    {
      "cell_type": "code",
      "source": [
        "d_tree= DecisionTreeRegressor(random_state = 42)"
      ],
      "metadata": {
        "id": "jSfQ7XFNhxOx"
      },
      "execution_count": null,
      "outputs": []
    },
    {
      "cell_type": "code",
      "source": [
        "d_tree.get_params()"
      ],
      "metadata": {
        "colab": {
          "base_uri": "https://localhost:8080/"
        },
        "id": "G3xMfUQEh7gt",
        "outputId": "3345af25-a5ff-4a49-ab5e-2edfb6d0c8a1"
      },
      "execution_count": null,
      "outputs": [
        {
          "output_type": "execute_result",
          "data": {
            "text/plain": [
              "{'ccp_alpha': 0.0,\n",
              " 'criterion': 'squared_error',\n",
              " 'max_depth': None,\n",
              " 'max_features': None,\n",
              " 'max_leaf_nodes': None,\n",
              " 'min_impurity_decrease': 0.0,\n",
              " 'min_samples_leaf': 1,\n",
              " 'min_samples_split': 2,\n",
              " 'min_weight_fraction_leaf': 0.0,\n",
              " 'random_state': 42,\n",
              " 'splitter': 'best'}"
            ]
          },
          "metadata": {},
          "execution_count": 133
        }
      ]
    },
    {
      "cell_type": "code",
      "source": [
        "d_tree.fit(X_train, y_train)"
      ],
      "metadata": {
        "colab": {
          "base_uri": "https://localhost:8080/",
          "height": 75
        },
        "id": "ndvWoiwNiCFx",
        "outputId": "91c934d9-6b3d-4fae-f00a-295782279ad0"
      },
      "execution_count": null,
      "outputs": [
        {
          "output_type": "execute_result",
          "data": {
            "text/plain": [
              "DecisionTreeRegressor(random_state=42)"
            ],
            "text/html": [
              "<style>#sk-bd70acc5-a151-4141-9136-93ef36a1d82d {color: black;background-color: white;}#sk-bd70acc5-a151-4141-9136-93ef36a1d82d pre{padding: 0;}#sk-bd70acc5-a151-4141-9136-93ef36a1d82d div.sk-toggleable {background-color: white;}#sk-bd70acc5-a151-4141-9136-93ef36a1d82d label.sk-toggleable__label {cursor: pointer;display: block;width: 100%;margin-bottom: 0;padding: 0.3em;box-sizing: border-box;text-align: center;}#sk-bd70acc5-a151-4141-9136-93ef36a1d82d label.sk-toggleable__label-arrow:before {content: \"▸\";float: left;margin-right: 0.25em;color: #696969;}#sk-bd70acc5-a151-4141-9136-93ef36a1d82d label.sk-toggleable__label-arrow:hover:before {color: black;}#sk-bd70acc5-a151-4141-9136-93ef36a1d82d div.sk-estimator:hover label.sk-toggleable__label-arrow:before {color: black;}#sk-bd70acc5-a151-4141-9136-93ef36a1d82d div.sk-toggleable__content {max-height: 0;max-width: 0;overflow: hidden;text-align: left;background-color: #f0f8ff;}#sk-bd70acc5-a151-4141-9136-93ef36a1d82d div.sk-toggleable__content pre {margin: 0.2em;color: black;border-radius: 0.25em;background-color: #f0f8ff;}#sk-bd70acc5-a151-4141-9136-93ef36a1d82d input.sk-toggleable__control:checked~div.sk-toggleable__content {max-height: 200px;max-width: 100%;overflow: auto;}#sk-bd70acc5-a151-4141-9136-93ef36a1d82d input.sk-toggleable__control:checked~label.sk-toggleable__label-arrow:before {content: \"▾\";}#sk-bd70acc5-a151-4141-9136-93ef36a1d82d div.sk-estimator input.sk-toggleable__control:checked~label.sk-toggleable__label {background-color: #d4ebff;}#sk-bd70acc5-a151-4141-9136-93ef36a1d82d div.sk-label input.sk-toggleable__control:checked~label.sk-toggleable__label {background-color: #d4ebff;}#sk-bd70acc5-a151-4141-9136-93ef36a1d82d input.sk-hidden--visually {border: 0;clip: rect(1px 1px 1px 1px);clip: rect(1px, 1px, 1px, 1px);height: 1px;margin: -1px;overflow: hidden;padding: 0;position: absolute;width: 1px;}#sk-bd70acc5-a151-4141-9136-93ef36a1d82d div.sk-estimator {font-family: monospace;background-color: #f0f8ff;border: 1px dotted black;border-radius: 0.25em;box-sizing: border-box;margin-bottom: 0.5em;}#sk-bd70acc5-a151-4141-9136-93ef36a1d82d div.sk-estimator:hover {background-color: #d4ebff;}#sk-bd70acc5-a151-4141-9136-93ef36a1d82d div.sk-parallel-item::after {content: \"\";width: 100%;border-bottom: 1px solid gray;flex-grow: 1;}#sk-bd70acc5-a151-4141-9136-93ef36a1d82d div.sk-label:hover label.sk-toggleable__label {background-color: #d4ebff;}#sk-bd70acc5-a151-4141-9136-93ef36a1d82d div.sk-serial::before {content: \"\";position: absolute;border-left: 1px solid gray;box-sizing: border-box;top: 2em;bottom: 0;left: 50%;}#sk-bd70acc5-a151-4141-9136-93ef36a1d82d div.sk-serial {display: flex;flex-direction: column;align-items: center;background-color: white;padding-right: 0.2em;padding-left: 0.2em;}#sk-bd70acc5-a151-4141-9136-93ef36a1d82d div.sk-item {z-index: 1;}#sk-bd70acc5-a151-4141-9136-93ef36a1d82d div.sk-parallel {display: flex;align-items: stretch;justify-content: center;background-color: white;}#sk-bd70acc5-a151-4141-9136-93ef36a1d82d div.sk-parallel::before {content: \"\";position: absolute;border-left: 1px solid gray;box-sizing: border-box;top: 2em;bottom: 0;left: 50%;}#sk-bd70acc5-a151-4141-9136-93ef36a1d82d div.sk-parallel-item {display: flex;flex-direction: column;position: relative;background-color: white;}#sk-bd70acc5-a151-4141-9136-93ef36a1d82d div.sk-parallel-item:first-child::after {align-self: flex-end;width: 50%;}#sk-bd70acc5-a151-4141-9136-93ef36a1d82d div.sk-parallel-item:last-child::after {align-self: flex-start;width: 50%;}#sk-bd70acc5-a151-4141-9136-93ef36a1d82d div.sk-parallel-item:only-child::after {width: 0;}#sk-bd70acc5-a151-4141-9136-93ef36a1d82d div.sk-dashed-wrapped {border: 1px dashed gray;margin: 0 0.4em 0.5em 0.4em;box-sizing: border-box;padding-bottom: 0.4em;background-color: white;position: relative;}#sk-bd70acc5-a151-4141-9136-93ef36a1d82d div.sk-label label {font-family: monospace;font-weight: bold;background-color: white;display: inline-block;line-height: 1.2em;}#sk-bd70acc5-a151-4141-9136-93ef36a1d82d div.sk-label-container {position: relative;z-index: 2;text-align: center;}#sk-bd70acc5-a151-4141-9136-93ef36a1d82d div.sk-container {/* jupyter's `normalize.less` sets `[hidden] { display: none; }` but bootstrap.min.css set `[hidden] { display: none !important; }` so we also need the `!important` here to be able to override the default hidden behavior on the sphinx rendered scikit-learn.org. See: https://github.com/scikit-learn/scikit-learn/issues/21755 */display: inline-block !important;position: relative;}#sk-bd70acc5-a151-4141-9136-93ef36a1d82d div.sk-text-repr-fallback {display: none;}</style><div id=\"sk-bd70acc5-a151-4141-9136-93ef36a1d82d\" class=\"sk-top-container\"><div class=\"sk-text-repr-fallback\"><pre>DecisionTreeRegressor(random_state=42)</pre><b>Please rerun this cell to show the HTML repr or trust the notebook.</b></div><div class=\"sk-container\" hidden><div class=\"sk-item\"><div class=\"sk-estimator sk-toggleable\"><input class=\"sk-toggleable__control sk-hidden--visually\" id=\"cb1432f9-6dc5-427e-a1b5-0184d49358de\" type=\"checkbox\" checked><label for=\"cb1432f9-6dc5-427e-a1b5-0184d49358de\" class=\"sk-toggleable__label sk-toggleable__label-arrow\">DecisionTreeRegressor</label><div class=\"sk-toggleable__content\"><pre>DecisionTreeRegressor(random_state=42)</pre></div></div></div></div></div>"
            ]
          },
          "metadata": {},
          "execution_count": 134
        }
      ]
    },
    {
      "cell_type": "code",
      "source": [
        "predtrain= d_tree.predict(X_train)\n",
        "predtest= d_tree.predict(X_test)"
      ],
      "metadata": {
        "id": "g8Gdd5EOiNro"
      },
      "execution_count": null,
      "outputs": []
    },
    {
      "cell_type": "code",
      "source": [
        "train_score= d_tree.score(X_train, y_train)\n",
        "print(train_score)"
      ],
      "metadata": {
        "colab": {
          "base_uri": "https://localhost:8080/"
        },
        "id": "rMH6shz4iYRp",
        "outputId": "7d0bc2b8-79f5-45de-bdc8-d4663147360d"
      },
      "execution_count": null,
      "outputs": [
        {
          "output_type": "stream",
          "name": "stdout",
          "text": [
            "1.0\n"
          ]
        }
      ]
    },
    {
      "cell_type": "code",
      "source": [
        "test_score= d_tree.score(X_test, y_test)\n",
        "print(test_score)"
      ],
      "metadata": {
        "colab": {
          "base_uri": "https://localhost:8080/"
        },
        "id": "kbMu-aaTiajr",
        "outputId": "f137cd6b-4f52-48bd-bb75-882935b0bfd3"
      },
      "execution_count": null,
      "outputs": [
        {
          "output_type": "stream",
          "name": "stdout",
          "text": [
            "0.6193230918136841\n"
          ]
        }
      ]
    },
    {
      "cell_type": "code",
      "source": [
        "d_tree.get_depth()"
      ],
      "metadata": {
        "colab": {
          "base_uri": "https://localhost:8080/"
        },
        "id": "l2ey0y_6igXr",
        "outputId": "dcaec777-bac6-4f58-8ab3-739c581fec76"
      },
      "execution_count": null,
      "outputs": [
        {
          "output_type": "execute_result",
          "data": {
            "text/plain": [
              "20"
            ]
          },
          "metadata": {},
          "execution_count": 138
        }
      ]
    },
    {
      "cell_type": "code",
      "source": [
        "d_tree.get_n_leaves()"
      ],
      "metadata": {
        "colab": {
          "base_uri": "https://localhost:8080/"
        },
        "id": "p_kEnff9ijOf",
        "outputId": "663b137f-4122-4d53-d125-d9ebee8da33e"
      },
      "execution_count": null,
      "outputs": [
        {
          "output_type": "execute_result",
          "data": {
            "text/plain": [
              "360"
            ]
          },
          "metadata": {},
          "execution_count": 139
        }
      ]
    },
    {
      "cell_type": "code",
      "source": [
        "depths = list(range(1, 20)) \n",
        "scoring = pd.DataFrame(index=depths, columns=['Test Score', 'Train Score']) \n",
        "for depth in depths:\n",
        "  d_tree = DecisionTreeRegressor(max_depth=depth, random_state=42)\n",
        "  d_tree.fit(X_train, y_train)\n",
        "  train_score = d_tree.score(X_train, y_train)\n",
        "  test_sccore = d_tree.score(X_test, y_test)\n",
        "  scoring.loc[depth, 'Train Score'] = train_score\n",
        "  scoring.loc[depth, 'Test Score'] = test_score "
      ],
      "metadata": {
        "id": "jLI1Tb-hYvwx"
      },
      "execution_count": null,
      "outputs": []
    },
    {
      "cell_type": "code",
      "source": [
        "sort_sco = scoring.sort_values(by='Test Score', ascending=True)\n",
        "sort_sco.head()"
      ],
      "metadata": {
        "colab": {
          "base_uri": "https://localhost:8080/",
          "height": 206
        },
        "id": "lGciEwNPbdx6",
        "outputId": "4018a9db-8241-42be-b2a5-4b76ace23cb4"
      },
      "execution_count": null,
      "outputs": [
        {
          "output_type": "execute_result",
          "data": {
            "text/plain": [
              "   Test Score Train Score\n",
              "1    0.619323    0.475164\n",
              "17   0.619323    0.999968\n",
              "16   0.619323    0.999811\n",
              "15   0.619323    0.999476\n",
              "14   0.619323    0.998707"
            ],
            "text/html": [
              "\n",
              "  <div id=\"df-a2e11ebe-8ba8-41f9-bb2e-acc00129a426\">\n",
              "    <div class=\"colab-df-container\">\n",
              "      <div>\n",
              "<style scoped>\n",
              "    .dataframe tbody tr th:only-of-type {\n",
              "        vertical-align: middle;\n",
              "    }\n",
              "\n",
              "    .dataframe tbody tr th {\n",
              "        vertical-align: top;\n",
              "    }\n",
              "\n",
              "    .dataframe thead th {\n",
              "        text-align: right;\n",
              "    }\n",
              "</style>\n",
              "<table border=\"1\" class=\"dataframe\">\n",
              "  <thead>\n",
              "    <tr style=\"text-align: right;\">\n",
              "      <th></th>\n",
              "      <th>Test Score</th>\n",
              "      <th>Train Score</th>\n",
              "    </tr>\n",
              "  </thead>\n",
              "  <tbody>\n",
              "    <tr>\n",
              "      <th>1</th>\n",
              "      <td>0.619323</td>\n",
              "      <td>0.475164</td>\n",
              "    </tr>\n",
              "    <tr>\n",
              "      <th>17</th>\n",
              "      <td>0.619323</td>\n",
              "      <td>0.999968</td>\n",
              "    </tr>\n",
              "    <tr>\n",
              "      <th>16</th>\n",
              "      <td>0.619323</td>\n",
              "      <td>0.999811</td>\n",
              "    </tr>\n",
              "    <tr>\n",
              "      <th>15</th>\n",
              "      <td>0.619323</td>\n",
              "      <td>0.999476</td>\n",
              "    </tr>\n",
              "    <tr>\n",
              "      <th>14</th>\n",
              "      <td>0.619323</td>\n",
              "      <td>0.998707</td>\n",
              "    </tr>\n",
              "  </tbody>\n",
              "</table>\n",
              "</div>\n",
              "      <button class=\"colab-df-convert\" onclick=\"convertToInteractive('df-a2e11ebe-8ba8-41f9-bb2e-acc00129a426')\"\n",
              "              title=\"Convert this dataframe to an interactive table.\"\n",
              "              style=\"display:none;\">\n",
              "        \n",
              "  <svg xmlns=\"http://www.w3.org/2000/svg\" height=\"24px\"viewBox=\"0 0 24 24\"\n",
              "       width=\"24px\">\n",
              "    <path d=\"M0 0h24v24H0V0z\" fill=\"none\"/>\n",
              "    <path d=\"M18.56 5.44l.94 2.06.94-2.06 2.06-.94-2.06-.94-.94-2.06-.94 2.06-2.06.94zm-11 1L8.5 8.5l.94-2.06 2.06-.94-2.06-.94L8.5 2.5l-.94 2.06-2.06.94zm10 10l.94 2.06.94-2.06 2.06-.94-2.06-.94-.94-2.06-.94 2.06-2.06.94z\"/><path d=\"M17.41 7.96l-1.37-1.37c-.4-.4-.92-.59-1.43-.59-.52 0-1.04.2-1.43.59L10.3 9.45l-7.72 7.72c-.78.78-.78 2.05 0 2.83L4 21.41c.39.39.9.59 1.41.59.51 0 1.02-.2 1.41-.59l7.78-7.78 2.81-2.81c.8-.78.8-2.07 0-2.86zM5.41 20L4 18.59l7.72-7.72 1.47 1.35L5.41 20z\"/>\n",
              "  </svg>\n",
              "      </button>\n",
              "      \n",
              "  <style>\n",
              "    .colab-df-container {\n",
              "      display:flex;\n",
              "      flex-wrap:wrap;\n",
              "      gap: 12px;\n",
              "    }\n",
              "\n",
              "    .colab-df-convert {\n",
              "      background-color: #E8F0FE;\n",
              "      border: none;\n",
              "      border-radius: 50%;\n",
              "      cursor: pointer;\n",
              "      display: none;\n",
              "      fill: #1967D2;\n",
              "      height: 32px;\n",
              "      padding: 0 0 0 0;\n",
              "      width: 32px;\n",
              "    }\n",
              "\n",
              "    .colab-df-convert:hover {\n",
              "      background-color: #E2EBFA;\n",
              "      box-shadow: 0px 1px 2px rgba(60, 64, 67, 0.3), 0px 1px 3px 1px rgba(60, 64, 67, 0.15);\n",
              "      fill: #174EA6;\n",
              "    }\n",
              "\n",
              "    [theme=dark] .colab-df-convert {\n",
              "      background-color: #3B4455;\n",
              "      fill: #D2E3FC;\n",
              "    }\n",
              "\n",
              "    [theme=dark] .colab-df-convert:hover {\n",
              "      background-color: #434B5C;\n",
              "      box-shadow: 0px 1px 3px 1px rgba(0, 0, 0, 0.15);\n",
              "      filter: drop-shadow(0px 1px 2px rgba(0, 0, 0, 0.3));\n",
              "      fill: #FFFFFF;\n",
              "    }\n",
              "  </style>\n",
              "\n",
              "      <script>\n",
              "        const buttonEl =\n",
              "          document.querySelector('#df-a2e11ebe-8ba8-41f9-bb2e-acc00129a426 button.colab-df-convert');\n",
              "        buttonEl.style.display =\n",
              "          google.colab.kernel.accessAllowed ? 'block' : 'none';\n",
              "\n",
              "        async function convertToInteractive(key) {\n",
              "          const element = document.querySelector('#df-a2e11ebe-8ba8-41f9-bb2e-acc00129a426');\n",
              "          const dataTable =\n",
              "            await google.colab.kernel.invokeFunction('convertToInteractive',\n",
              "                                                     [key], {});\n",
              "          if (!dataTable) return;\n",
              "\n",
              "          const docLinkHtml = 'Like what you see? Visit the ' +\n",
              "            '<a target=\"_blank\" href=https://colab.research.google.com/notebooks/data_table.ipynb>data table notebook</a>'\n",
              "            + ' to learn more about interactive tables.';\n",
              "          element.innerHTML = '';\n",
              "          dataTable['output_type'] = 'display_data';\n",
              "          await google.colab.output.renderOutput(dataTable, element);\n",
              "          const docLink = document.createElement('div');\n",
              "          docLink.innerHTML = docLinkHtml;\n",
              "          element.appendChild(docLink);\n",
              "        }\n",
              "      </script>\n",
              "    </div>\n",
              "  </div>\n",
              "  "
            ]
          },
          "metadata": {},
          "execution_count": 141
        }
      ]
    },
    {
      "cell_type": "code",
      "source": [
        "trainR2 = r2_score(y_train, predtrain)\n",
        "testR2 = r2_score(y_test, predtest)"
      ],
      "metadata": {
        "id": "QUdBTgr6bhPt"
      },
      "execution_count": null,
      "outputs": []
    },
    {
      "cell_type": "code",
      "source": [
        "print(f'Model Training R2: {trainR2}')\n",
        "print(f'Model Testiing R2: {testR2}')"
      ],
      "metadata": {
        "colab": {
          "base_uri": "https://localhost:8080/"
        },
        "id": "NR4tcgpjcwYC",
        "outputId": "27f67a92-2d09-4153-a3a2-848932a21774"
      },
      "execution_count": null,
      "outputs": [
        {
          "output_type": "stream",
          "name": "stdout",
          "text": [
            "Model Training R2: 1.0\n",
            "Model Testiing R2: 0.6193230918136841\n"
          ]
        }
      ]
    },
    {
      "cell_type": "code",
      "source": [
        "dec2 = DecisionTreeRegressor(max_depth= 10, random_state=42)\n",
        "dec2.fit(X_train, y_train)"
      ],
      "metadata": {
        "colab": {
          "base_uri": "https://localhost:8080/",
          "height": 75
        },
        "id": "DkWjT-06c-gd",
        "outputId": "2b67289b-89f7-48a3-efdc-b5aabdd1ba80"
      },
      "execution_count": null,
      "outputs": [
        {
          "output_type": "execute_result",
          "data": {
            "text/plain": [
              "DecisionTreeRegressor(max_depth=10, random_state=42)"
            ],
            "text/html": [
              "<style>#sk-01185225-3729-460a-a33e-6133ca76a278 {color: black;background-color: white;}#sk-01185225-3729-460a-a33e-6133ca76a278 pre{padding: 0;}#sk-01185225-3729-460a-a33e-6133ca76a278 div.sk-toggleable {background-color: white;}#sk-01185225-3729-460a-a33e-6133ca76a278 label.sk-toggleable__label {cursor: pointer;display: block;width: 100%;margin-bottom: 0;padding: 0.3em;box-sizing: border-box;text-align: center;}#sk-01185225-3729-460a-a33e-6133ca76a278 label.sk-toggleable__label-arrow:before {content: \"▸\";float: left;margin-right: 0.25em;color: #696969;}#sk-01185225-3729-460a-a33e-6133ca76a278 label.sk-toggleable__label-arrow:hover:before {color: black;}#sk-01185225-3729-460a-a33e-6133ca76a278 div.sk-estimator:hover label.sk-toggleable__label-arrow:before {color: black;}#sk-01185225-3729-460a-a33e-6133ca76a278 div.sk-toggleable__content {max-height: 0;max-width: 0;overflow: hidden;text-align: left;background-color: #f0f8ff;}#sk-01185225-3729-460a-a33e-6133ca76a278 div.sk-toggleable__content pre {margin: 0.2em;color: black;border-radius: 0.25em;background-color: #f0f8ff;}#sk-01185225-3729-460a-a33e-6133ca76a278 input.sk-toggleable__control:checked~div.sk-toggleable__content {max-height: 200px;max-width: 100%;overflow: auto;}#sk-01185225-3729-460a-a33e-6133ca76a278 input.sk-toggleable__control:checked~label.sk-toggleable__label-arrow:before {content: \"▾\";}#sk-01185225-3729-460a-a33e-6133ca76a278 div.sk-estimator input.sk-toggleable__control:checked~label.sk-toggleable__label {background-color: #d4ebff;}#sk-01185225-3729-460a-a33e-6133ca76a278 div.sk-label input.sk-toggleable__control:checked~label.sk-toggleable__label {background-color: #d4ebff;}#sk-01185225-3729-460a-a33e-6133ca76a278 input.sk-hidden--visually {border: 0;clip: rect(1px 1px 1px 1px);clip: rect(1px, 1px, 1px, 1px);height: 1px;margin: -1px;overflow: hidden;padding: 0;position: absolute;width: 1px;}#sk-01185225-3729-460a-a33e-6133ca76a278 div.sk-estimator {font-family: monospace;background-color: #f0f8ff;border: 1px dotted black;border-radius: 0.25em;box-sizing: border-box;margin-bottom: 0.5em;}#sk-01185225-3729-460a-a33e-6133ca76a278 div.sk-estimator:hover {background-color: #d4ebff;}#sk-01185225-3729-460a-a33e-6133ca76a278 div.sk-parallel-item::after {content: \"\";width: 100%;border-bottom: 1px solid gray;flex-grow: 1;}#sk-01185225-3729-460a-a33e-6133ca76a278 div.sk-label:hover label.sk-toggleable__label {background-color: #d4ebff;}#sk-01185225-3729-460a-a33e-6133ca76a278 div.sk-serial::before {content: \"\";position: absolute;border-left: 1px solid gray;box-sizing: border-box;top: 2em;bottom: 0;left: 50%;}#sk-01185225-3729-460a-a33e-6133ca76a278 div.sk-serial {display: flex;flex-direction: column;align-items: center;background-color: white;padding-right: 0.2em;padding-left: 0.2em;}#sk-01185225-3729-460a-a33e-6133ca76a278 div.sk-item {z-index: 1;}#sk-01185225-3729-460a-a33e-6133ca76a278 div.sk-parallel {display: flex;align-items: stretch;justify-content: center;background-color: white;}#sk-01185225-3729-460a-a33e-6133ca76a278 div.sk-parallel::before {content: \"\";position: absolute;border-left: 1px solid gray;box-sizing: border-box;top: 2em;bottom: 0;left: 50%;}#sk-01185225-3729-460a-a33e-6133ca76a278 div.sk-parallel-item {display: flex;flex-direction: column;position: relative;background-color: white;}#sk-01185225-3729-460a-a33e-6133ca76a278 div.sk-parallel-item:first-child::after {align-self: flex-end;width: 50%;}#sk-01185225-3729-460a-a33e-6133ca76a278 div.sk-parallel-item:last-child::after {align-self: flex-start;width: 50%;}#sk-01185225-3729-460a-a33e-6133ca76a278 div.sk-parallel-item:only-child::after {width: 0;}#sk-01185225-3729-460a-a33e-6133ca76a278 div.sk-dashed-wrapped {border: 1px dashed gray;margin: 0 0.4em 0.5em 0.4em;box-sizing: border-box;padding-bottom: 0.4em;background-color: white;position: relative;}#sk-01185225-3729-460a-a33e-6133ca76a278 div.sk-label label {font-family: monospace;font-weight: bold;background-color: white;display: inline-block;line-height: 1.2em;}#sk-01185225-3729-460a-a33e-6133ca76a278 div.sk-label-container {position: relative;z-index: 2;text-align: center;}#sk-01185225-3729-460a-a33e-6133ca76a278 div.sk-container {/* jupyter's `normalize.less` sets `[hidden] { display: none; }` but bootstrap.min.css set `[hidden] { display: none !important; }` so we also need the `!important` here to be able to override the default hidden behavior on the sphinx rendered scikit-learn.org. See: https://github.com/scikit-learn/scikit-learn/issues/21755 */display: inline-block !important;position: relative;}#sk-01185225-3729-460a-a33e-6133ca76a278 div.sk-text-repr-fallback {display: none;}</style><div id=\"sk-01185225-3729-460a-a33e-6133ca76a278\" class=\"sk-top-container\"><div class=\"sk-text-repr-fallback\"><pre>DecisionTreeRegressor(max_depth=10, random_state=42)</pre><b>Please rerun this cell to show the HTML repr or trust the notebook.</b></div><div class=\"sk-container\" hidden><div class=\"sk-item\"><div class=\"sk-estimator sk-toggleable\"><input class=\"sk-toggleable__control sk-hidden--visually\" id=\"36fcfbc7-1afd-486c-8a45-7ed22bca29e2\" type=\"checkbox\" checked><label for=\"36fcfbc7-1afd-486c-8a45-7ed22bca29e2\" class=\"sk-toggleable__label sk-toggleable__label-arrow\">DecisionTreeRegressor</label><div class=\"sk-toggleable__content\"><pre>DecisionTreeRegressor(max_depth=10, random_state=42)</pre></div></div></div></div></div>"
            ]
          },
          "metadata": {},
          "execution_count": 144
        }
      ]
    },
    {
      "cell_type": "code",
      "source": [
        "dec2_train_score = dec2.score(X_train, y_train)\n",
        "dec2_test_score = dec2.score(X_test, y_test)\n",
        "print(dec2_train_score)\n",
        "print(dec2_test_score)"
      ],
      "metadata": {
        "colab": {
          "base_uri": "https://localhost:8080/"
        },
        "id": "N3JUjZLAdSkS",
        "outputId": "f68c65e4-d767-46a3-a5ee-2e65f1d29b49"
      },
      "execution_count": null,
      "outputs": [
        {
          "output_type": "stream",
          "name": "stdout",
          "text": [
            "0.9867962386381032\n",
            "0.8460104271509634\n"
          ]
        }
      ]
    },
    {
      "cell_type": "code",
      "source": [
        "MAEtrain = mean_absolute_error(y_train, predtrain)\n",
        "MAEtest = mean_absolute_error(y_test, predtest)\n",
        "\n",
        "print(f'Model Training MAE Score:{MAEtrain}')\n",
        "print(f'Model Testing MAE Score:{MAEtest}')"
      ],
      "metadata": {
        "colab": {
          "base_uri": "https://localhost:8080/"
        },
        "id": "gY9xZ4Bjdd6q",
        "outputId": "e44ef1ad-acea-4f00-ba85-babf83ce02c0"
      },
      "execution_count": null,
      "outputs": [
        {
          "output_type": "stream",
          "name": "stdout",
          "text": [
            "Model Training MAE Score:0.0\n",
            "Model Testing MAE Score:3.1409448818897636\n"
          ]
        }
      ]
    },
    {
      "cell_type": "code",
      "source": [
        "MSEtrain = mean_squared_error(y_train, predtrain)\n",
        "MSEtest = mean_squared_error(y_test, predtest)\n",
        "\n",
        "print(f'Model Training MSE Score:{MSEtrain}')\n",
        "print(f'Model Testing MSE Score:{MSEtest}')"
      ],
      "metadata": {
        "colab": {
          "base_uri": "https://localhost:8080/"
        },
        "id": "aIZQyzVxd6OB",
        "outputId": "a0da6cb3-2ec2-46e8-a12b-c7e0d6307121"
      },
      "execution_count": null,
      "outputs": [
        {
          "output_type": "stream",
          "name": "stdout",
          "text": [
            "Model Training MSE Score:0.0\n",
            "Model Testing MSE Score:26.657716535433075\n"
          ]
        }
      ]
    },
    {
      "cell_type": "code",
      "source": [
        "RMSEtrain = np.sqrt(MSEtrain)\n",
        "RMSEtest = np.sqrt(MSEtest)\n",
        "\n",
        "print(f'Model Training RMSE Score:{RMSEtrain}')\n",
        "print(f'Model Testing RMSE Scoree:{RMSEtest}')"
      ],
      "metadata": {
        "colab": {
          "base_uri": "https://localhost:8080/"
        },
        "id": "lZT_qgROecKL",
        "outputId": "43dfb6de-4a95-46ba-b90c-97ab64aea74b"
      },
      "execution_count": null,
      "outputs": [
        {
          "output_type": "stream",
          "name": "stdout",
          "text": [
            "Model Training RMSE Score:0.0\n",
            "Model Testing RMSE Scoree:5.163111129487053\n"
          ]
        }
      ]
    },
    {
      "cell_type": "markdown",
      "source": [
        " *Bagged Tree*"
      ],
      "metadata": {
        "id": "cSlfm-EtfUBl"
      }
    },
    {
      "cell_type": "code",
      "source": [
        "frodobaggins= BaggingRegressor (random_state= 42)\n",
        "frodobaggins.get_params()"
      ],
      "metadata": {
        "colab": {
          "base_uri": "https://localhost:8080/"
        },
        "id": "l1tv_JZ-e6Ax",
        "outputId": "2c5fc63b-ddb8-4c43-e42e-ac53af78b892"
      },
      "execution_count": null,
      "outputs": [
        {
          "output_type": "execute_result",
          "data": {
            "text/plain": [
              "{'base_estimator': None,\n",
              " 'bootstrap': True,\n",
              " 'bootstrap_features': False,\n",
              " 'max_features': 1.0,\n",
              " 'max_samples': 1.0,\n",
              " 'n_estimators': 10,\n",
              " 'n_jobs': None,\n",
              " 'oob_score': False,\n",
              " 'random_state': 42,\n",
              " 'verbose': 0,\n",
              " 'warm_start': False}"
            ]
          },
          "metadata": {},
          "execution_count": 149
        }
      ]
    },
    {
      "cell_type": "code",
      "source": [
        "frodobaggins.fit(X_train, y_train)"
      ],
      "metadata": {
        "colab": {
          "base_uri": "https://localhost:8080/",
          "height": 75
        },
        "id": "2AEaFGYCfbOW",
        "outputId": "caa5dfc6-42bf-4999-985b-0064a1c2c7e4"
      },
      "execution_count": null,
      "outputs": [
        {
          "output_type": "execute_result",
          "data": {
            "text/plain": [
              "BaggingRegressor(random_state=42)"
            ],
            "text/html": [
              "<style>#sk-f82c9da6-1d89-4501-9ecb-1449e37361f8 {color: black;background-color: white;}#sk-f82c9da6-1d89-4501-9ecb-1449e37361f8 pre{padding: 0;}#sk-f82c9da6-1d89-4501-9ecb-1449e37361f8 div.sk-toggleable {background-color: white;}#sk-f82c9da6-1d89-4501-9ecb-1449e37361f8 label.sk-toggleable__label {cursor: pointer;display: block;width: 100%;margin-bottom: 0;padding: 0.3em;box-sizing: border-box;text-align: center;}#sk-f82c9da6-1d89-4501-9ecb-1449e37361f8 label.sk-toggleable__label-arrow:before {content: \"▸\";float: left;margin-right: 0.25em;color: #696969;}#sk-f82c9da6-1d89-4501-9ecb-1449e37361f8 label.sk-toggleable__label-arrow:hover:before {color: black;}#sk-f82c9da6-1d89-4501-9ecb-1449e37361f8 div.sk-estimator:hover label.sk-toggleable__label-arrow:before {color: black;}#sk-f82c9da6-1d89-4501-9ecb-1449e37361f8 div.sk-toggleable__content {max-height: 0;max-width: 0;overflow: hidden;text-align: left;background-color: #f0f8ff;}#sk-f82c9da6-1d89-4501-9ecb-1449e37361f8 div.sk-toggleable__content pre {margin: 0.2em;color: black;border-radius: 0.25em;background-color: #f0f8ff;}#sk-f82c9da6-1d89-4501-9ecb-1449e37361f8 input.sk-toggleable__control:checked~div.sk-toggleable__content {max-height: 200px;max-width: 100%;overflow: auto;}#sk-f82c9da6-1d89-4501-9ecb-1449e37361f8 input.sk-toggleable__control:checked~label.sk-toggleable__label-arrow:before {content: \"▾\";}#sk-f82c9da6-1d89-4501-9ecb-1449e37361f8 div.sk-estimator input.sk-toggleable__control:checked~label.sk-toggleable__label {background-color: #d4ebff;}#sk-f82c9da6-1d89-4501-9ecb-1449e37361f8 div.sk-label input.sk-toggleable__control:checked~label.sk-toggleable__label {background-color: #d4ebff;}#sk-f82c9da6-1d89-4501-9ecb-1449e37361f8 input.sk-hidden--visually {border: 0;clip: rect(1px 1px 1px 1px);clip: rect(1px, 1px, 1px, 1px);height: 1px;margin: -1px;overflow: hidden;padding: 0;position: absolute;width: 1px;}#sk-f82c9da6-1d89-4501-9ecb-1449e37361f8 div.sk-estimator {font-family: monospace;background-color: #f0f8ff;border: 1px dotted black;border-radius: 0.25em;box-sizing: border-box;margin-bottom: 0.5em;}#sk-f82c9da6-1d89-4501-9ecb-1449e37361f8 div.sk-estimator:hover {background-color: #d4ebff;}#sk-f82c9da6-1d89-4501-9ecb-1449e37361f8 div.sk-parallel-item::after {content: \"\";width: 100%;border-bottom: 1px solid gray;flex-grow: 1;}#sk-f82c9da6-1d89-4501-9ecb-1449e37361f8 div.sk-label:hover label.sk-toggleable__label {background-color: #d4ebff;}#sk-f82c9da6-1d89-4501-9ecb-1449e37361f8 div.sk-serial::before {content: \"\";position: absolute;border-left: 1px solid gray;box-sizing: border-box;top: 2em;bottom: 0;left: 50%;}#sk-f82c9da6-1d89-4501-9ecb-1449e37361f8 div.sk-serial {display: flex;flex-direction: column;align-items: center;background-color: white;padding-right: 0.2em;padding-left: 0.2em;}#sk-f82c9da6-1d89-4501-9ecb-1449e37361f8 div.sk-item {z-index: 1;}#sk-f82c9da6-1d89-4501-9ecb-1449e37361f8 div.sk-parallel {display: flex;align-items: stretch;justify-content: center;background-color: white;}#sk-f82c9da6-1d89-4501-9ecb-1449e37361f8 div.sk-parallel::before {content: \"\";position: absolute;border-left: 1px solid gray;box-sizing: border-box;top: 2em;bottom: 0;left: 50%;}#sk-f82c9da6-1d89-4501-9ecb-1449e37361f8 div.sk-parallel-item {display: flex;flex-direction: column;position: relative;background-color: white;}#sk-f82c9da6-1d89-4501-9ecb-1449e37361f8 div.sk-parallel-item:first-child::after {align-self: flex-end;width: 50%;}#sk-f82c9da6-1d89-4501-9ecb-1449e37361f8 div.sk-parallel-item:last-child::after {align-self: flex-start;width: 50%;}#sk-f82c9da6-1d89-4501-9ecb-1449e37361f8 div.sk-parallel-item:only-child::after {width: 0;}#sk-f82c9da6-1d89-4501-9ecb-1449e37361f8 div.sk-dashed-wrapped {border: 1px dashed gray;margin: 0 0.4em 0.5em 0.4em;box-sizing: border-box;padding-bottom: 0.4em;background-color: white;position: relative;}#sk-f82c9da6-1d89-4501-9ecb-1449e37361f8 div.sk-label label {font-family: monospace;font-weight: bold;background-color: white;display: inline-block;line-height: 1.2em;}#sk-f82c9da6-1d89-4501-9ecb-1449e37361f8 div.sk-label-container {position: relative;z-index: 2;text-align: center;}#sk-f82c9da6-1d89-4501-9ecb-1449e37361f8 div.sk-container {/* jupyter's `normalize.less` sets `[hidden] { display: none; }` but bootstrap.min.css set `[hidden] { display: none !important; }` so we also need the `!important` here to be able to override the default hidden behavior on the sphinx rendered scikit-learn.org. See: https://github.com/scikit-learn/scikit-learn/issues/21755 */display: inline-block !important;position: relative;}#sk-f82c9da6-1d89-4501-9ecb-1449e37361f8 div.sk-text-repr-fallback {display: none;}</style><div id=\"sk-f82c9da6-1d89-4501-9ecb-1449e37361f8\" class=\"sk-top-container\"><div class=\"sk-text-repr-fallback\"><pre>BaggingRegressor(random_state=42)</pre><b>Please rerun this cell to show the HTML repr or trust the notebook.</b></div><div class=\"sk-container\" hidden><div class=\"sk-item\"><div class=\"sk-estimator sk-toggleable\"><input class=\"sk-toggleable__control sk-hidden--visually\" id=\"8f9f4bcc-39ee-4b42-99d0-3761499a7f26\" type=\"checkbox\" checked><label for=\"8f9f4bcc-39ee-4b42-99d0-3761499a7f26\" class=\"sk-toggleable__label sk-toggleable__label-arrow\">BaggingRegressor</label><div class=\"sk-toggleable__content\"><pre>BaggingRegressor(random_state=42)</pre></div></div></div></div></div>"
            ]
          },
          "metadata": {},
          "execution_count": 150
        }
      ]
    },
    {
      "cell_type": "code",
      "source": [
        "frodobaggins.predict(X_test)"
      ],
      "metadata": {
        "colab": {
          "base_uri": "https://localhost:8080/"
        },
        "id": "2EnnGGHSfixR",
        "outputId": "b462a191-7ead-4485-fdf1-618c57c2f53e"
      },
      "execution_count": null,
      "outputs": [
        {
          "output_type": "execute_result",
          "data": {
            "text/plain": [
              "array([24.04, 30.77, 18.39, 24.04, 16.09, 20.4 , 19.13, 15.03, 21.07,\n",
              "       21.39, 18.87, 19.46,  7.68, 19.44, 18.93, 25.27, 19.06,  7.87,\n",
              "       44.92, 14.98, 24.01, 23.58, 14.26, 24.63, 14.15, 12.82, 20.67,\n",
              "       14.2 , 19.37, 20.33, 20.6 , 23.18, 31.23, 21.4 , 13.94, 15.81,\n",
              "       36.2 , 19.6 , 20.22, 24.6 , 18.88, 25.75, 44.15, 20.44, 22.72,\n",
              "       14.5 , 14.95, 24.43, 16.76, 28.32, 22.93, 34.44, 15.92, 25.6 ,\n",
              "       47.42, 22.56, 15.93, 31.44, 21.34, 20.25, 27.03, 33.4 , 27.06,\n",
              "       19.23, 28.11, 16.18, 14.58, 22.82, 28.31, 16.5 , 19.59, 25.86,\n",
              "        9.79, 21.71, 21.47,  6.94, 20.52, 46.12, 11.9 , 14.74, 20.45,\n",
              "       11.14, 20.37,  9.44, 20.4 , 26.58, 16.95, 23.41, 24.52, 17.98,\n",
              "       23.  ,  7.34, 18.97, 20.09, 26.26, 20.12, 35.89, 11.42, 12.12,\n",
              "       12.27, 20.1 , 23.  , 11.72, 23.22, 20.29, 15.51, 18.07, 25.05,\n",
              "       21.62, 23.58,  7.73, 14.05, 21.61, 22.51, 33.87, 12.38, 43.51,\n",
              "       16.17, 18.67, 24.28, 20.11, 24.72,  8.68, 20.84, 24.5 , 21.74,\n",
              "       24.2 ])"
            ]
          },
          "metadata": {},
          "execution_count": 151
        }
      ]
    },
    {
      "cell_type": "code",
      "source": [
        "bagginses_train_score = frodobaggins.score(X_train, y_train)\n",
        "bagginses_test_score = frodobaggins.score(X_test, y_test)\n",
        "print(f'Model Training Score: {bagginses_train_score}')\n",
        "print(f'Model Test Score: {bagginses_test_score}')"
      ],
      "metadata": {
        "colab": {
          "base_uri": "https://localhost:8080/"
        },
        "id": "QB0qrFn3gCGv",
        "outputId": "3fd66ccf-d26b-4538-c539-b1b60716dc26"
      },
      "execution_count": null,
      "outputs": [
        {
          "output_type": "stream",
          "name": "stdout",
          "text": [
            "Model Training Score: 0.9606756023782893\n",
            "Model Test Score: 0.8204208271364619\n"
          ]
        }
      ]
    },
    {
      "cell_type": "code",
      "source": [
        "estimators = [20, 40, 60, 80, 100]\n",
        "score = pd.DataFrame(index=estimators, columns=['Train Score', 'Test Sccore'])\n",
        "for num_estimators in estimators: \n",
        "  tea_bag = BaggingRegressor(n_estimators=num_estimators, random_state=42)\n",
        "  tea_bag.fit(X_train, y_train)\n",
        "  train_score = tea_bag.score(X_train, y_train)\n",
        "  test_score = tea_bag.score(X_test, y_test)\n",
        "  score.loc[num_estimators, 'Train Score '] = train_score\n",
        "  score.loc[num_estimators, 'Test Score'] = test_score"
      ],
      "metadata": {
        "id": "TD2HzIx7g-lK"
      },
      "execution_count": null,
      "outputs": []
    },
    {
      "cell_type": "code",
      "source": [
        "plt.plot(score['Test Score'])\n",
        "plt.show()"
      ],
      "metadata": {
        "colab": {
          "base_uri": "https://localhost:8080/",
          "height": 265
        },
        "id": "AeV9P9KIhWGN",
        "outputId": "e3811416-7abe-47ce-dcd7-cb9c7385f0f9"
      },
      "execution_count": null,
      "outputs": [
        {
          "output_type": "display_data",
          "data": {
            "text/plain": [
              "<Figure size 432x288 with 1 Axes>"
            ],
            "image/png": "[encoded data removed]"
          },
          "metadata": {
            "needs_background": "light"
          }
        }
      ]
    },
    {
      "cell_type": "code",
      "source": [
        "scoring = score.sort_values(by='Test Score', ascending=False)\n",
        "scoring"
      ],
      "metadata": {
        "colab": {
          "base_uri": "https://localhost:8080/",
          "height": 206
        },
        "id": "ODslFOGKh2yf",
        "outputId": "99d1c206-f47f-4f9a-f8b9-8b81c5896632"
      },
      "execution_count": null,
      "outputs": [
        {
          "output_type": "execute_result",
          "data": {
            "text/plain": [
              "    Train Score Test Sccore  Train Score   Test Score\n",
              "40          NaN         NaN      0.973950    0.834365\n",
              "100         NaN         NaN      0.977246    0.833051\n",
              "20          NaN         NaN      0.970100    0.831147\n",
              "60          NaN         NaN      0.976396    0.830005\n",
              "80          NaN         NaN      0.976051    0.828372"
            ],
            "text/html": [
              "\n",
              "  <div id=\"df-dd88362e-365d-4009-87b8-1dbb37a381b2\">\n",
              "    <div class=\"colab-df-container\">\n",
              "      <div>\n",
              "<style scoped>\n",
              "    .dataframe tbody tr th:only-of-type {\n",
              "        vertical-align: middle;\n",
              "    }\n",
              "\n",
              "    .dataframe tbody tr th {\n",
              "        vertical-align: top;\n",
              "    }\n",
              "\n",
              "    .dataframe thead th {\n",
              "        text-align: right;\n",
              "    }\n",
              "</style>\n",
              "<table border=\"1\" class=\"dataframe\">\n",
              "  <thead>\n",
              "    <tr style=\"text-align: right;\">\n",
              "      <th></th>\n",
              "      <th>Train Score</th>\n",
              "      <th>Test Sccore</th>\n",
              "      <th>Train Score</th>\n",
              "      <th>Test Score</th>\n",
              "    </tr>\n",
              "  </thead>\n",
              "  <tbody>\n",
              "    <tr>\n",
              "      <th>40</th>\n",
              "      <td>NaN</td>\n",
              "      <td>NaN</td>\n",
              "      <td>0.973950</td>\n",
              "      <td>0.834365</td>\n",
              "    </tr>\n",
              "    <tr>\n",
              "      <th>100</th>\n",
              "      <td>NaN</td>\n",
              "      <td>NaN</td>\n",
              "      <td>0.977246</td>\n",
              "      <td>0.833051</td>\n",
              "    </tr>\n",
              "    <tr>\n",
              "      <th>20</th>\n",
              "      <td>NaN</td>\n",
              "      <td>NaN</td>\n",
              "      <td>0.970100</td>\n",
              "      <td>0.831147</td>\n",
              "    </tr>\n",
              "    <tr>\n",
              "      <th>60</th>\n",
              "      <td>NaN</td>\n",
              "      <td>NaN</td>\n",
              "      <td>0.976396</td>\n",
              "      <td>0.830005</td>\n",
              "    </tr>\n",
              "    <tr>\n",
              "      <th>80</th>\n",
              "      <td>NaN</td>\n",
              "      <td>NaN</td>\n",
              "      <td>0.976051</td>\n",
              "      <td>0.828372</td>\n",
              "    </tr>\n",
              "  </tbody>\n",
              "</table>\n",
              "</div>\n",
              "      <button class=\"colab-df-convert\" onclick=\"convertToInteractive('df-dd88362e-365d-4009-87b8-1dbb37a381b2')\"\n",
              "              title=\"Convert this dataframe to an interactive table.\"\n",
              "              style=\"display:none;\">\n",
              "        \n",
              "  <svg xmlns=\"http://www.w3.org/2000/svg\" height=\"24px\"viewBox=\"0 0 24 24\"\n",
              "       width=\"24px\">\n",
              "    <path d=\"M0 0h24v24H0V0z\" fill=\"none\"/>\n",
              "    <path d=\"M18.56 5.44l.94 2.06.94-2.06 2.06-.94-2.06-.94-.94-2.06-.94 2.06-2.06.94zm-11 1L8.5 8.5l.94-2.06 2.06-.94-2.06-.94L8.5 2.5l-.94 2.06-2.06.94zm10 10l.94 2.06.94-2.06 2.06-.94-2.06-.94-.94-2.06-.94 2.06-2.06.94z\"/><path d=\"M17.41 7.96l-1.37-1.37c-.4-.4-.92-.59-1.43-.59-.52 0-1.04.2-1.43.59L10.3 9.45l-7.72 7.72c-.78.78-.78 2.05 0 2.83L4 21.41c.39.39.9.59 1.41.59.51 0 1.02-.2 1.41-.59l7.78-7.78 2.81-2.81c.8-.78.8-2.07 0-2.86zM5.41 20L4 18.59l7.72-7.72 1.47 1.35L5.41 20z\"/>\n",
              "  </svg>\n",
              "      </button>\n",
              "      \n",
              "  <style>\n",
              "    .colab-df-container {\n",
              "      display:flex;\n",
              "      flex-wrap:wrap;\n",
              "      gap: 12px;\n",
              "    }\n",
              "\n",
              "    .colab-df-convert {\n",
              "      background-color: #E8F0FE;\n",
              "      border: none;\n",
              "      border-radius: 50%;\n",
              "      cursor: pointer;\n",
              "      display: none;\n",
              "      fill: #1967D2;\n",
              "      height: 32px;\n",
              "      padding: 0 0 0 0;\n",
              "      width: 32px;\n",
              "    }\n",
              "\n",
              "    .colab-df-convert:hover {\n",
              "      background-color: #E2EBFA;\n",
              "      box-shadow: 0px 1px 2px rgba(60, 64, 67, 0.3), 0px 1px 3px 1px rgba(60, 64, 67, 0.15);\n",
              "      fill: #174EA6;\n",
              "    }\n",
              "\n",
              "    [theme=dark] .colab-df-convert {\n",
              "      background-color: #3B4455;\n",
              "      fill: #D2E3FC;\n",
              "    }\n",
              "\n",
              "    [theme=dark] .colab-df-convert:hover {\n",
              "      background-color: #434B5C;\n",
              "      box-shadow: 0px 1px 3px 1px rgba(0, 0, 0, 0.15);\n",
              "      filter: drop-shadow(0px 1px 2px rgba(0, 0, 0, 0.3));\n",
              "      fill: #FFFFFF;\n",
              "    }\n",
              "  </style>\n",
              "\n",
              "      <script>\n",
              "        const buttonEl =\n",
              "          document.querySelector('#df-dd88362e-365d-4009-87b8-1dbb37a381b2 button.colab-df-convert');\n",
              "        buttonEl.style.display =\n",
              "          google.colab.kernel.accessAllowed ? 'block' : 'none';\n",
              "\n",
              "        async function convertToInteractive(key) {\n",
              "          const element = document.querySelector('#df-dd88362e-365d-4009-87b8-1dbb37a381b2');\n",
              "          const dataTable =\n",
              "            await google.colab.kernel.invokeFunction('convertToInteractive',\n",
              "                                                     [key], {});\n",
              "          if (!dataTable) return;\n",
              "\n",
              "          const docLinkHtml = 'Like what you see? Visit the ' +\n",
              "            '<a target=\"_blank\" href=https://colab.research.google.com/notebooks/data_table.ipynb>data table notebook</a>'\n",
              "            + ' to learn more about interactive tables.';\n",
              "          element.innerHTML = '';\n",
              "          dataTable['output_type'] = 'display_data';\n",
              "          await google.colab.output.renderOutput(dataTable, element);\n",
              "          const docLink = document.createElement('div');\n",
              "          docLink.innerHTML = docLinkHtml;\n",
              "          element.appendChild(docLink);\n",
              "        }\n",
              "      </script>\n",
              "    </div>\n",
              "  </div>\n",
              "  "
            ]
          },
          "metadata": {},
          "execution_count": 155
        }
      ]
    },
    {
      "cell_type": "code",
      "source": [
        "best_est = scoring.index[0]\n",
        "teabagtuning = BaggingRegressor(n_estimators=best_est,)\n",
        "teabagtuning.fit(X_train, y_train)\n",
        "print(teabagtuning.score(X_train, y_train))\n",
        "print(teabagtuning.score(X_test, y_test))"
      ],
      "metadata": {
        "colab": {
          "base_uri": "https://localhost:8080/"
        },
        "id": "YqEGGDG0ibA7",
        "outputId": "28678155-3b1b-4518-9610-e91e2ce8c52a"
      },
      "execution_count": 158,
      "outputs": [
        {
          "output_type": "stream",
          "name": "stdout",
          "text": [
            "0.9755359754811042\n",
            "0.8294600020248473\n"
          ]
        }
      ]
    },
    {
      "cell_type": "markdown",
      "source": [
        "*Random Forest*"
      ],
      "metadata": {
        "id": "X923sjCYk2HU"
      }
    },
    {
      "cell_type": "code",
      "source": [
        "runforestrun = RandomForestRegressor(random_state = 42)\n",
        "runforestrun.get_params()"
      ],
      "metadata": {
        "colab": {
          "base_uri": "https://localhost:8080/"
        },
        "id": "HObx9FGck2q-",
        "outputId": "93cf0fee-dd91-4a57-dc91-5dd1ee5a9314"
      },
      "execution_count": 159,
      "outputs": [
        {
          "output_type": "execute_result",
          "data": {
            "text/plain": [
              "{'bootstrap': True,\n",
              " 'ccp_alpha': 0.0,\n",
              " 'criterion': 'squared_error',\n",
              " 'max_depth': None,\n",
              " 'max_features': 'auto',\n",
              " 'max_leaf_nodes': None,\n",
              " 'max_samples': None,\n",
              " 'min_impurity_decrease': 0.0,\n",
              " 'min_samples_leaf': 1,\n",
              " 'min_samples_split': 2,\n",
              " 'min_weight_fraction_leaf': 0.0,\n",
              " 'n_estimators': 100,\n",
              " 'n_jobs': None,\n",
              " 'oob_score': False,\n",
              " 'random_state': 42,\n",
              " 'verbose': 0,\n",
              " 'warm_start': False}"
            ]
          },
          "metadata": {},
          "execution_count": 159
        }
      ]
    },
    {
      "cell_type": "code",
      "source": [
        "runforestrun.fit(X_train, y_train)"
      ],
      "metadata": {
        "colab": {
          "base_uri": "https://localhost:8080/",
          "height": 75
        },
        "id": "G8VNnL5tlLYl",
        "outputId": "3aa69311-34fc-4db0-f03b-ecc5b786b038"
      },
      "execution_count": 161,
      "outputs": [
        {
          "output_type": "execute_result",
          "data": {
            "text/plain": [
              "RandomForestRegressor(random_state=42)"
            ],
            "text/html": [
              "<style>#sk-254d7182-22c7-4fbd-bdfe-3f798ff51bdf {color: black;background-color: white;}#sk-254d7182-22c7-4fbd-bdfe-3f798ff51bdf pre{padding: 0;}#sk-254d7182-22c7-4fbd-bdfe-3f798ff51bdf div.sk-toggleable {background-color: white;}#sk-254d7182-22c7-4fbd-bdfe-3f798ff51bdf label.sk-toggleable__label {cursor: pointer;display: block;width: 100%;margin-bottom: 0;padding: 0.3em;box-sizing: border-box;text-align: center;}#sk-254d7182-22c7-4fbd-bdfe-3f798ff51bdf label.sk-toggleable__label-arrow:before {content: \"▸\";float: left;margin-right: 0.25em;color: #696969;}#sk-254d7182-22c7-4fbd-bdfe-3f798ff51bdf label.sk-toggleable__label-arrow:hover:before {color: black;}#sk-254d7182-22c7-4fbd-bdfe-3f798ff51bdf div.sk-estimator:hover label.sk-toggleable__label-arrow:before {color: black;}#sk-254d7182-22c7-4fbd-bdfe-3f798ff51bdf div.sk-toggleable__content {max-height: 0;max-width: 0;overflow: hidden;text-align: left;background-color: #f0f8ff;}#sk-254d7182-22c7-4fbd-bdfe-3f798ff51bdf div.sk-toggleable__content pre {margin: 0.2em;color: black;border-radius: 0.25em;background-color: #f0f8ff;}#sk-254d7182-22c7-4fbd-bdfe-3f798ff51bdf input.sk-toggleable__control:checked~div.sk-toggleable__content {max-height: 200px;max-width: 100%;overflow: auto;}#sk-254d7182-22c7-4fbd-bdfe-3f798ff51bdf input.sk-toggleable__control:checked~label.sk-toggleable__label-arrow:before {content: \"▾\";}#sk-254d7182-22c7-4fbd-bdfe-3f798ff51bdf div.sk-estimator input.sk-toggleable__control:checked~label.sk-toggleable__label {background-color: #d4ebff;}#sk-254d7182-22c7-4fbd-bdfe-3f798ff51bdf div.sk-label input.sk-toggleable__control:checked~label.sk-toggleable__label {background-color: #d4ebff;}#sk-254d7182-22c7-4fbd-bdfe-3f798ff51bdf input.sk-hidden--visually {border: 0;clip: rect(1px 1px 1px 1px);clip: rect(1px, 1px, 1px, 1px);height: 1px;margin: -1px;overflow: hidden;padding: 0;position: absolute;width: 1px;}#sk-254d7182-22c7-4fbd-bdfe-3f798ff51bdf div.sk-estimator {font-family: monospace;background-color: #f0f8ff;border: 1px dotted black;border-radius: 0.25em;box-sizing: border-box;margin-bottom: 0.5em;}#sk-254d7182-22c7-4fbd-bdfe-3f798ff51bdf div.sk-estimator:hover {background-color: #d4ebff;}#sk-254d7182-22c7-4fbd-bdfe-3f798ff51bdf div.sk-parallel-item::after {content: \"\";width: 100%;border-bottom: 1px solid gray;flex-grow: 1;}#sk-254d7182-22c7-4fbd-bdfe-3f798ff51bdf div.sk-label:hover label.sk-toggleable__label {background-color: #d4ebff;}#sk-254d7182-22c7-4fbd-bdfe-3f798ff51bdf div.sk-serial::before {content: \"\";position: absolute;border-left: 1px solid gray;box-sizing: border-box;top: 2em;bottom: 0;left: 50%;}#sk-254d7182-22c7-4fbd-bdfe-3f798ff51bdf div.sk-serial {display: flex;flex-direction: column;align-items: center;background-color: white;padding-right: 0.2em;padding-left: 0.2em;}#sk-254d7182-22c7-4fbd-bdfe-3f798ff51bdf div.sk-item {z-index: 1;}#sk-254d7182-22c7-4fbd-bdfe-3f798ff51bdf div.sk-parallel {display: flex;align-items: stretch;justify-content: center;background-color: white;}#sk-254d7182-22c7-4fbd-bdfe-3f798ff51bdf div.sk-parallel::before {content: \"\";position: absolute;border-left: 1px solid gray;box-sizing: border-box;top: 2em;bottom: 0;left: 50%;}#sk-254d7182-22c7-4fbd-bdfe-3f798ff51bdf div.sk-parallel-item {display: flex;flex-direction: column;position: relative;background-color: white;}#sk-254d7182-22c7-4fbd-bdfe-3f798ff51bdf div.sk-parallel-item:first-child::after {align-self: flex-end;width: 50%;}#sk-254d7182-22c7-4fbd-bdfe-3f798ff51bdf div.sk-parallel-item:last-child::after {align-self: flex-start;width: 50%;}#sk-254d7182-22c7-4fbd-bdfe-3f798ff51bdf div.sk-parallel-item:only-child::after {width: 0;}#sk-254d7182-22c7-4fbd-bdfe-3f798ff51bdf div.sk-dashed-wrapped {border: 1px dashed gray;margin: 0 0.4em 0.5em 0.4em;box-sizing: border-box;padding-bottom: 0.4em;background-color: white;position: relative;}#sk-254d7182-22c7-4fbd-bdfe-3f798ff51bdf div.sk-label label {font-family: monospace;font-weight: bold;background-color: white;display: inline-block;line-height: 1.2em;}#sk-254d7182-22c7-4fbd-bdfe-3f798ff51bdf div.sk-label-container {position: relative;z-index: 2;text-align: center;}#sk-254d7182-22c7-4fbd-bdfe-3f798ff51bdf div.sk-container {/* jupyter's `normalize.less` sets `[hidden] { display: none; }` but bootstrap.min.css set `[hidden] { display: none !important; }` so we also need the `!important` here to be able to override the default hidden behavior on the sphinx rendered scikit-learn.org. See: https://github.com/scikit-learn/scikit-learn/issues/21755 */display: inline-block !important;position: relative;}#sk-254d7182-22c7-4fbd-bdfe-3f798ff51bdf div.sk-text-repr-fallback {display: none;}</style><div id=\"sk-254d7182-22c7-4fbd-bdfe-3f798ff51bdf\" class=\"sk-top-container\"><div class=\"sk-text-repr-fallback\"><pre>RandomForestRegressor(random_state=42)</pre><b>Please rerun this cell to show the HTML repr or trust the notebook.</b></div><div class=\"sk-container\" hidden><div class=\"sk-item\"><div class=\"sk-estimator sk-toggleable\"><input class=\"sk-toggleable__control sk-hidden--visually\" id=\"730c39d5-b2aa-41b7-a7ac-22523f7b335f\" type=\"checkbox\" checked><label for=\"730c39d5-b2aa-41b7-a7ac-22523f7b335f\" class=\"sk-toggleable__label sk-toggleable__label-arrow\">RandomForestRegressor</label><div class=\"sk-toggleable__content\"><pre>RandomForestRegressor(random_state=42)</pre></div></div></div></div></div>"
            ]
          },
          "metadata": {},
          "execution_count": 161
        }
      ]
    },
    {
      "cell_type": "code",
      "source": [
        "runforestrun.predict(X_test)"
      ],
      "metadata": {
        "colab": {
          "base_uri": "https://localhost:8080/"
        },
        "id": "L5MQLld_lWOZ",
        "outputId": "9b64b060-08f7-4660-e103-f73cee340977"
      },
      "execution_count": 163,
      "outputs": [
        {
          "output_type": "execute_result",
          "data": {
            "text/plain": [
              "array([22.986, 31.391, 19.003, 23.141, 16.213, 20.666, 18.768, 15.219,\n",
              "       21.251, 20.809, 20.253, 20.247,  8.237, 21.228, 19.717, 26.426,\n",
              "       19.432,  8.497, 46.203, 15.325, 23.637, 23.557, 14.31 , 24.344,\n",
              "       15.369, 13.575, 21.195, 13.96 , 18.668, 21.416, 19.64 , 23.35 ,\n",
              "       28.457, 21.533, 14.143, 16.065, 34.532, 19.198, 20.46 , 23.926,\n",
              "       18.542, 28.025, 45.118, 19.994, 22.885, 14.364, 15.116, 23.797,\n",
              "       17.815, 28.089, 21.717, 34.018, 16.448, 25.876, 44.673, 21.957,\n",
              "       16.028, 31.978, 21.921, 20.542, 26.234, 33.55 , 30.222, 19.88 ,\n",
              "       27.288, 16.302, 14.934, 22.961, 27.268, 17.147, 20.538, 30.51 ,\n",
              "       10.187, 21.264, 21.262,  7.225, 20.097, 46.97 , 12.082, 13.522,\n",
              "       22.008, 12.609, 20.435,  8.976, 20.58 , 27.007, 16.026, 23.329,\n",
              "       24.346, 17.787, 22.135,  7.881, 18.524, 20.042, 25.241, 19.298,\n",
              "       32.793, 13.215, 12.961, 12.98 , 19.742, 24.277, 13.176, 20.387,\n",
              "       21.179, 14.004, 19.233, 24.822, 20.402, 24.114,  9.165, 14.91 ,\n",
              "       22.71 , 22.94 , 33.579, 13.253, 42.467, 16.23 , 19.77 , 23.843,\n",
              "       20.293, 24.043,  7.276, 20.198, 24.069, 21.865, 24.371])"
            ]
          },
          "metadata": {},
          "execution_count": 163
        }
      ]
    },
    {
      "cell_type": "code",
      "source": [
        "runforestrun_train_score = runforestrun.score(X_train, y_train)\n",
        "runforestrun_test_score = runforestrun.score(X_test, y_test)\n",
        "print(f'Model Training score:{runforestrun_train_score}')\n",
        "print(f'Model Testing Score:{runforestrun_test_score}')"
      ],
      "metadata": {
        "colab": {
          "base_uri": "https://localhost:8080/"
        },
        "id": "F8ciLpjqlhae",
        "outputId": "85831b04-ae2a-4114-b9ef-cd0dbc83cef2"
      },
      "execution_count": 164,
      "outputs": [
        {
          "output_type": "stream",
          "name": "stdout",
          "text": [
            "Model Training score:0.9771342521069045\n",
            "Model Testing Score:0.8338530730048258\n"
          ]
        }
      ]
    },
    {
      "cell_type": "code",
      "source": [
        "estdep = [estimator.get_depth() for estimator in runforestrun.estimators_]\n",
        "max(estdep)"
      ],
      "metadata": {
        "colab": {
          "base_uri": "https://localhost:8080/"
        },
        "id": "k9tNUardlxKA",
        "outputId": "e8b06736-5d59-452f-c535-ef50545da4af"
      },
      "execution_count": 165,
      "outputs": [
        {
          "output_type": "execute_result",
          "data": {
            "text/plain": [
              "23"
            ]
          },
          "metadata": {},
          "execution_count": 165
        }
      ]
    },
    {
      "cell_type": "markdown",
      "source": [
        "Tune each model to optimize performance on the test set."
      ],
      "metadata": {
        "id": "uFSu34zT2WAU"
      }
    },
    {
      "cell_type": "code",
      "source": [
        "d_tree.get_params()"
      ],
      "metadata": {
        "colab": {
          "base_uri": "https://localhost:8080/"
        },
        "id": "tWZheVm8mVDm",
        "outputId": "be1e4775-b32d-425f-eb7f-718960e43394"
      },
      "execution_count": 167,
      "outputs": [
        {
          "output_type": "execute_result",
          "data": {
            "text/plain": [
              "{'ccp_alpha': 0.0,\n",
              " 'criterion': 'squared_error',\n",
              " 'max_depth': 19,\n",
              " 'max_features': None,\n",
              " 'max_leaf_nodes': None,\n",
              " 'min_impurity_decrease': 0.0,\n",
              " 'min_samples_leaf': 1,\n",
              " 'min_samples_split': 2,\n",
              " 'min_weight_fraction_leaf': 0.0,\n",
              " 'random_state': 42,\n",
              " 'splitter': 'best'}"
            ]
          },
          "metadata": {},
          "execution_count": 167
        }
      ]
    },
    {
      "cell_type": "code",
      "source": [
        "d_tree.get_depth()"
      ],
      "metadata": {
        "colab": {
          "base_uri": "https://localhost:8080/"
        },
        "id": "_Df66MYUmZEb",
        "outputId": "d96680d0-d163-4c7b-82e8-924ec796e3da"
      },
      "execution_count": 168,
      "outputs": [
        {
          "output_type": "execute_result",
          "data": {
            "text/plain": [
              "19"
            ]
          },
          "metadata": {},
          "execution_count": 168
        }
      ]
    },
    {
      "cell_type": "code",
      "source": [
        "d_tree.get_n_leaves()"
      ],
      "metadata": {
        "colab": {
          "base_uri": "https://localhost:8080/"
        },
        "id": "yapWI9fXmp_3",
        "outputId": "4cacce4c-40f4-4cc7-d284-41c8be19ad95"
      },
      "execution_count": 170,
      "outputs": [
        {
          "output_type": "execute_result",
          "data": {
            "text/plain": [
              "356"
            ]
          },
          "metadata": {},
          "execution_count": 170
        }
      ]
    },
    {
      "cell_type": "code",
      "source": [
        "runforestreg = RandomForestRegressor(max_depth = 9, random_state = 42)\n",
        "runforestreg.fit(X_train, y_train)\n",
        "runforestreg_train_score = runforestreg.score(X_train, y_train)\n",
        "runforestreg_test_score = runforestreg.score(X_test, y_test)\n",
        "print(runforestreg_train_score)\n",
        "print(runforestreg_test_score)"
      ],
      "metadata": {
        "colab": {
          "base_uri": "https://localhost:8080/"
        },
        "id": "wdU2uTjnm6Dx",
        "outputId": "c25fc1f1-70c0-464c-e0df-aab76800f7ff"
      },
      "execution_count": 172,
      "outputs": [
        {
          "output_type": "stream",
          "name": "stdout",
          "text": [
            "0.9708593696865943\n",
            "0.8288183588216603\n"
          ]
        }
      ]
    },
    {
      "cell_type": "code",
      "source": [
        "depthest = [estimator.get_depth() for estimator in runforestreg.estimators_]\n",
        "max(depthest)"
      ],
      "metadata": {
        "colab": {
          "base_uri": "https://localhost:8080/"
        },
        "id": "MjIIR6U1nT1g",
        "outputId": "433c5c0e-be13-4fda-e6a0-c68898643597"
      },
      "execution_count": 173,
      "outputs": [
        {
          "output_type": "execute_result",
          "data": {
            "text/plain": [
              "9"
            ]
          },
          "metadata": {},
          "execution_count": 173
        }
      ]
    },
    {
      "cell_type": "markdown",
      "source": [
        " Explain in a text cell how your model will perform if deployed by referring to the metrics."
      ],
      "metadata": {
        "id": "C4yS3qnK1nLd"
      }
    },
    {
      "cell_type": "markdown",
      "source": [
        "*based on my metrics i felt that the model will perform accurately*"
      ],
      "metadata": {
        "id": "KhE0_i311yo9"
      }
    }
  ]
}