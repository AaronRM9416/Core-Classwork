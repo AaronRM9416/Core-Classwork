{
  "nbformat": 4,
  "nbformat_minor": 0,
  "metadata": {
    "colab": {
      "provenance": [],
      "collapsed_sections": [],
      "authorship_tag": "ABX9TyNPnl7et662EAlv2STqB3EW",
      "include_colab_link": true
    },
    "kernelspec": {
      "name": "python3",
      "display_name": "Python 3"
    },
    "language_info": {
      "name": "python"
    }
  },
  "cells": [
    {
      "cell_type": "markdown",
      "metadata": {
        "id": "view-in-github",
        "colab_type": "text"
      },
      "source": [
        "<a href=\"https://colab.research.google.com/github/AaronRM9416/Core-Classwork/blob/main/PCA.ipynb\" target=\"_parent\"><img src=\"https://colab.research.google.com/assets/colab-badge.svg\" alt=\"Open In Colab\"/></a>"
      ]
    },
    {
      "cell_type": "markdown",
      "source": [
        "Aaron Musselwhite\n",
        "\n",
        "9/22/22"
      ],
      "metadata": {
        "id": "F-a2ISYDCRmO"
      }
    },
    {
      "cell_type": "code",
      "source": [
        "# Imports\n",
        "import numpy as np\n",
        "import matplotlib.pyplot as plt\n",
        "import pandas as pd\n",
        "from sklearn.preprocessing import LabelEncoder, StandardScaler\n",
        "from sklearn.decomposition import PCA\n",
        "from sklearn.neighbors import KNeighborsClassifier\n",
        "from sklearn.pipeline import make_pipeline\n",
        "from sklearn.model_selection import train_test_split\n",
        "from sklearn.linear_model import LogisticRegression\n",
        "from sklearn import set_config"
      ],
      "metadata": {
        "id": "LlLV-SKDR71K"
      },
      "execution_count": null,
      "outputs": []
    },
    {
      "cell_type": "markdown",
      "source": [
        "# 1. Load the Data"
      ],
      "metadata": {
        "id": "41eIjLMuBY05"
      }
    },
    {
      "cell_type": "code",
      "execution_count": null,
      "metadata": {
        "id": "7UnGiC68ROdu"
      },
      "outputs": [],
      "source": [
        "from keras.datasets import mnist\n",
        "# load data\n",
        "(X_train, y_train), (X_test, y_test) = mnist.load_data()\n",
        "# reshape data\n",
        "X_train = X_train.reshape(X_train.shape[0], -1)\n",
        "X_test = X_test.reshape(X_test.shape[0], -1)"
      ]
    },
    {
      "cell_type": "markdown",
      "source": [
        "# 2. Prepare the Data"
      ],
      "metadata": {
        "id": "qY0XrJTOBj1m"
      }
    },
    {
      "cell_type": "code",
      "source": [
        "scale = StandardScaler()\n",
        "scale_df = scale.fit_transform(X_train)"
      ],
      "metadata": {
        "id": "50E_3SjQTKLY"
      },
      "execution_count": null,
      "outputs": []
    },
    {
      "cell_type": "code",
      "source": [
        "pca = PCA(n_components=.95)\n",
        "pcas = pca.fit_transform(scale_df)"
      ],
      "metadata": {
        "id": "ikPMED3qT_Xk"
      },
      "execution_count": null,
      "outputs": []
    },
    {
      "cell_type": "markdown",
      "source": [
        "# 3. Create 2 KNN models. "
      ],
      "metadata": {
        "id": "CHHF0g6UBrj0"
      }
    },
    {
      "cell_type": "code",
      "source": [
        "knn = KNeighborsClassifier(n_neighbors=1)"
      ],
      "metadata": {
        "id": "6tsct136UJAr"
      },
      "execution_count": null,
      "outputs": []
    },
    {
      "cell_type": "code",
      "source": [
        "knn_pca_pipe = make_pipeline(scale, pca, knn)\n",
        "knn_pca_pipe"
      ],
      "metadata": {
        "colab": {
          "base_uri": "https://localhost:8080/",
          "height": 161
        },
        "id": "lz35mRLoYC6d",
        "outputId": "28c6d6da-a894-484d-a0b4-daaea76d1391"
      },
      "execution_count": null,
      "outputs": [
        {
          "output_type": "execute_result",
          "data": {
            "text/plain": [
              "Pipeline(steps=[('standardscaler', StandardScaler()),\n",
              "                ('pca', PCA(n_components=0.95)),\n",
              "                ('kneighborsclassifier', KNeighborsClassifier(n_neighbors=1))])"
            ],
            "text/html": [
              "<style>#sk-cbd1fd9a-b492-447f-8d4e-e299596498a2 {color: black;background-color: white;}#sk-cbd1fd9a-b492-447f-8d4e-e299596498a2 pre{padding: 0;}#sk-cbd1fd9a-b492-447f-8d4e-e299596498a2 div.sk-toggleable {background-color: white;}#sk-cbd1fd9a-b492-447f-8d4e-e299596498a2 label.sk-toggleable__label {cursor: pointer;display: block;width: 100%;margin-bottom: 0;padding: 0.3em;box-sizing: border-box;text-align: center;}#sk-cbd1fd9a-b492-447f-8d4e-e299596498a2 label.sk-toggleable__label-arrow:before {content: \"▸\";float: left;margin-right: 0.25em;color: #696969;}#sk-cbd1fd9a-b492-447f-8d4e-e299596498a2 label.sk-toggleable__label-arrow:hover:before {color: black;}#sk-cbd1fd9a-b492-447f-8d4e-e299596498a2 div.sk-estimator:hover label.sk-toggleable__label-arrow:before {color: black;}#sk-cbd1fd9a-b492-447f-8d4e-e299596498a2 div.sk-toggleable__content {max-height: 0;max-width: 0;overflow: hidden;text-align: left;background-color: #f0f8ff;}#sk-cbd1fd9a-b492-447f-8d4e-e299596498a2 div.sk-toggleable__content pre {margin: 0.2em;color: black;border-radius: 0.25em;background-color: #f0f8ff;}#sk-cbd1fd9a-b492-447f-8d4e-e299596498a2 input.sk-toggleable__control:checked~div.sk-toggleable__content {max-height: 200px;max-width: 100%;overflow: auto;}#sk-cbd1fd9a-b492-447f-8d4e-e299596498a2 input.sk-toggleable__control:checked~label.sk-toggleable__label-arrow:before {content: \"▾\";}#sk-cbd1fd9a-b492-447f-8d4e-e299596498a2 div.sk-estimator input.sk-toggleable__control:checked~label.sk-toggleable__label {background-color: #d4ebff;}#sk-cbd1fd9a-b492-447f-8d4e-e299596498a2 div.sk-label input.sk-toggleable__control:checked~label.sk-toggleable__label {background-color: #d4ebff;}#sk-cbd1fd9a-b492-447f-8d4e-e299596498a2 input.sk-hidden--visually {border: 0;clip: rect(1px 1px 1px 1px);clip: rect(1px, 1px, 1px, 1px);height: 1px;margin: -1px;overflow: hidden;padding: 0;position: absolute;width: 1px;}#sk-cbd1fd9a-b492-447f-8d4e-e299596498a2 div.sk-estimator {font-family: monospace;background-color: #f0f8ff;border: 1px dotted black;border-radius: 0.25em;box-sizing: border-box;margin-bottom: 0.5em;}#sk-cbd1fd9a-b492-447f-8d4e-e299596498a2 div.sk-estimator:hover {background-color: #d4ebff;}#sk-cbd1fd9a-b492-447f-8d4e-e299596498a2 div.sk-parallel-item::after {content: \"\";width: 100%;border-bottom: 1px solid gray;flex-grow: 1;}#sk-cbd1fd9a-b492-447f-8d4e-e299596498a2 div.sk-label:hover label.sk-toggleable__label {background-color: #d4ebff;}#sk-cbd1fd9a-b492-447f-8d4e-e299596498a2 div.sk-serial::before {content: \"\";position: absolute;border-left: 1px solid gray;box-sizing: border-box;top: 2em;bottom: 0;left: 50%;}#sk-cbd1fd9a-b492-447f-8d4e-e299596498a2 div.sk-serial {display: flex;flex-direction: column;align-items: center;background-color: white;padding-right: 0.2em;padding-left: 0.2em;}#sk-cbd1fd9a-b492-447f-8d4e-e299596498a2 div.sk-item {z-index: 1;}#sk-cbd1fd9a-b492-447f-8d4e-e299596498a2 div.sk-parallel {display: flex;align-items: stretch;justify-content: center;background-color: white;}#sk-cbd1fd9a-b492-447f-8d4e-e299596498a2 div.sk-parallel::before {content: \"\";position: absolute;border-left: 1px solid gray;box-sizing: border-box;top: 2em;bottom: 0;left: 50%;}#sk-cbd1fd9a-b492-447f-8d4e-e299596498a2 div.sk-parallel-item {display: flex;flex-direction: column;position: relative;background-color: white;}#sk-cbd1fd9a-b492-447f-8d4e-e299596498a2 div.sk-parallel-item:first-child::after {align-self: flex-end;width: 50%;}#sk-cbd1fd9a-b492-447f-8d4e-e299596498a2 div.sk-parallel-item:last-child::after {align-self: flex-start;width: 50%;}#sk-cbd1fd9a-b492-447f-8d4e-e299596498a2 div.sk-parallel-item:only-child::after {width: 0;}#sk-cbd1fd9a-b492-447f-8d4e-e299596498a2 div.sk-dashed-wrapped {border: 1px dashed gray;margin: 0 0.4em 0.5em 0.4em;box-sizing: border-box;padding-bottom: 0.4em;background-color: white;position: relative;}#sk-cbd1fd9a-b492-447f-8d4e-e299596498a2 div.sk-label label {font-family: monospace;font-weight: bold;background-color: white;display: inline-block;line-height: 1.2em;}#sk-cbd1fd9a-b492-447f-8d4e-e299596498a2 div.sk-label-container {position: relative;z-index: 2;text-align: center;}#sk-cbd1fd9a-b492-447f-8d4e-e299596498a2 div.sk-container {/* jupyter's `normalize.less` sets `[hidden] { display: none; }` but bootstrap.min.css set `[hidden] { display: none !important; }` so we also need the `!important` here to be able to override the default hidden behavior on the sphinx rendered scikit-learn.org. See: https://github.com/scikit-learn/scikit-learn/issues/21755 */display: inline-block !important;position: relative;}#sk-cbd1fd9a-b492-447f-8d4e-e299596498a2 div.sk-text-repr-fallback {display: none;}</style><div id=\"sk-cbd1fd9a-b492-447f-8d4e-e299596498a2\" class=\"sk-top-container\"><div class=\"sk-text-repr-fallback\"><pre>Pipeline(steps=[(&#x27;standardscaler&#x27;, StandardScaler()),\n",
              "                (&#x27;pca&#x27;, PCA(n_components=0.95)),\n",
              "                (&#x27;kneighborsclassifier&#x27;, KNeighborsClassifier(n_neighbors=1))])</pre><b>Please rerun this cell to show the HTML repr or trust the notebook.</b></div><div class=\"sk-container\" hidden><div class=\"sk-item sk-dashed-wrapped\"><div class=\"sk-label-container\"><div class=\"sk-label sk-toggleable\"><input class=\"sk-toggleable__control sk-hidden--visually\" id=\"619cb4d1-a81f-4d9a-bc6a-c605ad5a4ccf\" type=\"checkbox\" ><label for=\"619cb4d1-a81f-4d9a-bc6a-c605ad5a4ccf\" class=\"sk-toggleable__label sk-toggleable__label-arrow\">Pipeline</label><div class=\"sk-toggleable__content\"><pre>Pipeline(steps=[(&#x27;standardscaler&#x27;, StandardScaler()),\n",
              "                (&#x27;pca&#x27;, PCA(n_components=0.95)),\n",
              "                (&#x27;kneighborsclassifier&#x27;, KNeighborsClassifier(n_neighbors=1))])</pre></div></div></div><div class=\"sk-serial\"><div class=\"sk-item\"><div class=\"sk-estimator sk-toggleable\"><input class=\"sk-toggleable__control sk-hidden--visually\" id=\"18ba0348-9294-4644-8b94-3d642459b7c8\" type=\"checkbox\" ><label for=\"18ba0348-9294-4644-8b94-3d642459b7c8\" class=\"sk-toggleable__label sk-toggleable__label-arrow\">StandardScaler</label><div class=\"sk-toggleable__content\"><pre>StandardScaler()</pre></div></div></div><div class=\"sk-item\"><div class=\"sk-estimator sk-toggleable\"><input class=\"sk-toggleable__control sk-hidden--visually\" id=\"d4e7993e-f114-4374-a1b1-0eeecdeaf497\" type=\"checkbox\" ><label for=\"d4e7993e-f114-4374-a1b1-0eeecdeaf497\" class=\"sk-toggleable__label sk-toggleable__label-arrow\">PCA</label><div class=\"sk-toggleable__content\"><pre>PCA(n_components=0.95)</pre></div></div></div><div class=\"sk-item\"><div class=\"sk-estimator sk-toggleable\"><input class=\"sk-toggleable__control sk-hidden--visually\" id=\"935e869b-8b0d-45f8-a6a3-d11252db8934\" type=\"checkbox\" ><label for=\"935e869b-8b0d-45f8-a6a3-d11252db8934\" class=\"sk-toggleable__label sk-toggleable__label-arrow\">KNeighborsClassifier</label><div class=\"sk-toggleable__content\"><pre>KNeighborsClassifier(n_neighbors=1)</pre></div></div></div></div></div></div></div>"
            ]
          },
          "metadata": {},
          "execution_count": 75
        }
      ]
    },
    {
      "cell_type": "code",
      "source": [
        "#fitting the model\n",
        "knn_pca_pipe.fit(X_train, y_train)"
      ],
      "metadata": {
        "colab": {
          "base_uri": "https://localhost:8080/",
          "height": 161
        },
        "id": "wjP3nJNCYFPO",
        "outputId": "2db8558c-8b57-4d6d-ff5a-8f50f6d8eae9"
      },
      "execution_count": null,
      "outputs": [
        {
          "output_type": "execute_result",
          "data": {
            "text/plain": [
              "Pipeline(steps=[('standardscaler', StandardScaler()),\n",
              "                ('pca', PCA(n_components=0.95)),\n",
              "                ('kneighborsclassifier', KNeighborsClassifier(n_neighbors=1))])"
            ],
            "text/html": [
              "<style>#sk-1375c795-a883-4f20-a51e-9f4e37b18486 {color: black;background-color: white;}#sk-1375c795-a883-4f20-a51e-9f4e37b18486 pre{padding: 0;}#sk-1375c795-a883-4f20-a51e-9f4e37b18486 div.sk-toggleable {background-color: white;}#sk-1375c795-a883-4f20-a51e-9f4e37b18486 label.sk-toggleable__label {cursor: pointer;display: block;width: 100%;margin-bottom: 0;padding: 0.3em;box-sizing: border-box;text-align: center;}#sk-1375c795-a883-4f20-a51e-9f4e37b18486 label.sk-toggleable__label-arrow:before {content: \"▸\";float: left;margin-right: 0.25em;color: #696969;}#sk-1375c795-a883-4f20-a51e-9f4e37b18486 label.sk-toggleable__label-arrow:hover:before {color: black;}#sk-1375c795-a883-4f20-a51e-9f4e37b18486 div.sk-estimator:hover label.sk-toggleable__label-arrow:before {color: black;}#sk-1375c795-a883-4f20-a51e-9f4e37b18486 div.sk-toggleable__content {max-height: 0;max-width: 0;overflow: hidden;text-align: left;background-color: #f0f8ff;}#sk-1375c795-a883-4f20-a51e-9f4e37b18486 div.sk-toggleable__content pre {margin: 0.2em;color: black;border-radius: 0.25em;background-color: #f0f8ff;}#sk-1375c795-a883-4f20-a51e-9f4e37b18486 input.sk-toggleable__control:checked~div.sk-toggleable__content {max-height: 200px;max-width: 100%;overflow: auto;}#sk-1375c795-a883-4f20-a51e-9f4e37b18486 input.sk-toggleable__control:checked~label.sk-toggleable__label-arrow:before {content: \"▾\";}#sk-1375c795-a883-4f20-a51e-9f4e37b18486 div.sk-estimator input.sk-toggleable__control:checked~label.sk-toggleable__label {background-color: #d4ebff;}#sk-1375c795-a883-4f20-a51e-9f4e37b18486 div.sk-label input.sk-toggleable__control:checked~label.sk-toggleable__label {background-color: #d4ebff;}#sk-1375c795-a883-4f20-a51e-9f4e37b18486 input.sk-hidden--visually {border: 0;clip: rect(1px 1px 1px 1px);clip: rect(1px, 1px, 1px, 1px);height: 1px;margin: -1px;overflow: hidden;padding: 0;position: absolute;width: 1px;}#sk-1375c795-a883-4f20-a51e-9f4e37b18486 div.sk-estimator {font-family: monospace;background-color: #f0f8ff;border: 1px dotted black;border-radius: 0.25em;box-sizing: border-box;margin-bottom: 0.5em;}#sk-1375c795-a883-4f20-a51e-9f4e37b18486 div.sk-estimator:hover {background-color: #d4ebff;}#sk-1375c795-a883-4f20-a51e-9f4e37b18486 div.sk-parallel-item::after {content: \"\";width: 100%;border-bottom: 1px solid gray;flex-grow: 1;}#sk-1375c795-a883-4f20-a51e-9f4e37b18486 div.sk-label:hover label.sk-toggleable__label {background-color: #d4ebff;}#sk-1375c795-a883-4f20-a51e-9f4e37b18486 div.sk-serial::before {content: \"\";position: absolute;border-left: 1px solid gray;box-sizing: border-box;top: 2em;bottom: 0;left: 50%;}#sk-1375c795-a883-4f20-a51e-9f4e37b18486 div.sk-serial {display: flex;flex-direction: column;align-items: center;background-color: white;padding-right: 0.2em;padding-left: 0.2em;}#sk-1375c795-a883-4f20-a51e-9f4e37b18486 div.sk-item {z-index: 1;}#sk-1375c795-a883-4f20-a51e-9f4e37b18486 div.sk-parallel {display: flex;align-items: stretch;justify-content: center;background-color: white;}#sk-1375c795-a883-4f20-a51e-9f4e37b18486 div.sk-parallel::before {content: \"\";position: absolute;border-left: 1px solid gray;box-sizing: border-box;top: 2em;bottom: 0;left: 50%;}#sk-1375c795-a883-4f20-a51e-9f4e37b18486 div.sk-parallel-item {display: flex;flex-direction: column;position: relative;background-color: white;}#sk-1375c795-a883-4f20-a51e-9f4e37b18486 div.sk-parallel-item:first-child::after {align-self: flex-end;width: 50%;}#sk-1375c795-a883-4f20-a51e-9f4e37b18486 div.sk-parallel-item:last-child::after {align-self: flex-start;width: 50%;}#sk-1375c795-a883-4f20-a51e-9f4e37b18486 div.sk-parallel-item:only-child::after {width: 0;}#sk-1375c795-a883-4f20-a51e-9f4e37b18486 div.sk-dashed-wrapped {border: 1px dashed gray;margin: 0 0.4em 0.5em 0.4em;box-sizing: border-box;padding-bottom: 0.4em;background-color: white;position: relative;}#sk-1375c795-a883-4f20-a51e-9f4e37b18486 div.sk-label label {font-family: monospace;font-weight: bold;background-color: white;display: inline-block;line-height: 1.2em;}#sk-1375c795-a883-4f20-a51e-9f4e37b18486 div.sk-label-container {position: relative;z-index: 2;text-align: center;}#sk-1375c795-a883-4f20-a51e-9f4e37b18486 div.sk-container {/* jupyter's `normalize.less` sets `[hidden] { display: none; }` but bootstrap.min.css set `[hidden] { display: none !important; }` so we also need the `!important` here to be able to override the default hidden behavior on the sphinx rendered scikit-learn.org. See: https://github.com/scikit-learn/scikit-learn/issues/21755 */display: inline-block !important;position: relative;}#sk-1375c795-a883-4f20-a51e-9f4e37b18486 div.sk-text-repr-fallback {display: none;}</style><div id=\"sk-1375c795-a883-4f20-a51e-9f4e37b18486\" class=\"sk-top-container\"><div class=\"sk-text-repr-fallback\"><pre>Pipeline(steps=[(&#x27;standardscaler&#x27;, StandardScaler()),\n",
              "                (&#x27;pca&#x27;, PCA(n_components=0.95)),\n",
              "                (&#x27;kneighborsclassifier&#x27;, KNeighborsClassifier(n_neighbors=1))])</pre><b>Please rerun this cell to show the HTML repr or trust the notebook.</b></div><div class=\"sk-container\" hidden><div class=\"sk-item sk-dashed-wrapped\"><div class=\"sk-label-container\"><div class=\"sk-label sk-toggleable\"><input class=\"sk-toggleable__control sk-hidden--visually\" id=\"cceb8646-2346-47c4-8c8e-72f365b7937f\" type=\"checkbox\" ><label for=\"cceb8646-2346-47c4-8c8e-72f365b7937f\" class=\"sk-toggleable__label sk-toggleable__label-arrow\">Pipeline</label><div class=\"sk-toggleable__content\"><pre>Pipeline(steps=[(&#x27;standardscaler&#x27;, StandardScaler()),\n",
              "                (&#x27;pca&#x27;, PCA(n_components=0.95)),\n",
              "                (&#x27;kneighborsclassifier&#x27;, KNeighborsClassifier(n_neighbors=1))])</pre></div></div></div><div class=\"sk-serial\"><div class=\"sk-item\"><div class=\"sk-estimator sk-toggleable\"><input class=\"sk-toggleable__control sk-hidden--visually\" id=\"b562af19-c932-4fe5-afa9-ef7fd148a437\" type=\"checkbox\" ><label for=\"b562af19-c932-4fe5-afa9-ef7fd148a437\" class=\"sk-toggleable__label sk-toggleable__label-arrow\">StandardScaler</label><div class=\"sk-toggleable__content\"><pre>StandardScaler()</pre></div></div></div><div class=\"sk-item\"><div class=\"sk-estimator sk-toggleable\"><input class=\"sk-toggleable__control sk-hidden--visually\" id=\"e3a37a4e-0a95-4a71-ba2b-b684c0e797d9\" type=\"checkbox\" ><label for=\"e3a37a4e-0a95-4a71-ba2b-b684c0e797d9\" class=\"sk-toggleable__label sk-toggleable__label-arrow\">PCA</label><div class=\"sk-toggleable__content\"><pre>PCA(n_components=0.95)</pre></div></div></div><div class=\"sk-item\"><div class=\"sk-estimator sk-toggleable\"><input class=\"sk-toggleable__control sk-hidden--visually\" id=\"89063b70-b1c9-4cb8-8eb4-f32d790b0a62\" type=\"checkbox\" ><label for=\"89063b70-b1c9-4cb8-8eb4-f32d790b0a62\" class=\"sk-toggleable__label sk-toggleable__label-arrow\">KNeighborsClassifier</label><div class=\"sk-toggleable__content\"><pre>KNeighborsClassifier(n_neighbors=1)</pre></div></div></div></div></div></div></div>"
            ]
          },
          "metadata": {},
          "execution_count": 76
        }
      ]
    },
    {
      "cell_type": "markdown",
      "source": [
        "# 4. Evaluate and compare the models.  "
      ],
      "metadata": {
        "id": "UiTBXMyZBuwm"
      }
    },
    {
      "cell_type": "code",
      "source": [],
      "metadata": {
        "id": "8zAG1tcNCOsg"
      },
      "execution_count": null,
      "outputs": []
    },
    {
      "cell_type": "code",
      "source": [
        "# non PCA model\n",
        "knn_pipe= make_pipeline(scale, knn)"
      ],
      "metadata": {
        "id": "u__z6Ks7YIDj"
      },
      "execution_count": null,
      "outputs": []
    },
    {
      "cell_type": "code",
      "source": [
        "#fitting the model\n",
        "knn_pipe.fit(X_train, y_train)"
      ],
      "metadata": {
        "colab": {
          "base_uri": "https://localhost:8080/",
          "height": 126
        },
        "id": "CXtHK4IuYJvc",
        "outputId": "6830a819-0a97-4d45-9097-98c74187878d"
      },
      "execution_count": null,
      "outputs": [
        {
          "output_type": "execute_result",
          "data": {
            "text/plain": [
              "Pipeline(steps=[('standardscaler', StandardScaler()),\n",
              "                ('kneighborsclassifier', KNeighborsClassifier(n_neighbors=1))])"
            ],
            "text/html": [
              "<style>#sk-de4b2157-7726-481a-a237-04f29bc1153a {color: black;background-color: white;}#sk-de4b2157-7726-481a-a237-04f29bc1153a pre{padding: 0;}#sk-de4b2157-7726-481a-a237-04f29bc1153a div.sk-toggleable {background-color: white;}#sk-de4b2157-7726-481a-a237-04f29bc1153a label.sk-toggleable__label {cursor: pointer;display: block;width: 100%;margin-bottom: 0;padding: 0.3em;box-sizing: border-box;text-align: center;}#sk-de4b2157-7726-481a-a237-04f29bc1153a label.sk-toggleable__label-arrow:before {content: \"▸\";float: left;margin-right: 0.25em;color: #696969;}#sk-de4b2157-7726-481a-a237-04f29bc1153a label.sk-toggleable__label-arrow:hover:before {color: black;}#sk-de4b2157-7726-481a-a237-04f29bc1153a div.sk-estimator:hover label.sk-toggleable__label-arrow:before {color: black;}#sk-de4b2157-7726-481a-a237-04f29bc1153a div.sk-toggleable__content {max-height: 0;max-width: 0;overflow: hidden;text-align: left;background-color: #f0f8ff;}#sk-de4b2157-7726-481a-a237-04f29bc1153a div.sk-toggleable__content pre {margin: 0.2em;color: black;border-radius: 0.25em;background-color: #f0f8ff;}#sk-de4b2157-7726-481a-a237-04f29bc1153a input.sk-toggleable__control:checked~div.sk-toggleable__content {max-height: 200px;max-width: 100%;overflow: auto;}#sk-de4b2157-7726-481a-a237-04f29bc1153a input.sk-toggleable__control:checked~label.sk-toggleable__label-arrow:before {content: \"▾\";}#sk-de4b2157-7726-481a-a237-04f29bc1153a div.sk-estimator input.sk-toggleable__control:checked~label.sk-toggleable__label {background-color: #d4ebff;}#sk-de4b2157-7726-481a-a237-04f29bc1153a div.sk-label input.sk-toggleable__control:checked~label.sk-toggleable__label {background-color: #d4ebff;}#sk-de4b2157-7726-481a-a237-04f29bc1153a input.sk-hidden--visually {border: 0;clip: rect(1px 1px 1px 1px);clip: rect(1px, 1px, 1px, 1px);height: 1px;margin: -1px;overflow: hidden;padding: 0;position: absolute;width: 1px;}#sk-de4b2157-7726-481a-a237-04f29bc1153a div.sk-estimator {font-family: monospace;background-color: #f0f8ff;border: 1px dotted black;border-radius: 0.25em;box-sizing: border-box;margin-bottom: 0.5em;}#sk-de4b2157-7726-481a-a237-04f29bc1153a div.sk-estimator:hover {background-color: #d4ebff;}#sk-de4b2157-7726-481a-a237-04f29bc1153a div.sk-parallel-item::after {content: \"\";width: 100%;border-bottom: 1px solid gray;flex-grow: 1;}#sk-de4b2157-7726-481a-a237-04f29bc1153a div.sk-label:hover label.sk-toggleable__label {background-color: #d4ebff;}#sk-de4b2157-7726-481a-a237-04f29bc1153a div.sk-serial::before {content: \"\";position: absolute;border-left: 1px solid gray;box-sizing: border-box;top: 2em;bottom: 0;left: 50%;}#sk-de4b2157-7726-481a-a237-04f29bc1153a div.sk-serial {display: flex;flex-direction: column;align-items: center;background-color: white;padding-right: 0.2em;padding-left: 0.2em;}#sk-de4b2157-7726-481a-a237-04f29bc1153a div.sk-item {z-index: 1;}#sk-de4b2157-7726-481a-a237-04f29bc1153a div.sk-parallel {display: flex;align-items: stretch;justify-content: center;background-color: white;}#sk-de4b2157-7726-481a-a237-04f29bc1153a div.sk-parallel::before {content: \"\";position: absolute;border-left: 1px solid gray;box-sizing: border-box;top: 2em;bottom: 0;left: 50%;}#sk-de4b2157-7726-481a-a237-04f29bc1153a div.sk-parallel-item {display: flex;flex-direction: column;position: relative;background-color: white;}#sk-de4b2157-7726-481a-a237-04f29bc1153a div.sk-parallel-item:first-child::after {align-self: flex-end;width: 50%;}#sk-de4b2157-7726-481a-a237-04f29bc1153a div.sk-parallel-item:last-child::after {align-self: flex-start;width: 50%;}#sk-de4b2157-7726-481a-a237-04f29bc1153a div.sk-parallel-item:only-child::after {width: 0;}#sk-de4b2157-7726-481a-a237-04f29bc1153a div.sk-dashed-wrapped {border: 1px dashed gray;margin: 0 0.4em 0.5em 0.4em;box-sizing: border-box;padding-bottom: 0.4em;background-color: white;position: relative;}#sk-de4b2157-7726-481a-a237-04f29bc1153a div.sk-label label {font-family: monospace;font-weight: bold;background-color: white;display: inline-block;line-height: 1.2em;}#sk-de4b2157-7726-481a-a237-04f29bc1153a div.sk-label-container {position: relative;z-index: 2;text-align: center;}#sk-de4b2157-7726-481a-a237-04f29bc1153a div.sk-container {/* jupyter's `normalize.less` sets `[hidden] { display: none; }` but bootstrap.min.css set `[hidden] { display: none !important; }` so we also need the `!important` here to be able to override the default hidden behavior on the sphinx rendered scikit-learn.org. See: https://github.com/scikit-learn/scikit-learn/issues/21755 */display: inline-block !important;position: relative;}#sk-de4b2157-7726-481a-a237-04f29bc1153a div.sk-text-repr-fallback {display: none;}</style><div id=\"sk-de4b2157-7726-481a-a237-04f29bc1153a\" class=\"sk-top-container\"><div class=\"sk-text-repr-fallback\"><pre>Pipeline(steps=[(&#x27;standardscaler&#x27;, StandardScaler()),\n",
              "                (&#x27;kneighborsclassifier&#x27;, KNeighborsClassifier(n_neighbors=1))])</pre><b>Please rerun this cell to show the HTML repr or trust the notebook.</b></div><div class=\"sk-container\" hidden><div class=\"sk-item sk-dashed-wrapped\"><div class=\"sk-label-container\"><div class=\"sk-label sk-toggleable\"><input class=\"sk-toggleable__control sk-hidden--visually\" id=\"d6c40f1b-503d-4a38-b9fb-bda9afac52f6\" type=\"checkbox\" ><label for=\"d6c40f1b-503d-4a38-b9fb-bda9afac52f6\" class=\"sk-toggleable__label sk-toggleable__label-arrow\">Pipeline</label><div class=\"sk-toggleable__content\"><pre>Pipeline(steps=[(&#x27;standardscaler&#x27;, StandardScaler()),\n",
              "                (&#x27;kneighborsclassifier&#x27;, KNeighborsClassifier(n_neighbors=1))])</pre></div></div></div><div class=\"sk-serial\"><div class=\"sk-item\"><div class=\"sk-estimator sk-toggleable\"><input class=\"sk-toggleable__control sk-hidden--visually\" id=\"2c533802-6beb-43b7-be1b-86bd119b00e4\" type=\"checkbox\" ><label for=\"2c533802-6beb-43b7-be1b-86bd119b00e4\" class=\"sk-toggleable__label sk-toggleable__label-arrow\">StandardScaler</label><div class=\"sk-toggleable__content\"><pre>StandardScaler()</pre></div></div></div><div class=\"sk-item\"><div class=\"sk-estimator sk-toggleable\"><input class=\"sk-toggleable__control sk-hidden--visually\" id=\"fb74ff39-791f-438f-8e2a-f636df4d05de\" type=\"checkbox\" ><label for=\"fb74ff39-791f-438f-8e2a-f636df4d05de\" class=\"sk-toggleable__label sk-toggleable__label-arrow\">KNeighborsClassifier</label><div class=\"sk-toggleable__content\"><pre>KNeighborsClassifier(n_neighbors=1)</pre></div></div></div></div></div></div></div>"
            ]
          },
          "metadata": {},
          "execution_count": 78
        }
      ]
    },
    {
      "cell_type": "code",
      "source": [
        "%%time\n",
        "knnNoPCA = knn_pipe.predict(X_test)\n",
        "knnNoPCA"
      ],
      "metadata": {
        "colab": {
          "base_uri": "https://localhost:8080/"
        },
        "id": "mrXDZsTrYQYL",
        "outputId": "df95e768-cb65-4f5d-8e3e-52cb9d748445"
      },
      "execution_count": null,
      "outputs": [
        {
          "output_type": "stream",
          "name": "stdout",
          "text": [
            "CPU times: user 47.7 s, sys: 1.86 s, total: 49.6 s\n",
            "Wall time: 27.5 s\n"
          ]
        },
        {
          "output_type": "execute_result",
          "data": {
            "text/plain": [
              "array([7, 2, 1, ..., 4, 5, 6], dtype=uint8)"
            ]
          },
          "metadata": {},
          "execution_count": 79
        }
      ]
    },
    {
      "cell_type": "code",
      "source": [
        "%%time\n",
        "knnPCA = knn_pca_pipe.predict(X_test)\n",
        "knnPCA"
      ],
      "metadata": {
        "colab": {
          "base_uri": "https://localhost:8080/"
        },
        "id": "04fuIOhGYVFD",
        "outputId": "c6c5f8a8-5514-468d-cbc9-998407072f75"
      },
      "execution_count": null,
      "outputs": [
        {
          "output_type": "stream",
          "name": "stdout",
          "text": [
            "CPU times: user 23.1 s, sys: 1.28 s, total: 24.3 s\n",
            "Wall time: 13.9 s\n"
          ]
        },
        {
          "output_type": "execute_result",
          "data": {
            "text/plain": [
              "array([7, 2, 1, ..., 4, 5, 6], dtype=uint8)"
            ]
          },
          "metadata": {},
          "execution_count": 64
        }
      ]
    },
    {
      "cell_type": "markdown",
      "source": [
        "# 5. Answer the Following Questions in Text:\n",
        "   \n",
        "   a. Which model performed the best on the test set?\n",
        "\n",
        "   b. Which model was the fastest at making predictions?"
      ],
      "metadata": {
        "id": "sqr6-IzPB1J3"
      }
    },
    {
      "cell_type": "markdown",
      "source": [
        "The pca was the fastest but the non pca worked the smoothest"
      ],
      "metadata": {
        "id": "eW0Xd2j3B4tH"
      }
    }
  ]
}